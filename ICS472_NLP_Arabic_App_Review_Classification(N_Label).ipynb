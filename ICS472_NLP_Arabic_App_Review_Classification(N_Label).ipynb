{
  "cells": [
    {
      "cell_type": "markdown",
      "metadata": {
        "id": "view-in-github",
        "colab_type": "text"
      },
      "source": [
        "<a href=\"https://colab.research.google.com/github/faiz-aljohani/Arabic-App-Review-Classification/blob/main/ICS472_NLP_Arabic_App_Review_Classification(N_Label).ipynb\" target=\"_parent\"><img src=\"https://colab.research.google.com/assets/colab-badge.svg\" alt=\"Open In Colab\"/></a>"
      ]
    },
    {
      "cell_type": "markdown",
      "metadata": {
        "id": "KnAPPiwR7R1U"
      },
      "source": [
        "# Part-B [65 points]:\n",
        " Multiclass and Multilabel App Review Classification"
      ]
    },
    {
      "cell_type": "markdown",
      "metadata": {
        "id": "P0fHU09I7Y5S"
      },
      "source": [
        "## Setup & Load Dataset"
      ]
    },
    {
      "cell_type": "code",
      "source": [
        "!pip install gensim\n",
        "!pip install keras-tuner"
      ],
      "metadata": {
        "colab": {
          "base_uri": "https://localhost:8080/"
        },
        "id": "iTGAlbBxnlhd",
        "outputId": "14466fbd-4a7d-4c4b-9adb-6cd74e3c09e7"
      },
      "execution_count": 1,
      "outputs": [
        {
          "output_type": "stream",
          "name": "stdout",
          "text": [
            "Requirement already satisfied: gensim in /usr/local/lib/python3.10/dist-packages (4.3.2)\n",
            "Requirement already satisfied: numpy>=1.18.5 in /usr/local/lib/python3.10/dist-packages (from gensim) (1.25.2)\n",
            "Requirement already satisfied: scipy>=1.7.0 in /usr/local/lib/python3.10/dist-packages (from gensim) (1.11.4)\n",
            "Requirement already satisfied: smart-open>=1.8.1 in /usr/local/lib/python3.10/dist-packages (from gensim) (6.4.0)\n",
            "Collecting keras-tuner\n",
            "  Downloading keras_tuner-1.4.7-py3-none-any.whl (129 kB)\n",
            "\u001b[2K     \u001b[90m━━━━━━━━━━━━━━━━━━━━━━━━━━━━━━━━━━━━━━━━\u001b[0m \u001b[32m129.1/129.1 kB\u001b[0m \u001b[31m1.2 MB/s\u001b[0m eta \u001b[36m0:00:00\u001b[0m\n",
            "\u001b[?25hRequirement already satisfied: keras in /usr/local/lib/python3.10/dist-packages (from keras-tuner) (2.15.0)\n",
            "Requirement already satisfied: packaging in /usr/local/lib/python3.10/dist-packages (from keras-tuner) (24.0)\n",
            "Requirement already satisfied: requests in /usr/local/lib/python3.10/dist-packages (from keras-tuner) (2.31.0)\n",
            "Collecting kt-legacy (from keras-tuner)\n",
            "  Downloading kt_legacy-1.0.5-py3-none-any.whl (9.6 kB)\n",
            "Requirement already satisfied: charset-normalizer<4,>=2 in /usr/local/lib/python3.10/dist-packages (from requests->keras-tuner) (3.3.2)\n",
            "Requirement already satisfied: idna<4,>=2.5 in /usr/local/lib/python3.10/dist-packages (from requests->keras-tuner) (3.7)\n",
            "Requirement already satisfied: urllib3<3,>=1.21.1 in /usr/local/lib/python3.10/dist-packages (from requests->keras-tuner) (2.0.7)\n",
            "Requirement already satisfied: certifi>=2017.4.17 in /usr/local/lib/python3.10/dist-packages (from requests->keras-tuner) (2024.2.2)\n",
            "Installing collected packages: kt-legacy, keras-tuner\n",
            "Successfully installed keras-tuner-1.4.7 kt-legacy-1.0.5\n"
          ]
        }
      ]
    },
    {
      "cell_type": "code",
      "execution_count": 2,
      "metadata": {
        "id": "2_9ul24mdcJa",
        "outputId": "507cdba0-061e-4d7a-e1fa-3a154a76aab2",
        "colab": {
          "base_uri": "https://localhost:8080/"
        }
      },
      "outputs": [
        {
          "output_type": "stream",
          "name": "stderr",
          "text": [
            "[nltk_data] Downloading package punkt to /root/nltk_data...\n",
            "[nltk_data]   Unzipping tokenizers/punkt.zip.\n"
          ]
        },
        {
          "output_type": "execute_result",
          "data": {
            "text/plain": [
              "True"
            ]
          },
          "metadata": {},
          "execution_count": 2
        }
      ],
      "source": [
        "import pandas as pd\n",
        "import numpy as np\n",
        "\n",
        "import itertools\n",
        "\n",
        "import matplotlib.pyplot as plt\n",
        "import seaborn as sns\n",
        "\n",
        "from tensorflow.keras.preprocessing.text import Tokenizer\n",
        "from tensorflow.keras.preprocessing.sequence import pad_sequences\n",
        "\n",
        "import sklearn\n",
        "from sklearn.model_selection import train_test_split\n",
        "\n",
        "import tensorflow as tf\n",
        "\n",
        "import keras\n",
        "from keras import layers, losses, optimizers, metrics\n",
        "\n",
        "import keras_tuner\n",
        "\n",
        "from gensim.models import Word2Vec\n",
        "\n",
        "import nltk\n",
        "from nltk import tokenize\n",
        "\n",
        "import json\n",
        "\n",
        "nltk.download('punkt')"
      ]
    },
    {
      "cell_type": "code",
      "execution_count": 3,
      "metadata": {
        "id": "3HkR473q7J3O"
      },
      "outputs": [],
      "source": [
        "dataset = pd.read_csv(\"https://raw.githubusercontent.com/faiz-aljohani/Arabic-App-Review-Classification/main/AppReview-Multilabel.csv\")"
      ]
    },
    {
      "cell_type": "code",
      "source": [
        "dataset"
      ],
      "metadata": {
        "colab": {
          "base_uri": "https://localhost:8080/",
          "height": 423
        },
        "id": "PeuHqCP-n9ZA",
        "outputId": "f36f03e5-a933-4f10-b91e-696b33cd9e6f"
      },
      "execution_count": 4,
      "outputs": [
        {
          "output_type": "execute_result",
          "data": {
            "text/plain": [
              "                                                 review bug_report  \\\n",
              "0                                    يبيله تصليحات كثير       High   \n",
              "1                     ماتحملت ابدددددا ونا دفعت فلوس 🤔😕         No   \n",
              "2     اتمنى منكم عمل خيار لتفضيل المسلسل بالكامل عوض...         No   \n",
              "3         ممتاز وبسيط وتشغيله لا يؤثر على سرعة الانترنت         No   \n",
              "4                                   تبين م لي ي تم ل يب         No   \n",
              "...                                                 ...        ...   \n",
              "2895  بكل حياديه وتجرد انقل تجربتي التطبيق جميل جدا ...     Medium   \n",
              "2896  مررة صار معفن مدري الا بالقوة بيدخلنا موقعهم ه...     Medium   \n",
              "2897                  لابد من تطويره ليستفاد منو الجميع         No   \n",
              "2898  تطبيق اكثر من رائع ومجهود مبارك ،ننتظر المزيد ...         No   \n",
              "2899  لعبة جميلة جدا اوي تستاهل خمس نجوم التعاليق بس...         No   \n",
              "\n",
              "     improvement_request  rating  others  \n",
              "0                 Medium     Low      No  \n",
              "1                 Medium  Medium     Low  \n",
              "2                   High     Low      No  \n",
              "3                     No    High      No  \n",
              "4                     No     Low    High  \n",
              "...                  ...     ...     ...  \n",
              "2895              Medium  Medium      No  \n",
              "2896                  No  Medium      No  \n",
              "2897                High     Low      No  \n",
              "2898                 Low    High      No  \n",
              "2899                  No    High  Medium  \n",
              "\n",
              "[2900 rows x 5 columns]"
            ],
            "text/html": [
              "\n",
              "  <div id=\"df-4c2abf6e-997a-4bb4-98f3-fa9522059b28\" class=\"colab-df-container\">\n",
              "    <div>\n",
              "<style scoped>\n",
              "    .dataframe tbody tr th:only-of-type {\n",
              "        vertical-align: middle;\n",
              "    }\n",
              "\n",
              "    .dataframe tbody tr th {\n",
              "        vertical-align: top;\n",
              "    }\n",
              "\n",
              "    .dataframe thead th {\n",
              "        text-align: right;\n",
              "    }\n",
              "</style>\n",
              "<table border=\"1\" class=\"dataframe\">\n",
              "  <thead>\n",
              "    <tr style=\"text-align: right;\">\n",
              "      <th></th>\n",
              "      <th>review</th>\n",
              "      <th>bug_report</th>\n",
              "      <th>improvement_request</th>\n",
              "      <th>rating</th>\n",
              "      <th>others</th>\n",
              "    </tr>\n",
              "  </thead>\n",
              "  <tbody>\n",
              "    <tr>\n",
              "      <th>0</th>\n",
              "      <td>يبيله تصليحات كثير</td>\n",
              "      <td>High</td>\n",
              "      <td>Medium</td>\n",
              "      <td>Low</td>\n",
              "      <td>No</td>\n",
              "    </tr>\n",
              "    <tr>\n",
              "      <th>1</th>\n",
              "      <td>ماتحملت ابدددددا ونا دفعت فلوس 🤔😕</td>\n",
              "      <td>No</td>\n",
              "      <td>Medium</td>\n",
              "      <td>Medium</td>\n",
              "      <td>Low</td>\n",
              "    </tr>\n",
              "    <tr>\n",
              "      <th>2</th>\n",
              "      <td>اتمنى منكم عمل خيار لتفضيل المسلسل بالكامل عوض...</td>\n",
              "      <td>No</td>\n",
              "      <td>High</td>\n",
              "      <td>Low</td>\n",
              "      <td>No</td>\n",
              "    </tr>\n",
              "    <tr>\n",
              "      <th>3</th>\n",
              "      <td>ممتاز وبسيط وتشغيله لا يؤثر على سرعة الانترنت</td>\n",
              "      <td>No</td>\n",
              "      <td>No</td>\n",
              "      <td>High</td>\n",
              "      <td>No</td>\n",
              "    </tr>\n",
              "    <tr>\n",
              "      <th>4</th>\n",
              "      <td>تبين م لي ي تم ل يب</td>\n",
              "      <td>No</td>\n",
              "      <td>No</td>\n",
              "      <td>Low</td>\n",
              "      <td>High</td>\n",
              "    </tr>\n",
              "    <tr>\n",
              "      <th>...</th>\n",
              "      <td>...</td>\n",
              "      <td>...</td>\n",
              "      <td>...</td>\n",
              "      <td>...</td>\n",
              "      <td>...</td>\n",
              "    </tr>\n",
              "    <tr>\n",
              "      <th>2895</th>\n",
              "      <td>بكل حياديه وتجرد انقل تجربتي التطبيق جميل جدا ...</td>\n",
              "      <td>Medium</td>\n",
              "      <td>Medium</td>\n",
              "      <td>Medium</td>\n",
              "      <td>No</td>\n",
              "    </tr>\n",
              "    <tr>\n",
              "      <th>2896</th>\n",
              "      <td>مررة صار معفن مدري الا بالقوة بيدخلنا موقعهم ه...</td>\n",
              "      <td>Medium</td>\n",
              "      <td>No</td>\n",
              "      <td>Medium</td>\n",
              "      <td>No</td>\n",
              "    </tr>\n",
              "    <tr>\n",
              "      <th>2897</th>\n",
              "      <td>لابد من تطويره ليستفاد منو الجميع</td>\n",
              "      <td>No</td>\n",
              "      <td>High</td>\n",
              "      <td>Low</td>\n",
              "      <td>No</td>\n",
              "    </tr>\n",
              "    <tr>\n",
              "      <th>2898</th>\n",
              "      <td>تطبيق اكثر من رائع ومجهود مبارك ،ننتظر المزيد ...</td>\n",
              "      <td>No</td>\n",
              "      <td>Low</td>\n",
              "      <td>High</td>\n",
              "      <td>No</td>\n",
              "    </tr>\n",
              "    <tr>\n",
              "      <th>2899</th>\n",
              "      <td>لعبة جميلة جدا اوي تستاهل خمس نجوم التعاليق بس...</td>\n",
              "      <td>No</td>\n",
              "      <td>No</td>\n",
              "      <td>High</td>\n",
              "      <td>Medium</td>\n",
              "    </tr>\n",
              "  </tbody>\n",
              "</table>\n",
              "<p>2900 rows × 5 columns</p>\n",
              "</div>\n",
              "    <div class=\"colab-df-buttons\">\n",
              "\n",
              "  <div class=\"colab-df-container\">\n",
              "    <button class=\"colab-df-convert\" onclick=\"convertToInteractive('df-4c2abf6e-997a-4bb4-98f3-fa9522059b28')\"\n",
              "            title=\"Convert this dataframe to an interactive table.\"\n",
              "            style=\"display:none;\">\n",
              "\n",
              "  <svg xmlns=\"http://www.w3.org/2000/svg\" height=\"24px\" viewBox=\"0 -960 960 960\">\n",
              "    <path d=\"M120-120v-720h720v720H120Zm60-500h600v-160H180v160Zm220 220h160v-160H400v160Zm0 220h160v-160H400v160ZM180-400h160v-160H180v160Zm440 0h160v-160H620v160ZM180-180h160v-160H180v160Zm440 0h160v-160H620v160Z\"/>\n",
              "  </svg>\n",
              "    </button>\n",
              "\n",
              "  <style>\n",
              "    .colab-df-container {\n",
              "      display:flex;\n",
              "      gap: 12px;\n",
              "    }\n",
              "\n",
              "    .colab-df-convert {\n",
              "      background-color: #E8F0FE;\n",
              "      border: none;\n",
              "      border-radius: 50%;\n",
              "      cursor: pointer;\n",
              "      display: none;\n",
              "      fill: #1967D2;\n",
              "      height: 32px;\n",
              "      padding: 0 0 0 0;\n",
              "      width: 32px;\n",
              "    }\n",
              "\n",
              "    .colab-df-convert:hover {\n",
              "      background-color: #E2EBFA;\n",
              "      box-shadow: 0px 1px 2px rgba(60, 64, 67, 0.3), 0px 1px 3px 1px rgba(60, 64, 67, 0.15);\n",
              "      fill: #174EA6;\n",
              "    }\n",
              "\n",
              "    .colab-df-buttons div {\n",
              "      margin-bottom: 4px;\n",
              "    }\n",
              "\n",
              "    [theme=dark] .colab-df-convert {\n",
              "      background-color: #3B4455;\n",
              "      fill: #D2E3FC;\n",
              "    }\n",
              "\n",
              "    [theme=dark] .colab-df-convert:hover {\n",
              "      background-color: #434B5C;\n",
              "      box-shadow: 0px 1px 3px 1px rgba(0, 0, 0, 0.15);\n",
              "      filter: drop-shadow(0px 1px 2px rgba(0, 0, 0, 0.3));\n",
              "      fill: #FFFFFF;\n",
              "    }\n",
              "  </style>\n",
              "\n",
              "    <script>\n",
              "      const buttonEl =\n",
              "        document.querySelector('#df-4c2abf6e-997a-4bb4-98f3-fa9522059b28 button.colab-df-convert');\n",
              "      buttonEl.style.display =\n",
              "        google.colab.kernel.accessAllowed ? 'block' : 'none';\n",
              "\n",
              "      async function convertToInteractive(key) {\n",
              "        const element = document.querySelector('#df-4c2abf6e-997a-4bb4-98f3-fa9522059b28');\n",
              "        const dataTable =\n",
              "          await google.colab.kernel.invokeFunction('convertToInteractive',\n",
              "                                                    [key], {});\n",
              "        if (!dataTable) return;\n",
              "\n",
              "        const docLinkHtml = 'Like what you see? Visit the ' +\n",
              "          '<a target=\"_blank\" href=https://colab.research.google.com/notebooks/data_table.ipynb>data table notebook</a>'\n",
              "          + ' to learn more about interactive tables.';\n",
              "        element.innerHTML = '';\n",
              "        dataTable['output_type'] = 'display_data';\n",
              "        await google.colab.output.renderOutput(dataTable, element);\n",
              "        const docLink = document.createElement('div');\n",
              "        docLink.innerHTML = docLinkHtml;\n",
              "        element.appendChild(docLink);\n",
              "      }\n",
              "    </script>\n",
              "  </div>\n",
              "\n",
              "\n",
              "<div id=\"df-487a15c6-8d4a-4782-b503-702e3a71b779\">\n",
              "  <button class=\"colab-df-quickchart\" onclick=\"quickchart('df-487a15c6-8d4a-4782-b503-702e3a71b779')\"\n",
              "            title=\"Suggest charts\"\n",
              "            style=\"display:none;\">\n",
              "\n",
              "<svg xmlns=\"http://www.w3.org/2000/svg\" height=\"24px\"viewBox=\"0 0 24 24\"\n",
              "     width=\"24px\">\n",
              "    <g>\n",
              "        <path d=\"M19 3H5c-1.1 0-2 .9-2 2v14c0 1.1.9 2 2 2h14c1.1 0 2-.9 2-2V5c0-1.1-.9-2-2-2zM9 17H7v-7h2v7zm4 0h-2V7h2v10zm4 0h-2v-4h2v4z\"/>\n",
              "    </g>\n",
              "</svg>\n",
              "  </button>\n",
              "\n",
              "<style>\n",
              "  .colab-df-quickchart {\n",
              "      --bg-color: #E8F0FE;\n",
              "      --fill-color: #1967D2;\n",
              "      --hover-bg-color: #E2EBFA;\n",
              "      --hover-fill-color: #174EA6;\n",
              "      --disabled-fill-color: #AAA;\n",
              "      --disabled-bg-color: #DDD;\n",
              "  }\n",
              "\n",
              "  [theme=dark] .colab-df-quickchart {\n",
              "      --bg-color: #3B4455;\n",
              "      --fill-color: #D2E3FC;\n",
              "      --hover-bg-color: #434B5C;\n",
              "      --hover-fill-color: #FFFFFF;\n",
              "      --disabled-bg-color: #3B4455;\n",
              "      --disabled-fill-color: #666;\n",
              "  }\n",
              "\n",
              "  .colab-df-quickchart {\n",
              "    background-color: var(--bg-color);\n",
              "    border: none;\n",
              "    border-radius: 50%;\n",
              "    cursor: pointer;\n",
              "    display: none;\n",
              "    fill: var(--fill-color);\n",
              "    height: 32px;\n",
              "    padding: 0;\n",
              "    width: 32px;\n",
              "  }\n",
              "\n",
              "  .colab-df-quickchart:hover {\n",
              "    background-color: var(--hover-bg-color);\n",
              "    box-shadow: 0 1px 2px rgba(60, 64, 67, 0.3), 0 1px 3px 1px rgba(60, 64, 67, 0.15);\n",
              "    fill: var(--button-hover-fill-color);\n",
              "  }\n",
              "\n",
              "  .colab-df-quickchart-complete:disabled,\n",
              "  .colab-df-quickchart-complete:disabled:hover {\n",
              "    background-color: var(--disabled-bg-color);\n",
              "    fill: var(--disabled-fill-color);\n",
              "    box-shadow: none;\n",
              "  }\n",
              "\n",
              "  .colab-df-spinner {\n",
              "    border: 2px solid var(--fill-color);\n",
              "    border-color: transparent;\n",
              "    border-bottom-color: var(--fill-color);\n",
              "    animation:\n",
              "      spin 1s steps(1) infinite;\n",
              "  }\n",
              "\n",
              "  @keyframes spin {\n",
              "    0% {\n",
              "      border-color: transparent;\n",
              "      border-bottom-color: var(--fill-color);\n",
              "      border-left-color: var(--fill-color);\n",
              "    }\n",
              "    20% {\n",
              "      border-color: transparent;\n",
              "      border-left-color: var(--fill-color);\n",
              "      border-top-color: var(--fill-color);\n",
              "    }\n",
              "    30% {\n",
              "      border-color: transparent;\n",
              "      border-left-color: var(--fill-color);\n",
              "      border-top-color: var(--fill-color);\n",
              "      border-right-color: var(--fill-color);\n",
              "    }\n",
              "    40% {\n",
              "      border-color: transparent;\n",
              "      border-right-color: var(--fill-color);\n",
              "      border-top-color: var(--fill-color);\n",
              "    }\n",
              "    60% {\n",
              "      border-color: transparent;\n",
              "      border-right-color: var(--fill-color);\n",
              "    }\n",
              "    80% {\n",
              "      border-color: transparent;\n",
              "      border-right-color: var(--fill-color);\n",
              "      border-bottom-color: var(--fill-color);\n",
              "    }\n",
              "    90% {\n",
              "      border-color: transparent;\n",
              "      border-bottom-color: var(--fill-color);\n",
              "    }\n",
              "  }\n",
              "</style>\n",
              "\n",
              "  <script>\n",
              "    async function quickchart(key) {\n",
              "      const quickchartButtonEl =\n",
              "        document.querySelector('#' + key + ' button');\n",
              "      quickchartButtonEl.disabled = true;  // To prevent multiple clicks.\n",
              "      quickchartButtonEl.classList.add('colab-df-spinner');\n",
              "      try {\n",
              "        const charts = await google.colab.kernel.invokeFunction(\n",
              "            'suggestCharts', [key], {});\n",
              "      } catch (error) {\n",
              "        console.error('Error during call to suggestCharts:', error);\n",
              "      }\n",
              "      quickchartButtonEl.classList.remove('colab-df-spinner');\n",
              "      quickchartButtonEl.classList.add('colab-df-quickchart-complete');\n",
              "    }\n",
              "    (() => {\n",
              "      let quickchartButtonEl =\n",
              "        document.querySelector('#df-487a15c6-8d4a-4782-b503-702e3a71b779 button');\n",
              "      quickchartButtonEl.style.display =\n",
              "        google.colab.kernel.accessAllowed ? 'block' : 'none';\n",
              "    })();\n",
              "  </script>\n",
              "</div>\n",
              "\n",
              "  <div id=\"id_5c9fabc0-7d48-462f-ba84-7be3e09d7df2\">\n",
              "    <style>\n",
              "      .colab-df-generate {\n",
              "        background-color: #E8F0FE;\n",
              "        border: none;\n",
              "        border-radius: 50%;\n",
              "        cursor: pointer;\n",
              "        display: none;\n",
              "        fill: #1967D2;\n",
              "        height: 32px;\n",
              "        padding: 0 0 0 0;\n",
              "        width: 32px;\n",
              "      }\n",
              "\n",
              "      .colab-df-generate:hover {\n",
              "        background-color: #E2EBFA;\n",
              "        box-shadow: 0px 1px 2px rgba(60, 64, 67, 0.3), 0px 1px 3px 1px rgba(60, 64, 67, 0.15);\n",
              "        fill: #174EA6;\n",
              "      }\n",
              "\n",
              "      [theme=dark] .colab-df-generate {\n",
              "        background-color: #3B4455;\n",
              "        fill: #D2E3FC;\n",
              "      }\n",
              "\n",
              "      [theme=dark] .colab-df-generate:hover {\n",
              "        background-color: #434B5C;\n",
              "        box-shadow: 0px 1px 3px 1px rgba(0, 0, 0, 0.15);\n",
              "        filter: drop-shadow(0px 1px 2px rgba(0, 0, 0, 0.3));\n",
              "        fill: #FFFFFF;\n",
              "      }\n",
              "    </style>\n",
              "    <button class=\"colab-df-generate\" onclick=\"generateWithVariable('dataset')\"\n",
              "            title=\"Generate code using this dataframe.\"\n",
              "            style=\"display:none;\">\n",
              "\n",
              "  <svg xmlns=\"http://www.w3.org/2000/svg\" height=\"24px\"viewBox=\"0 0 24 24\"\n",
              "       width=\"24px\">\n",
              "    <path d=\"M7,19H8.4L18.45,9,17,7.55,7,17.6ZM5,21V16.75L18.45,3.32a2,2,0,0,1,2.83,0l1.4,1.43a1.91,1.91,0,0,1,.58,1.4,1.91,1.91,0,0,1-.58,1.4L9.25,21ZM18.45,9,17,7.55Zm-12,3A5.31,5.31,0,0,0,4.9,8.1,5.31,5.31,0,0,0,1,6.5,5.31,5.31,0,0,0,4.9,4.9,5.31,5.31,0,0,0,6.5,1,5.31,5.31,0,0,0,8.1,4.9,5.31,5.31,0,0,0,12,6.5,5.46,5.46,0,0,0,6.5,12Z\"/>\n",
              "  </svg>\n",
              "    </button>\n",
              "    <script>\n",
              "      (() => {\n",
              "      const buttonEl =\n",
              "        document.querySelector('#id_5c9fabc0-7d48-462f-ba84-7be3e09d7df2 button.colab-df-generate');\n",
              "      buttonEl.style.display =\n",
              "        google.colab.kernel.accessAllowed ? 'block' : 'none';\n",
              "\n",
              "      buttonEl.onclick = () => {\n",
              "        google.colab.notebook.generateWithVariable('dataset');\n",
              "      }\n",
              "      })();\n",
              "    </script>\n",
              "  </div>\n",
              "\n",
              "    </div>\n",
              "  </div>\n"
            ],
            "application/vnd.google.colaboratory.intrinsic+json": {
              "type": "dataframe",
              "variable_name": "dataset",
              "summary": "{\n  \"name\": \"dataset\",\n  \"rows\": 2900,\n  \"fields\": [\n    {\n      \"column\": \"review\",\n      \"properties\": {\n        \"dtype\": \"string\",\n        \"num_unique_values\": 2892,\n        \"samples\": [\n          \"\\u0645\\u0646 \\u0627\\u0641\\u0636\\u0644 \\u0627\\u0644\\u062a\\u0628\\u064a\\u0637\\u0642\\u0627\\u062a \\u0628\\u0639\\u062f \\u062a\\u0648\\u0643\\u0644\\u0646\\u0627\",\n          \"\\u0645\\u0634\\u0643\\u0644\\u062a\\u0647 \\u0628\\u064a\\u0639\\u0645\\u0644 \\u062a\\u0648\\u0642\\u0641 \\u0644\\u0644\\u0627\\u0645\\u064a\\u0644 \\u0648\\u0627\\u0644\\u0633\\u0628\\u0628 \\u0643\\u062b\\u0631\\u0647 \\u0627\\u0644\\u0627\\u0628\\u0644\\u0627\\u063a\\u0627\\u062a \\u0648\\u0627\\u0646\\u0627 \\u0645\\u0634 \\u0628\\u0641\\u062a\\u062d\\u0647 \\u0627\\u0635\\u0644\\u0627\",\n          \"\\u064a\\u0627 \\u0644\\u064a\\u062a \\u062a\\u0636\\u064a\\u0641\\u0648\\u0646 \\u062e\\u064a\\u0627\\u0631\\u0627\\u062a \\u0627\\u062f\\u062e\\u0627\\u0644 \\u0627\\u0644\\u0645\\u0639\\u0644\\u0648\\u0645\\u0627\\u062a\"\n        ],\n        \"semantic_type\": \"\",\n        \"description\": \"\"\n      }\n    },\n    {\n      \"column\": \"bug_report\",\n      \"properties\": {\n        \"dtype\": \"category\",\n        \"num_unique_values\": 4,\n        \"samples\": [\n          \"No\",\n          \"Medium\",\n          \"High\"\n        ],\n        \"semantic_type\": \"\",\n        \"description\": \"\"\n      }\n    },\n    {\n      \"column\": \"improvement_request\",\n      \"properties\": {\n        \"dtype\": \"category\",\n        \"num_unique_values\": 4,\n        \"samples\": [\n          \"High\",\n          \"Low\",\n          \"Medium\"\n        ],\n        \"semantic_type\": \"\",\n        \"description\": \"\"\n      }\n    },\n    {\n      \"column\": \"rating\",\n      \"properties\": {\n        \"dtype\": \"category\",\n        \"num_unique_values\": 4,\n        \"samples\": [\n          \"Medium\",\n          \"No\",\n          \"Low\"\n        ],\n        \"semantic_type\": \"\",\n        \"description\": \"\"\n      }\n    },\n    {\n      \"column\": \"others\",\n      \"properties\": {\n        \"dtype\": \"category\",\n        \"num_unique_values\": 4,\n        \"samples\": [\n          \"Low\",\n          \"Medium\",\n          \"No\"\n        ],\n        \"semantic_type\": \"\",\n        \"description\": \"\"\n      }\n    }\n  ]\n}"
            }
          },
          "metadata": {},
          "execution_count": 4
        }
      ]
    },
    {
      "cell_type": "markdown",
      "metadata": {
        "id": "fkh2HcXU7c3S"
      },
      "source": [
        "## Split the dataset train/val/test...\n",
        "70-30 Train TestVal. Take 50% of TestVal data as validation set.\n",
        "Use seed 777 for partitioning."
      ]
    },
    {
      "cell_type": "markdown",
      "source": [
        "### binary labels"
      ],
      "metadata": {
        "id": "km-xuilqhsIE"
      }
    },
    {
      "cell_type": "code",
      "execution_count": 5,
      "metadata": {
        "id": "56PS-yssdcJi"
      },
      "outputs": [],
      "source": [
        "def binary_label(label):\n",
        "    if label in ['High','Medium','Low', 1]:\n",
        "        return 1\n",
        "    else:\n",
        "        return 0\n",
        "\n",
        "def pies_plot(columns, dataset):\n",
        "    fig, axes = plt.subplots(2, 2, figsize=(6, 6))\n",
        "    for i, column in enumerate(columns):\n",
        "        ax = axes[i // 2, i % 2]\n",
        "        ax.set_title(column)\n",
        "        ax.pie(dataset[column].value_counts(), labels=dataset[column].unique().tolist(), autopct='%1.1f%%')\n",
        "    plt.tight_layout()\n",
        "    plt.show()"
      ]
    },
    {
      "cell_type": "code",
      "execution_count": 6,
      "metadata": {
        "id": "0wVyWYTtdcJi"
      },
      "outputs": [],
      "source": [
        "dataset['bug_report'] = dataset['bug_report'].apply(binary_label)\n",
        "dataset['improvement_request'] = dataset['improvement_request'].apply(binary_label)\n",
        "dataset['rating'] = dataset['rating'].apply(binary_label)\n",
        "dataset['others'] = dataset['others'].apply(binary_label)"
      ]
    },
    {
      "cell_type": "code",
      "execution_count": 7,
      "metadata": {
        "id": "QsWNHCpgD3ry"
      },
      "outputs": [],
      "source": [
        "X = dataset.iloc[:,0].to_numpy()\n",
        "y = dataset.iloc[:,1:].to_numpy()"
      ]
    },
    {
      "cell_type": "code",
      "execution_count": 8,
      "metadata": {
        "id": "kZvMPZOK797C"
      },
      "outputs": [],
      "source": [
        "train_sentences, testval_sentences, train_labels, testval_labels = train_test_split(X, y, test_size=0.3, random_state=777)\n",
        "val_sentences, test_sentences, val_labels, test_labels = train_test_split(testval_sentences, testval_labels, test_size=0.5, random_state=777)"
      ]
    },
    {
      "cell_type": "markdown",
      "metadata": {
        "id": "OjmWzd4kdcJh"
      },
      "source": [
        "## Dataset analysis and report on important statistics.\n"
      ]
    },
    {
      "cell_type": "code",
      "execution_count": 9,
      "metadata": {
        "id": "4sO34zUcdcJh",
        "outputId": "f58c88bc-4898-4cf4-c674-e1257293b234",
        "colab": {
          "base_uri": "https://localhost:8080/",
          "height": 206
        }
      },
      "outputs": [
        {
          "output_type": "execute_result",
          "data": {
            "text/plain": [
              "                                              review  bug_report  \\\n",
              "0                                 يبيله تصليحات كثير           1   \n",
              "1                  ماتحملت ابدددددا ونا دفعت فلوس 🤔😕           0   \n",
              "2  اتمنى منكم عمل خيار لتفضيل المسلسل بالكامل عوض...           0   \n",
              "3      ممتاز وبسيط وتشغيله لا يؤثر على سرعة الانترنت           0   \n",
              "4                                تبين م لي ي تم ل يب           0   \n",
              "\n",
              "   improvement_request  rating  others  \n",
              "0                    1       1       0  \n",
              "1                    1       1       1  \n",
              "2                    1       1       0  \n",
              "3                    0       1       0  \n",
              "4                    0       1       1  "
            ],
            "text/html": [
              "\n",
              "  <div id=\"df-c6188dfa-5f8e-45d4-974f-04a2295afad4\" class=\"colab-df-container\">\n",
              "    <div>\n",
              "<style scoped>\n",
              "    .dataframe tbody tr th:only-of-type {\n",
              "        vertical-align: middle;\n",
              "    }\n",
              "\n",
              "    .dataframe tbody tr th {\n",
              "        vertical-align: top;\n",
              "    }\n",
              "\n",
              "    .dataframe thead th {\n",
              "        text-align: right;\n",
              "    }\n",
              "</style>\n",
              "<table border=\"1\" class=\"dataframe\">\n",
              "  <thead>\n",
              "    <tr style=\"text-align: right;\">\n",
              "      <th></th>\n",
              "      <th>review</th>\n",
              "      <th>bug_report</th>\n",
              "      <th>improvement_request</th>\n",
              "      <th>rating</th>\n",
              "      <th>others</th>\n",
              "    </tr>\n",
              "  </thead>\n",
              "  <tbody>\n",
              "    <tr>\n",
              "      <th>0</th>\n",
              "      <td>يبيله تصليحات كثير</td>\n",
              "      <td>1</td>\n",
              "      <td>1</td>\n",
              "      <td>1</td>\n",
              "      <td>0</td>\n",
              "    </tr>\n",
              "    <tr>\n",
              "      <th>1</th>\n",
              "      <td>ماتحملت ابدددددا ونا دفعت فلوس 🤔😕</td>\n",
              "      <td>0</td>\n",
              "      <td>1</td>\n",
              "      <td>1</td>\n",
              "      <td>1</td>\n",
              "    </tr>\n",
              "    <tr>\n",
              "      <th>2</th>\n",
              "      <td>اتمنى منكم عمل خيار لتفضيل المسلسل بالكامل عوض...</td>\n",
              "      <td>0</td>\n",
              "      <td>1</td>\n",
              "      <td>1</td>\n",
              "      <td>0</td>\n",
              "    </tr>\n",
              "    <tr>\n",
              "      <th>3</th>\n",
              "      <td>ممتاز وبسيط وتشغيله لا يؤثر على سرعة الانترنت</td>\n",
              "      <td>0</td>\n",
              "      <td>0</td>\n",
              "      <td>1</td>\n",
              "      <td>0</td>\n",
              "    </tr>\n",
              "    <tr>\n",
              "      <th>4</th>\n",
              "      <td>تبين م لي ي تم ل يب</td>\n",
              "      <td>0</td>\n",
              "      <td>0</td>\n",
              "      <td>1</td>\n",
              "      <td>1</td>\n",
              "    </tr>\n",
              "  </tbody>\n",
              "</table>\n",
              "</div>\n",
              "    <div class=\"colab-df-buttons\">\n",
              "\n",
              "  <div class=\"colab-df-container\">\n",
              "    <button class=\"colab-df-convert\" onclick=\"convertToInteractive('df-c6188dfa-5f8e-45d4-974f-04a2295afad4')\"\n",
              "            title=\"Convert this dataframe to an interactive table.\"\n",
              "            style=\"display:none;\">\n",
              "\n",
              "  <svg xmlns=\"http://www.w3.org/2000/svg\" height=\"24px\" viewBox=\"0 -960 960 960\">\n",
              "    <path d=\"M120-120v-720h720v720H120Zm60-500h600v-160H180v160Zm220 220h160v-160H400v160Zm0 220h160v-160H400v160ZM180-400h160v-160H180v160Zm440 0h160v-160H620v160ZM180-180h160v-160H180v160Zm440 0h160v-160H620v160Z\"/>\n",
              "  </svg>\n",
              "    </button>\n",
              "\n",
              "  <style>\n",
              "    .colab-df-container {\n",
              "      display:flex;\n",
              "      gap: 12px;\n",
              "    }\n",
              "\n",
              "    .colab-df-convert {\n",
              "      background-color: #E8F0FE;\n",
              "      border: none;\n",
              "      border-radius: 50%;\n",
              "      cursor: pointer;\n",
              "      display: none;\n",
              "      fill: #1967D2;\n",
              "      height: 32px;\n",
              "      padding: 0 0 0 0;\n",
              "      width: 32px;\n",
              "    }\n",
              "\n",
              "    .colab-df-convert:hover {\n",
              "      background-color: #E2EBFA;\n",
              "      box-shadow: 0px 1px 2px rgba(60, 64, 67, 0.3), 0px 1px 3px 1px rgba(60, 64, 67, 0.15);\n",
              "      fill: #174EA6;\n",
              "    }\n",
              "\n",
              "    .colab-df-buttons div {\n",
              "      margin-bottom: 4px;\n",
              "    }\n",
              "\n",
              "    [theme=dark] .colab-df-convert {\n",
              "      background-color: #3B4455;\n",
              "      fill: #D2E3FC;\n",
              "    }\n",
              "\n",
              "    [theme=dark] .colab-df-convert:hover {\n",
              "      background-color: #434B5C;\n",
              "      box-shadow: 0px 1px 3px 1px rgba(0, 0, 0, 0.15);\n",
              "      filter: drop-shadow(0px 1px 2px rgba(0, 0, 0, 0.3));\n",
              "      fill: #FFFFFF;\n",
              "    }\n",
              "  </style>\n",
              "\n",
              "    <script>\n",
              "      const buttonEl =\n",
              "        document.querySelector('#df-c6188dfa-5f8e-45d4-974f-04a2295afad4 button.colab-df-convert');\n",
              "      buttonEl.style.display =\n",
              "        google.colab.kernel.accessAllowed ? 'block' : 'none';\n",
              "\n",
              "      async function convertToInteractive(key) {\n",
              "        const element = document.querySelector('#df-c6188dfa-5f8e-45d4-974f-04a2295afad4');\n",
              "        const dataTable =\n",
              "          await google.colab.kernel.invokeFunction('convertToInteractive',\n",
              "                                                    [key], {});\n",
              "        if (!dataTable) return;\n",
              "\n",
              "        const docLinkHtml = 'Like what you see? Visit the ' +\n",
              "          '<a target=\"_blank\" href=https://colab.research.google.com/notebooks/data_table.ipynb>data table notebook</a>'\n",
              "          + ' to learn more about interactive tables.';\n",
              "        element.innerHTML = '';\n",
              "        dataTable['output_type'] = 'display_data';\n",
              "        await google.colab.output.renderOutput(dataTable, element);\n",
              "        const docLink = document.createElement('div');\n",
              "        docLink.innerHTML = docLinkHtml;\n",
              "        element.appendChild(docLink);\n",
              "      }\n",
              "    </script>\n",
              "  </div>\n",
              "\n",
              "\n",
              "<div id=\"df-a609abb9-b425-4786-9f9b-d380dbb1d202\">\n",
              "  <button class=\"colab-df-quickchart\" onclick=\"quickchart('df-a609abb9-b425-4786-9f9b-d380dbb1d202')\"\n",
              "            title=\"Suggest charts\"\n",
              "            style=\"display:none;\">\n",
              "\n",
              "<svg xmlns=\"http://www.w3.org/2000/svg\" height=\"24px\"viewBox=\"0 0 24 24\"\n",
              "     width=\"24px\">\n",
              "    <g>\n",
              "        <path d=\"M19 3H5c-1.1 0-2 .9-2 2v14c0 1.1.9 2 2 2h14c1.1 0 2-.9 2-2V5c0-1.1-.9-2-2-2zM9 17H7v-7h2v7zm4 0h-2V7h2v10zm4 0h-2v-4h2v4z\"/>\n",
              "    </g>\n",
              "</svg>\n",
              "  </button>\n",
              "\n",
              "<style>\n",
              "  .colab-df-quickchart {\n",
              "      --bg-color: #E8F0FE;\n",
              "      --fill-color: #1967D2;\n",
              "      --hover-bg-color: #E2EBFA;\n",
              "      --hover-fill-color: #174EA6;\n",
              "      --disabled-fill-color: #AAA;\n",
              "      --disabled-bg-color: #DDD;\n",
              "  }\n",
              "\n",
              "  [theme=dark] .colab-df-quickchart {\n",
              "      --bg-color: #3B4455;\n",
              "      --fill-color: #D2E3FC;\n",
              "      --hover-bg-color: #434B5C;\n",
              "      --hover-fill-color: #FFFFFF;\n",
              "      --disabled-bg-color: #3B4455;\n",
              "      --disabled-fill-color: #666;\n",
              "  }\n",
              "\n",
              "  .colab-df-quickchart {\n",
              "    background-color: var(--bg-color);\n",
              "    border: none;\n",
              "    border-radius: 50%;\n",
              "    cursor: pointer;\n",
              "    display: none;\n",
              "    fill: var(--fill-color);\n",
              "    height: 32px;\n",
              "    padding: 0;\n",
              "    width: 32px;\n",
              "  }\n",
              "\n",
              "  .colab-df-quickchart:hover {\n",
              "    background-color: var(--hover-bg-color);\n",
              "    box-shadow: 0 1px 2px rgba(60, 64, 67, 0.3), 0 1px 3px 1px rgba(60, 64, 67, 0.15);\n",
              "    fill: var(--button-hover-fill-color);\n",
              "  }\n",
              "\n",
              "  .colab-df-quickchart-complete:disabled,\n",
              "  .colab-df-quickchart-complete:disabled:hover {\n",
              "    background-color: var(--disabled-bg-color);\n",
              "    fill: var(--disabled-fill-color);\n",
              "    box-shadow: none;\n",
              "  }\n",
              "\n",
              "  .colab-df-spinner {\n",
              "    border: 2px solid var(--fill-color);\n",
              "    border-color: transparent;\n",
              "    border-bottom-color: var(--fill-color);\n",
              "    animation:\n",
              "      spin 1s steps(1) infinite;\n",
              "  }\n",
              "\n",
              "  @keyframes spin {\n",
              "    0% {\n",
              "      border-color: transparent;\n",
              "      border-bottom-color: var(--fill-color);\n",
              "      border-left-color: var(--fill-color);\n",
              "    }\n",
              "    20% {\n",
              "      border-color: transparent;\n",
              "      border-left-color: var(--fill-color);\n",
              "      border-top-color: var(--fill-color);\n",
              "    }\n",
              "    30% {\n",
              "      border-color: transparent;\n",
              "      border-left-color: var(--fill-color);\n",
              "      border-top-color: var(--fill-color);\n",
              "      border-right-color: var(--fill-color);\n",
              "    }\n",
              "    40% {\n",
              "      border-color: transparent;\n",
              "      border-right-color: var(--fill-color);\n",
              "      border-top-color: var(--fill-color);\n",
              "    }\n",
              "    60% {\n",
              "      border-color: transparent;\n",
              "      border-right-color: var(--fill-color);\n",
              "    }\n",
              "    80% {\n",
              "      border-color: transparent;\n",
              "      border-right-color: var(--fill-color);\n",
              "      border-bottom-color: var(--fill-color);\n",
              "    }\n",
              "    90% {\n",
              "      border-color: transparent;\n",
              "      border-bottom-color: var(--fill-color);\n",
              "    }\n",
              "  }\n",
              "</style>\n",
              "\n",
              "  <script>\n",
              "    async function quickchart(key) {\n",
              "      const quickchartButtonEl =\n",
              "        document.querySelector('#' + key + ' button');\n",
              "      quickchartButtonEl.disabled = true;  // To prevent multiple clicks.\n",
              "      quickchartButtonEl.classList.add('colab-df-spinner');\n",
              "      try {\n",
              "        const charts = await google.colab.kernel.invokeFunction(\n",
              "            'suggestCharts', [key], {});\n",
              "      } catch (error) {\n",
              "        console.error('Error during call to suggestCharts:', error);\n",
              "      }\n",
              "      quickchartButtonEl.classList.remove('colab-df-spinner');\n",
              "      quickchartButtonEl.classList.add('colab-df-quickchart-complete');\n",
              "    }\n",
              "    (() => {\n",
              "      let quickchartButtonEl =\n",
              "        document.querySelector('#df-a609abb9-b425-4786-9f9b-d380dbb1d202 button');\n",
              "      quickchartButtonEl.style.display =\n",
              "        google.colab.kernel.accessAllowed ? 'block' : 'none';\n",
              "    })();\n",
              "  </script>\n",
              "</div>\n",
              "\n",
              "    </div>\n",
              "  </div>\n"
            ],
            "application/vnd.google.colaboratory.intrinsic+json": {
              "type": "dataframe",
              "variable_name": "dataset",
              "summary": "{\n  \"name\": \"dataset\",\n  \"rows\": 2900,\n  \"fields\": [\n    {\n      \"column\": \"review\",\n      \"properties\": {\n        \"dtype\": \"string\",\n        \"num_unique_values\": 2892,\n        \"samples\": [\n          \"\\u0645\\u0646 \\u0627\\u0641\\u0636\\u0644 \\u0627\\u0644\\u062a\\u0628\\u064a\\u0637\\u0642\\u0627\\u062a \\u0628\\u0639\\u062f \\u062a\\u0648\\u0643\\u0644\\u0646\\u0627\",\n          \"\\u0645\\u0634\\u0643\\u0644\\u062a\\u0647 \\u0628\\u064a\\u0639\\u0645\\u0644 \\u062a\\u0648\\u0642\\u0641 \\u0644\\u0644\\u0627\\u0645\\u064a\\u0644 \\u0648\\u0627\\u0644\\u0633\\u0628\\u0628 \\u0643\\u062b\\u0631\\u0647 \\u0627\\u0644\\u0627\\u0628\\u0644\\u0627\\u063a\\u0627\\u062a \\u0648\\u0627\\u0646\\u0627 \\u0645\\u0634 \\u0628\\u0641\\u062a\\u062d\\u0647 \\u0627\\u0635\\u0644\\u0627\",\n          \"\\u064a\\u0627 \\u0644\\u064a\\u062a \\u062a\\u0636\\u064a\\u0641\\u0648\\u0646 \\u062e\\u064a\\u0627\\u0631\\u0627\\u062a \\u0627\\u062f\\u062e\\u0627\\u0644 \\u0627\\u0644\\u0645\\u0639\\u0644\\u0648\\u0645\\u0627\\u062a\"\n        ],\n        \"semantic_type\": \"\",\n        \"description\": \"\"\n      }\n    },\n    {\n      \"column\": \"bug_report\",\n      \"properties\": {\n        \"dtype\": \"number\",\n        \"std\": 0,\n        \"min\": 0,\n        \"max\": 1,\n        \"num_unique_values\": 2,\n        \"samples\": [\n          0,\n          1\n        ],\n        \"semantic_type\": \"\",\n        \"description\": \"\"\n      }\n    },\n    {\n      \"column\": \"improvement_request\",\n      \"properties\": {\n        \"dtype\": \"number\",\n        \"std\": 0,\n        \"min\": 0,\n        \"max\": 1,\n        \"num_unique_values\": 2,\n        \"samples\": [\n          0,\n          1\n        ],\n        \"semantic_type\": \"\",\n        \"description\": \"\"\n      }\n    },\n    {\n      \"column\": \"rating\",\n      \"properties\": {\n        \"dtype\": \"number\",\n        \"std\": 0,\n        \"min\": 0,\n        \"max\": 1,\n        \"num_unique_values\": 2,\n        \"samples\": [\n          0,\n          1\n        ],\n        \"semantic_type\": \"\",\n        \"description\": \"\"\n      }\n    },\n    {\n      \"column\": \"others\",\n      \"properties\": {\n        \"dtype\": \"number\",\n        \"std\": 0,\n        \"min\": 0,\n        \"max\": 1,\n        \"num_unique_values\": 2,\n        \"samples\": [\n          1,\n          0\n        ],\n        \"semantic_type\": \"\",\n        \"description\": \"\"\n      }\n    }\n  ]\n}"
            }
          },
          "metadata": {},
          "execution_count": 9
        }
      ],
      "source": [
        "dataset.head()"
      ]
    },
    {
      "cell_type": "code",
      "execution_count": 10,
      "metadata": {
        "id": "fbHg70xAdcJh",
        "outputId": "6e98db11-6654-4925-e235-d5c668b25894",
        "colab": {
          "base_uri": "https://localhost:8080/",
          "height": 307
        }
      },
      "outputs": [
        {
          "output_type": "display_data",
          "data": {
            "text/plain": [
              "bug_report\n",
              "0    1736\n",
              "1    1164\n",
              "Name: count, dtype: int64"
            ]
          },
          "metadata": {}
        },
        {
          "output_type": "display_data",
          "data": {
            "text/plain": [
              "improvement_request\n",
              "0    1797\n",
              "1    1103\n",
              "Name: count, dtype: int64"
            ]
          },
          "metadata": {}
        },
        {
          "output_type": "display_data",
          "data": {
            "text/plain": [
              "rating\n",
              "1    1971\n",
              "0     929\n",
              "Name: count, dtype: int64"
            ]
          },
          "metadata": {}
        },
        {
          "output_type": "display_data",
          "data": {
            "text/plain": [
              "others\n",
              "0    2080\n",
              "1     820\n",
              "Name: count, dtype: int64"
            ]
          },
          "metadata": {}
        }
      ],
      "source": [
        "display(dataset['bug_report'].value_counts())\n",
        "display(dataset['improvement_request'].value_counts())\n",
        "display(dataset['rating'].value_counts())\n",
        "display(dataset['others'].value_counts())"
      ]
    },
    {
      "cell_type": "code",
      "execution_count": 11,
      "metadata": {
        "id": "D0Cw8PoidcJi",
        "outputId": "a616d996-4166-48e7-f888-3d0bb7c843a6",
        "colab": {
          "base_uri": "https://localhost:8080/",
          "height": 607
        }
      },
      "outputs": [
        {
          "output_type": "display_data",
          "data": {
            "text/plain": [
              "<Figure size 600x600 with 4 Axes>"
            ],
            "image/png": "[encoded data removed]"
          },
          "metadata": {}
        }
      ],
      "source": [
        "columns = ['bug_report', 'improvement_request', 'rating', 'others']\n",
        "pies_plot(columns, dataset)"
      ]
    },
    {
      "cell_type": "markdown",
      "metadata": {
        "id": "HcVZFtNRdcJj"
      },
      "source": [
        "1. character count\n",
        "2. word count\n",
        "3. max sentence's character and word count\n",
        "4. mean word length\n",
        "5. mean sentence length"
      ]
    },
    {
      "cell_type": "code",
      "execution_count": 12,
      "metadata": {
        "id": "GzltZW_WdcJj",
        "outputId": "705f8071-d3a8-49e5-ac9c-9aa29eb28f10",
        "colab": {
          "base_uri": "https://localhost:8080/",
          "height": 206
        }
      },
      "outputs": [
        {
          "output_type": "display_data",
          "data": {
            "text/plain": [
              "                                              review  bug_report  \\\n",
              "0                                 يبيله تصليحات كثير           1   \n",
              "1                  ماتحملت ابدددددا ونا دفعت فلوس 🤔😕           0   \n",
              "2  اتمنى منكم عمل خيار لتفضيل المسلسل بالكامل عوض...           0   \n",
              "3      ممتاز وبسيط وتشغيله لا يؤثر على سرعة الانترنت           0   \n",
              "4                                تبين م لي ي تم ل يب           0   \n",
              "\n",
              "   improvement_request  rating  others  char_count  word_count  \n",
              "0                    1       1       0          18           3  \n",
              "1                    1       1       1          33           6  \n",
              "2                    1       1       0          76          13  \n",
              "3                    0       1       0          45           8  \n",
              "4                    0       1       1          19           7  "
            ],
            "text/html": [
              "\n",
              "  <div id=\"df-21a7bd11-1076-4b26-847c-7a3af51cb1b1\" class=\"colab-df-container\">\n",
              "    <div>\n",
              "<style scoped>\n",
              "    .dataframe tbody tr th:only-of-type {\n",
              "        vertical-align: middle;\n",
              "    }\n",
              "\n",
              "    .dataframe tbody tr th {\n",
              "        vertical-align: top;\n",
              "    }\n",
              "\n",
              "    .dataframe thead th {\n",
              "        text-align: right;\n",
              "    }\n",
              "</style>\n",
              "<table border=\"1\" class=\"dataframe\">\n",
              "  <thead>\n",
              "    <tr style=\"text-align: right;\">\n",
              "      <th></th>\n",
              "      <th>review</th>\n",
              "      <th>bug_report</th>\n",
              "      <th>improvement_request</th>\n",
              "      <th>rating</th>\n",
              "      <th>others</th>\n",
              "      <th>char_count</th>\n",
              "      <th>word_count</th>\n",
              "    </tr>\n",
              "  </thead>\n",
              "  <tbody>\n",
              "    <tr>\n",
              "      <th>0</th>\n",
              "      <td>يبيله تصليحات كثير</td>\n",
              "      <td>1</td>\n",
              "      <td>1</td>\n",
              "      <td>1</td>\n",
              "      <td>0</td>\n",
              "      <td>18</td>\n",
              "      <td>3</td>\n",
              "    </tr>\n",
              "    <tr>\n",
              "      <th>1</th>\n",
              "      <td>ماتحملت ابدددددا ونا دفعت فلوس 🤔😕</td>\n",
              "      <td>0</td>\n",
              "      <td>1</td>\n",
              "      <td>1</td>\n",
              "      <td>1</td>\n",
              "      <td>33</td>\n",
              "      <td>6</td>\n",
              "    </tr>\n",
              "    <tr>\n",
              "      <th>2</th>\n",
              "      <td>اتمنى منكم عمل خيار لتفضيل المسلسل بالكامل عوض...</td>\n",
              "      <td>0</td>\n",
              "      <td>1</td>\n",
              "      <td>1</td>\n",
              "      <td>0</td>\n",
              "      <td>76</td>\n",
              "      <td>13</td>\n",
              "    </tr>\n",
              "    <tr>\n",
              "      <th>3</th>\n",
              "      <td>ممتاز وبسيط وتشغيله لا يؤثر على سرعة الانترنت</td>\n",
              "      <td>0</td>\n",
              "      <td>0</td>\n",
              "      <td>1</td>\n",
              "      <td>0</td>\n",
              "      <td>45</td>\n",
              "      <td>8</td>\n",
              "    </tr>\n",
              "    <tr>\n",
              "      <th>4</th>\n",
              "      <td>تبين م لي ي تم ل يب</td>\n",
              "      <td>0</td>\n",
              "      <td>0</td>\n",
              "      <td>1</td>\n",
              "      <td>1</td>\n",
              "      <td>19</td>\n",
              "      <td>7</td>\n",
              "    </tr>\n",
              "  </tbody>\n",
              "</table>\n",
              "</div>\n",
              "    <div class=\"colab-df-buttons\">\n",
              "\n",
              "  <div class=\"colab-df-container\">\n",
              "    <button class=\"colab-df-convert\" onclick=\"convertToInteractive('df-21a7bd11-1076-4b26-847c-7a3af51cb1b1')\"\n",
              "            title=\"Convert this dataframe to an interactive table.\"\n",
              "            style=\"display:none;\">\n",
              "\n",
              "  <svg xmlns=\"http://www.w3.org/2000/svg\" height=\"24px\" viewBox=\"0 -960 960 960\">\n",
              "    <path d=\"M120-120v-720h720v720H120Zm60-500h600v-160H180v160Zm220 220h160v-160H400v160Zm0 220h160v-160H400v160ZM180-400h160v-160H180v160Zm440 0h160v-160H620v160ZM180-180h160v-160H180v160Zm440 0h160v-160H620v160Z\"/>\n",
              "  </svg>\n",
              "    </button>\n",
              "\n",
              "  <style>\n",
              "    .colab-df-container {\n",
              "      display:flex;\n",
              "      gap: 12px;\n",
              "    }\n",
              "\n",
              "    .colab-df-convert {\n",
              "      background-color: #E8F0FE;\n",
              "      border: none;\n",
              "      border-radius: 50%;\n",
              "      cursor: pointer;\n",
              "      display: none;\n",
              "      fill: #1967D2;\n",
              "      height: 32px;\n",
              "      padding: 0 0 0 0;\n",
              "      width: 32px;\n",
              "    }\n",
              "\n",
              "    .colab-df-convert:hover {\n",
              "      background-color: #E2EBFA;\n",
              "      box-shadow: 0px 1px 2px rgba(60, 64, 67, 0.3), 0px 1px 3px 1px rgba(60, 64, 67, 0.15);\n",
              "      fill: #174EA6;\n",
              "    }\n",
              "\n",
              "    .colab-df-buttons div {\n",
              "      margin-bottom: 4px;\n",
              "    }\n",
              "\n",
              "    [theme=dark] .colab-df-convert {\n",
              "      background-color: #3B4455;\n",
              "      fill: #D2E3FC;\n",
              "    }\n",
              "\n",
              "    [theme=dark] .colab-df-convert:hover {\n",
              "      background-color: #434B5C;\n",
              "      box-shadow: 0px 1px 3px 1px rgba(0, 0, 0, 0.15);\n",
              "      filter: drop-shadow(0px 1px 2px rgba(0, 0, 0, 0.3));\n",
              "      fill: #FFFFFF;\n",
              "    }\n",
              "  </style>\n",
              "\n",
              "    <script>\n",
              "      const buttonEl =\n",
              "        document.querySelector('#df-21a7bd11-1076-4b26-847c-7a3af51cb1b1 button.colab-df-convert');\n",
              "      buttonEl.style.display =\n",
              "        google.colab.kernel.accessAllowed ? 'block' : 'none';\n",
              "\n",
              "      async function convertToInteractive(key) {\n",
              "        const element = document.querySelector('#df-21a7bd11-1076-4b26-847c-7a3af51cb1b1');\n",
              "        const dataTable =\n",
              "          await google.colab.kernel.invokeFunction('convertToInteractive',\n",
              "                                                    [key], {});\n",
              "        if (!dataTable) return;\n",
              "\n",
              "        const docLinkHtml = 'Like what you see? Visit the ' +\n",
              "          '<a target=\"_blank\" href=https://colab.research.google.com/notebooks/data_table.ipynb>data table notebook</a>'\n",
              "          + ' to learn more about interactive tables.';\n",
              "        element.innerHTML = '';\n",
              "        dataTable['output_type'] = 'display_data';\n",
              "        await google.colab.output.renderOutput(dataTable, element);\n",
              "        const docLink = document.createElement('div');\n",
              "        docLink.innerHTML = docLinkHtml;\n",
              "        element.appendChild(docLink);\n",
              "      }\n",
              "    </script>\n",
              "  </div>\n",
              "\n",
              "\n",
              "<div id=\"df-bda91db7-dc6c-42d3-9fd9-7a368c077f2e\">\n",
              "  <button class=\"colab-df-quickchart\" onclick=\"quickchart('df-bda91db7-dc6c-42d3-9fd9-7a368c077f2e')\"\n",
              "            title=\"Suggest charts\"\n",
              "            style=\"display:none;\">\n",
              "\n",
              "<svg xmlns=\"http://www.w3.org/2000/svg\" height=\"24px\"viewBox=\"0 0 24 24\"\n",
              "     width=\"24px\">\n",
              "    <g>\n",
              "        <path d=\"M19 3H5c-1.1 0-2 .9-2 2v14c0 1.1.9 2 2 2h14c1.1 0 2-.9 2-2V5c0-1.1-.9-2-2-2zM9 17H7v-7h2v7zm4 0h-2V7h2v10zm4 0h-2v-4h2v4z\"/>\n",
              "    </g>\n",
              "</svg>\n",
              "  </button>\n",
              "\n",
              "<style>\n",
              "  .colab-df-quickchart {\n",
              "      --bg-color: #E8F0FE;\n",
              "      --fill-color: #1967D2;\n",
              "      --hover-bg-color: #E2EBFA;\n",
              "      --hover-fill-color: #174EA6;\n",
              "      --disabled-fill-color: #AAA;\n",
              "      --disabled-bg-color: #DDD;\n",
              "  }\n",
              "\n",
              "  [theme=dark] .colab-df-quickchart {\n",
              "      --bg-color: #3B4455;\n",
              "      --fill-color: #D2E3FC;\n",
              "      --hover-bg-color: #434B5C;\n",
              "      --hover-fill-color: #FFFFFF;\n",
              "      --disabled-bg-color: #3B4455;\n",
              "      --disabled-fill-color: #666;\n",
              "  }\n",
              "\n",
              "  .colab-df-quickchart {\n",
              "    background-color: var(--bg-color);\n",
              "    border: none;\n",
              "    border-radius: 50%;\n",
              "    cursor: pointer;\n",
              "    display: none;\n",
              "    fill: var(--fill-color);\n",
              "    height: 32px;\n",
              "    padding: 0;\n",
              "    width: 32px;\n",
              "  }\n",
              "\n",
              "  .colab-df-quickchart:hover {\n",
              "    background-color: var(--hover-bg-color);\n",
              "    box-shadow: 0 1px 2px rgba(60, 64, 67, 0.3), 0 1px 3px 1px rgba(60, 64, 67, 0.15);\n",
              "    fill: var(--button-hover-fill-color);\n",
              "  }\n",
              "\n",
              "  .colab-df-quickchart-complete:disabled,\n",
              "  .colab-df-quickchart-complete:disabled:hover {\n",
              "    background-color: var(--disabled-bg-color);\n",
              "    fill: var(--disabled-fill-color);\n",
              "    box-shadow: none;\n",
              "  }\n",
              "\n",
              "  .colab-df-spinner {\n",
              "    border: 2px solid var(--fill-color);\n",
              "    border-color: transparent;\n",
              "    border-bottom-color: var(--fill-color);\n",
              "    animation:\n",
              "      spin 1s steps(1) infinite;\n",
              "  }\n",
              "\n",
              "  @keyframes spin {\n",
              "    0% {\n",
              "      border-color: transparent;\n",
              "      border-bottom-color: var(--fill-color);\n",
              "      border-left-color: var(--fill-color);\n",
              "    }\n",
              "    20% {\n",
              "      border-color: transparent;\n",
              "      border-left-color: var(--fill-color);\n",
              "      border-top-color: var(--fill-color);\n",
              "    }\n",
              "    30% {\n",
              "      border-color: transparent;\n",
              "      border-left-color: var(--fill-color);\n",
              "      border-top-color: var(--fill-color);\n",
              "      border-right-color: var(--fill-color);\n",
              "    }\n",
              "    40% {\n",
              "      border-color: transparent;\n",
              "      border-right-color: var(--fill-color);\n",
              "      border-top-color: var(--fill-color);\n",
              "    }\n",
              "    60% {\n",
              "      border-color: transparent;\n",
              "      border-right-color: var(--fill-color);\n",
              "    }\n",
              "    80% {\n",
              "      border-color: transparent;\n",
              "      border-right-color: var(--fill-color);\n",
              "      border-bottom-color: var(--fill-color);\n",
              "    }\n",
              "    90% {\n",
              "      border-color: transparent;\n",
              "      border-bottom-color: var(--fill-color);\n",
              "    }\n",
              "  }\n",
              "</style>\n",
              "\n",
              "  <script>\n",
              "    async function quickchart(key) {\n",
              "      const quickchartButtonEl =\n",
              "        document.querySelector('#' + key + ' button');\n",
              "      quickchartButtonEl.disabled = true;  // To prevent multiple clicks.\n",
              "      quickchartButtonEl.classList.add('colab-df-spinner');\n",
              "      try {\n",
              "        const charts = await google.colab.kernel.invokeFunction(\n",
              "            'suggestCharts', [key], {});\n",
              "      } catch (error) {\n",
              "        console.error('Error during call to suggestCharts:', error);\n",
              "      }\n",
              "      quickchartButtonEl.classList.remove('colab-df-spinner');\n",
              "      quickchartButtonEl.classList.add('colab-df-quickchart-complete');\n",
              "    }\n",
              "    (() => {\n",
              "      let quickchartButtonEl =\n",
              "        document.querySelector('#df-bda91db7-dc6c-42d3-9fd9-7a368c077f2e button');\n",
              "      quickchartButtonEl.style.display =\n",
              "        google.colab.kernel.accessAllowed ? 'block' : 'none';\n",
              "    })();\n",
              "  </script>\n",
              "</div>\n",
              "\n",
              "    </div>\n",
              "  </div>\n"
            ],
            "application/vnd.google.colaboratory.intrinsic+json": {
              "type": "dataframe",
              "summary": "{\n  \"name\": \"display(dataset\",\n  \"rows\": 5,\n  \"fields\": [\n    {\n      \"column\": \"review\",\n      \"properties\": {\n        \"dtype\": \"string\",\n        \"num_unique_values\": 5,\n        \"samples\": [\n          \"\\u0645\\u0627\\u062a\\u062d\\u0645\\u0644\\u062a \\u0627\\u0628\\u062f\\u062f\\u062f\\u062f\\u062f\\u0627 \\u0648\\u0646\\u0627 \\u062f\\u0641\\u0639\\u062a \\u0641\\u0644\\u0648\\u0633 \\ud83e\\udd14\\ud83d\\ude15\",\n          \"\\u062a\\u0628\\u064a\\u0646 \\u0645 \\u0644\\u064a \\u064a \\u062a\\u0645 \\u0644 \\u064a\\u0628\",\n          \"\\u0627\\u062a\\u0645\\u0646\\u0649 \\u0645\\u0646\\u0643\\u0645 \\u0639\\u0645\\u0644 \\u062e\\u064a\\u0627\\u0631 \\u0644\\u062a\\u0641\\u0636\\u064a\\u0644 \\u0627\\u0644\\u0645\\u0633\\u0644\\u0633\\u0644 \\u0628\\u0627\\u0644\\u0643\\u0627\\u0645\\u0644 \\u0639\\u0648\\u0636\\u0627\\u064b \\u0639\\u0646 \\u062a\\u0641\\u0636\\u064a\\u0644 \\u0627\\u0644\\u062d\\u0644\\u0642\\u0627\\u062a \\u0641\\u0642\\u0637\\n\\u0648\\u0634\\u0643\\u0631\\u0627\\u064b\"\n        ],\n        \"semantic_type\": \"\",\n        \"description\": \"\"\n      }\n    },\n    {\n      \"column\": \"bug_report\",\n      \"properties\": {\n        \"dtype\": \"number\",\n        \"std\": 0,\n        \"min\": 0,\n        \"max\": 1,\n        \"num_unique_values\": 2,\n        \"samples\": [\n          0,\n          1\n        ],\n        \"semantic_type\": \"\",\n        \"description\": \"\"\n      }\n    },\n    {\n      \"column\": \"improvement_request\",\n      \"properties\": {\n        \"dtype\": \"number\",\n        \"std\": 0,\n        \"min\": 0,\n        \"max\": 1,\n        \"num_unique_values\": 2,\n        \"samples\": [\n          0,\n          1\n        ],\n        \"semantic_type\": \"\",\n        \"description\": \"\"\n      }\n    },\n    {\n      \"column\": \"rating\",\n      \"properties\": {\n        \"dtype\": \"number\",\n        \"std\": 0,\n        \"min\": 1,\n        \"max\": 1,\n        \"num_unique_values\": 1,\n        \"samples\": [\n          1\n        ],\n        \"semantic_type\": \"\",\n        \"description\": \"\"\n      }\n    },\n    {\n      \"column\": \"others\",\n      \"properties\": {\n        \"dtype\": \"number\",\n        \"std\": 0,\n        \"min\": 0,\n        \"max\": 1,\n        \"num_unique_values\": 2,\n        \"samples\": [\n          1\n        ],\n        \"semantic_type\": \"\",\n        \"description\": \"\"\n      }\n    },\n    {\n      \"column\": \"char_count\",\n      \"properties\": {\n        \"dtype\": \"number\",\n        \"std\": 23,\n        \"min\": 18,\n        \"max\": 76,\n        \"num_unique_values\": 5,\n        \"samples\": [\n          33\n        ],\n        \"semantic_type\": \"\",\n        \"description\": \"\"\n      }\n    },\n    {\n      \"column\": \"word_count\",\n      \"properties\": {\n        \"dtype\": \"number\",\n        \"std\": 3,\n        \"min\": 3,\n        \"max\": 13,\n        \"num_unique_values\": 5,\n        \"samples\": [\n          6\n        ],\n        \"semantic_type\": \"\",\n        \"description\": \"\"\n      }\n    }\n  ]\n}"
            }
          },
          "metadata": {}
        }
      ],
      "source": [
        "dataset['char_count'] = dataset['review'].str.len()\n",
        "dataset['word_count'] = dataset['review'].str.split().str.len()\n",
        "display(dataset.head())"
      ]
    },
    {
      "cell_type": "code",
      "execution_count": 13,
      "metadata": {
        "id": "xZAlFZi4dcJj",
        "outputId": "972fb7d5-d717-403b-c351-65a5e41965e5",
        "colab": {
          "base_uri": "https://localhost:8080/",
          "height": 206
        }
      },
      "outputs": [
        {
          "output_type": "execute_result",
          "data": {
            "text/plain": [
              "                                                 review  bug_report  \\\n",
              "902   من فضلك أعد المحاولة\\nمن فضلك أعد المحاولة\\nمن...           0   \n",
              "87    أكثر من مليار تحميل.... لكن فيه عيوب العيب الأ...           1   \n",
              "369   العبة جميلة جدا جدا جداجدا جديد جدا حمام الدار...           0   \n",
              "170   غير متقولوش لعائشة اذا كان علابالي راح نبعتلكم...           0   \n",
              "1562  جميل جداً ورائع لكن احس في بعض العيوب الليالي ...           1   \n",
              "\n",
              "      improvement_request  rating  others  char_count  word_count  \n",
              "902                     0       0       1        3023         576  \n",
              "87                      1       1       0         500          89  \n",
              "369                     0       1       1         500         100  \n",
              "170                     0       0       1         500         100  \n",
              "1562                    1       1       1         499          93  "
            ],
            "text/html": [
              "\n",
              "  <div id=\"df-6b4a0046-ce99-47b0-aa26-840a6e2e64eb\" class=\"colab-df-container\">\n",
              "    <div>\n",
              "<style scoped>\n",
              "    .dataframe tbody tr th:only-of-type {\n",
              "        vertical-align: middle;\n",
              "    }\n",
              "\n",
              "    .dataframe tbody tr th {\n",
              "        vertical-align: top;\n",
              "    }\n",
              "\n",
              "    .dataframe thead th {\n",
              "        text-align: right;\n",
              "    }\n",
              "</style>\n",
              "<table border=\"1\" class=\"dataframe\">\n",
              "  <thead>\n",
              "    <tr style=\"text-align: right;\">\n",
              "      <th></th>\n",
              "      <th>review</th>\n",
              "      <th>bug_report</th>\n",
              "      <th>improvement_request</th>\n",
              "      <th>rating</th>\n",
              "      <th>others</th>\n",
              "      <th>char_count</th>\n",
              "      <th>word_count</th>\n",
              "    </tr>\n",
              "  </thead>\n",
              "  <tbody>\n",
              "    <tr>\n",
              "      <th>902</th>\n",
              "      <td>من فضلك أعد المحاولة\\nمن فضلك أعد المحاولة\\nمن...</td>\n",
              "      <td>0</td>\n",
              "      <td>0</td>\n",
              "      <td>0</td>\n",
              "      <td>1</td>\n",
              "      <td>3023</td>\n",
              "      <td>576</td>\n",
              "    </tr>\n",
              "    <tr>\n",
              "      <th>87</th>\n",
              "      <td>أكثر من مليار تحميل.... لكن فيه عيوب العيب الأ...</td>\n",
              "      <td>1</td>\n",
              "      <td>1</td>\n",
              "      <td>1</td>\n",
              "      <td>0</td>\n",
              "      <td>500</td>\n",
              "      <td>89</td>\n",
              "    </tr>\n",
              "    <tr>\n",
              "      <th>369</th>\n",
              "      <td>العبة جميلة جدا جدا جداجدا جديد جدا حمام الدار...</td>\n",
              "      <td>0</td>\n",
              "      <td>0</td>\n",
              "      <td>1</td>\n",
              "      <td>1</td>\n",
              "      <td>500</td>\n",
              "      <td>100</td>\n",
              "    </tr>\n",
              "    <tr>\n",
              "      <th>170</th>\n",
              "      <td>غير متقولوش لعائشة اذا كان علابالي راح نبعتلكم...</td>\n",
              "      <td>0</td>\n",
              "      <td>0</td>\n",
              "      <td>0</td>\n",
              "      <td>1</td>\n",
              "      <td>500</td>\n",
              "      <td>100</td>\n",
              "    </tr>\n",
              "    <tr>\n",
              "      <th>1562</th>\n",
              "      <td>جميل جداً ورائع لكن احس في بعض العيوب الليالي ...</td>\n",
              "      <td>1</td>\n",
              "      <td>1</td>\n",
              "      <td>1</td>\n",
              "      <td>1</td>\n",
              "      <td>499</td>\n",
              "      <td>93</td>\n",
              "    </tr>\n",
              "  </tbody>\n",
              "</table>\n",
              "</div>\n",
              "    <div class=\"colab-df-buttons\">\n",
              "\n",
              "  <div class=\"colab-df-container\">\n",
              "    <button class=\"colab-df-convert\" onclick=\"convertToInteractive('df-6b4a0046-ce99-47b0-aa26-840a6e2e64eb')\"\n",
              "            title=\"Convert this dataframe to an interactive table.\"\n",
              "            style=\"display:none;\">\n",
              "\n",
              "  <svg xmlns=\"http://www.w3.org/2000/svg\" height=\"24px\" viewBox=\"0 -960 960 960\">\n",
              "    <path d=\"M120-120v-720h720v720H120Zm60-500h600v-160H180v160Zm220 220h160v-160H400v160Zm0 220h160v-160H400v160ZM180-400h160v-160H180v160Zm440 0h160v-160H620v160ZM180-180h160v-160H180v160Zm440 0h160v-160H620v160Z\"/>\n",
              "  </svg>\n",
              "    </button>\n",
              "\n",
              "  <style>\n",
              "    .colab-df-container {\n",
              "      display:flex;\n",
              "      gap: 12px;\n",
              "    }\n",
              "\n",
              "    .colab-df-convert {\n",
              "      background-color: #E8F0FE;\n",
              "      border: none;\n",
              "      border-radius: 50%;\n",
              "      cursor: pointer;\n",
              "      display: none;\n",
              "      fill: #1967D2;\n",
              "      height: 32px;\n",
              "      padding: 0 0 0 0;\n",
              "      width: 32px;\n",
              "    }\n",
              "\n",
              "    .colab-df-convert:hover {\n",
              "      background-color: #E2EBFA;\n",
              "      box-shadow: 0px 1px 2px rgba(60, 64, 67, 0.3), 0px 1px 3px 1px rgba(60, 64, 67, 0.15);\n",
              "      fill: #174EA6;\n",
              "    }\n",
              "\n",
              "    .colab-df-buttons div {\n",
              "      margin-bottom: 4px;\n",
              "    }\n",
              "\n",
              "    [theme=dark] .colab-df-convert {\n",
              "      background-color: #3B4455;\n",
              "      fill: #D2E3FC;\n",
              "    }\n",
              "\n",
              "    [theme=dark] .colab-df-convert:hover {\n",
              "      background-color: #434B5C;\n",
              "      box-shadow: 0px 1px 3px 1px rgba(0, 0, 0, 0.15);\n",
              "      filter: drop-shadow(0px 1px 2px rgba(0, 0, 0, 0.3));\n",
              "      fill: #FFFFFF;\n",
              "    }\n",
              "  </style>\n",
              "\n",
              "    <script>\n",
              "      const buttonEl =\n",
              "        document.querySelector('#df-6b4a0046-ce99-47b0-aa26-840a6e2e64eb button.colab-df-convert');\n",
              "      buttonEl.style.display =\n",
              "        google.colab.kernel.accessAllowed ? 'block' : 'none';\n",
              "\n",
              "      async function convertToInteractive(key) {\n",
              "        const element = document.querySelector('#df-6b4a0046-ce99-47b0-aa26-840a6e2e64eb');\n",
              "        const dataTable =\n",
              "          await google.colab.kernel.invokeFunction('convertToInteractive',\n",
              "                                                    [key], {});\n",
              "        if (!dataTable) return;\n",
              "\n",
              "        const docLinkHtml = 'Like what you see? Visit the ' +\n",
              "          '<a target=\"_blank\" href=https://colab.research.google.com/notebooks/data_table.ipynb>data table notebook</a>'\n",
              "          + ' to learn more about interactive tables.';\n",
              "        element.innerHTML = '';\n",
              "        dataTable['output_type'] = 'display_data';\n",
              "        await google.colab.output.renderOutput(dataTable, element);\n",
              "        const docLink = document.createElement('div');\n",
              "        docLink.innerHTML = docLinkHtml;\n",
              "        element.appendChild(docLink);\n",
              "      }\n",
              "    </script>\n",
              "  </div>\n",
              "\n",
              "\n",
              "<div id=\"df-6f5ea736-abd3-4346-8046-2709de449f61\">\n",
              "  <button class=\"colab-df-quickchart\" onclick=\"quickchart('df-6f5ea736-abd3-4346-8046-2709de449f61')\"\n",
              "            title=\"Suggest charts\"\n",
              "            style=\"display:none;\">\n",
              "\n",
              "<svg xmlns=\"http://www.w3.org/2000/svg\" height=\"24px\"viewBox=\"0 0 24 24\"\n",
              "     width=\"24px\">\n",
              "    <g>\n",
              "        <path d=\"M19 3H5c-1.1 0-2 .9-2 2v14c0 1.1.9 2 2 2h14c1.1 0 2-.9 2-2V5c0-1.1-.9-2-2-2zM9 17H7v-7h2v7zm4 0h-2V7h2v10zm4 0h-2v-4h2v4z\"/>\n",
              "    </g>\n",
              "</svg>\n",
              "  </button>\n",
              "\n",
              "<style>\n",
              "  .colab-df-quickchart {\n",
              "      --bg-color: #E8F0FE;\n",
              "      --fill-color: #1967D2;\n",
              "      --hover-bg-color: #E2EBFA;\n",
              "      --hover-fill-color: #174EA6;\n",
              "      --disabled-fill-color: #AAA;\n",
              "      --disabled-bg-color: #DDD;\n",
              "  }\n",
              "\n",
              "  [theme=dark] .colab-df-quickchart {\n",
              "      --bg-color: #3B4455;\n",
              "      --fill-color: #D2E3FC;\n",
              "      --hover-bg-color: #434B5C;\n",
              "      --hover-fill-color: #FFFFFF;\n",
              "      --disabled-bg-color: #3B4455;\n",
              "      --disabled-fill-color: #666;\n",
              "  }\n",
              "\n",
              "  .colab-df-quickchart {\n",
              "    background-color: var(--bg-color);\n",
              "    border: none;\n",
              "    border-radius: 50%;\n",
              "    cursor: pointer;\n",
              "    display: none;\n",
              "    fill: var(--fill-color);\n",
              "    height: 32px;\n",
              "    padding: 0;\n",
              "    width: 32px;\n",
              "  }\n",
              "\n",
              "  .colab-df-quickchart:hover {\n",
              "    background-color: var(--hover-bg-color);\n",
              "    box-shadow: 0 1px 2px rgba(60, 64, 67, 0.3), 0 1px 3px 1px rgba(60, 64, 67, 0.15);\n",
              "    fill: var(--button-hover-fill-color);\n",
              "  }\n",
              "\n",
              "  .colab-df-quickchart-complete:disabled,\n",
              "  .colab-df-quickchart-complete:disabled:hover {\n",
              "    background-color: var(--disabled-bg-color);\n",
              "    fill: var(--disabled-fill-color);\n",
              "    box-shadow: none;\n",
              "  }\n",
              "\n",
              "  .colab-df-spinner {\n",
              "    border: 2px solid var(--fill-color);\n",
              "    border-color: transparent;\n",
              "    border-bottom-color: var(--fill-color);\n",
              "    animation:\n",
              "      spin 1s steps(1) infinite;\n",
              "  }\n",
              "\n",
              "  @keyframes spin {\n",
              "    0% {\n",
              "      border-color: transparent;\n",
              "      border-bottom-color: var(--fill-color);\n",
              "      border-left-color: var(--fill-color);\n",
              "    }\n",
              "    20% {\n",
              "      border-color: transparent;\n",
              "      border-left-color: var(--fill-color);\n",
              "      border-top-color: var(--fill-color);\n",
              "    }\n",
              "    30% {\n",
              "      border-color: transparent;\n",
              "      border-left-color: var(--fill-color);\n",
              "      border-top-color: var(--fill-color);\n",
              "      border-right-color: var(--fill-color);\n",
              "    }\n",
              "    40% {\n",
              "      border-color: transparent;\n",
              "      border-right-color: var(--fill-color);\n",
              "      border-top-color: var(--fill-color);\n",
              "    }\n",
              "    60% {\n",
              "      border-color: transparent;\n",
              "      border-right-color: var(--fill-color);\n",
              "    }\n",
              "    80% {\n",
              "      border-color: transparent;\n",
              "      border-right-color: var(--fill-color);\n",
              "      border-bottom-color: var(--fill-color);\n",
              "    }\n",
              "    90% {\n",
              "      border-color: transparent;\n",
              "      border-bottom-color: var(--fill-color);\n",
              "    }\n",
              "  }\n",
              "</style>\n",
              "\n",
              "  <script>\n",
              "    async function quickchart(key) {\n",
              "      const quickchartButtonEl =\n",
              "        document.querySelector('#' + key + ' button');\n",
              "      quickchartButtonEl.disabled = true;  // To prevent multiple clicks.\n",
              "      quickchartButtonEl.classList.add('colab-df-spinner');\n",
              "      try {\n",
              "        const charts = await google.colab.kernel.invokeFunction(\n",
              "            'suggestCharts', [key], {});\n",
              "      } catch (error) {\n",
              "        console.error('Error during call to suggestCharts:', error);\n",
              "      }\n",
              "      quickchartButtonEl.classList.remove('colab-df-spinner');\n",
              "      quickchartButtonEl.classList.add('colab-df-quickchart-complete');\n",
              "    }\n",
              "    (() => {\n",
              "      let quickchartButtonEl =\n",
              "        document.querySelector('#df-6f5ea736-abd3-4346-8046-2709de449f61 button');\n",
              "      quickchartButtonEl.style.display =\n",
              "        google.colab.kernel.accessAllowed ? 'block' : 'none';\n",
              "    })();\n",
              "  </script>\n",
              "</div>\n",
              "\n",
              "    </div>\n",
              "  </div>\n"
            ],
            "application/vnd.google.colaboratory.intrinsic+json": {
              "type": "dataframe",
              "variable_name": "sortedDataset",
              "summary": "{\n  \"name\": \"sortedDataset\",\n  \"rows\": 2900,\n  \"fields\": [\n    {\n      \"column\": \"review\",\n      \"properties\": {\n        \"dtype\": \"string\",\n        \"num_unique_values\": 2892,\n        \"samples\": [\n          \"\\u0645\\u0645\\u062a\\u0627\\u0632 \\u062c\\u062f\\u0627 \\u0644\\u0645\\u062d\\u0628\\u064a \\u0627\\u0644\\u0627\\u063a\\u0627\\u0646\\u064a\",\n          \"\\u0627\\u0644\\u0631\\u062c\\u0627\\u0621 \\u0627\\u0644\\u063a\\u0627\\u0621 \\u0627\\u0644\\u0634\\u0627\\u062a \\u0627\\u0644\\u0639\\u0627\\u0644\\u0645\\u064a \\n\\u0644\\u0645\\u0627 \\u0641\\u064a\\u0647 \\u0645\\u0646 \\u0627\\u0644\\u0646\\u0635\\u0628 \\u0648\\u0627\\u0644\\u0627\\u062d\\u062a\\u064a\\u0627\\u0644 \\n\\u0648\\u0639\\u0645\\u0644\\u064a\\u0627\\u062a \\u0627\\u0644\\u0627\\u0631\\u0647\\u0627\\u0628 \\u0627\\u0644\\u062e\\u0637\\u064a\\u0631\\u0647 \\n\\u0644\\u0627\\u0646\\u0646\\u064a \\u0645\\u0633\\u062d\\u062a \\u0627\\u0644\\u0644\\u0639\\u0628\\u0647 \\u0628\\u0633\\u0628\\u0628 \\u0627\\u0644\\u0634\\u0627\\u062a \\u0627\\u0644\\u0639\\u0627\\u0644\\u0645\\u064a \\u0627\\u0644\\u0631\\u062c\\u0627\\u0621 \\u0627\\u0644\\u063a\\u0627\\u0621 \\n\\u0627\\u0644\\u0634\\u0627\\u062a \\u0627\\u0644\\u0639\\u0627\\u0644\\u0645\\u064a\",\n          \"\\u062a\\u0631\\u0627 \\u0627\\u0644\\u0639\\u0628\\u0647 \\u0645\\u0631\\u0647 \\u062d\\u0644\\u0648\\u0647 \\u062c\\u062f\\u0627 \\u062c\\u062f\\u0627\"\n        ],\n        \"semantic_type\": \"\",\n        \"description\": \"\"\n      }\n    },\n    {\n      \"column\": \"bug_report\",\n      \"properties\": {\n        \"dtype\": \"number\",\n        \"std\": 0,\n        \"min\": 0,\n        \"max\": 1,\n        \"num_unique_values\": 2,\n        \"samples\": [\n          1,\n          0\n        ],\n        \"semantic_type\": \"\",\n        \"description\": \"\"\n      }\n    },\n    {\n      \"column\": \"improvement_request\",\n      \"properties\": {\n        \"dtype\": \"number\",\n        \"std\": 0,\n        \"min\": 0,\n        \"max\": 1,\n        \"num_unique_values\": 2,\n        \"samples\": [\n          1,\n          0\n        ],\n        \"semantic_type\": \"\",\n        \"description\": \"\"\n      }\n    },\n    {\n      \"column\": \"rating\",\n      \"properties\": {\n        \"dtype\": \"number\",\n        \"std\": 0,\n        \"min\": 0,\n        \"max\": 1,\n        \"num_unique_values\": 2,\n        \"samples\": [\n          1,\n          0\n        ],\n        \"semantic_type\": \"\",\n        \"description\": \"\"\n      }\n    },\n    {\n      \"column\": \"others\",\n      \"properties\": {\n        \"dtype\": \"number\",\n        \"std\": 0,\n        \"min\": 0,\n        \"max\": 1,\n        \"num_unique_values\": 2,\n        \"samples\": [\n          0,\n          1\n        ],\n        \"semantic_type\": \"\",\n        \"description\": \"\"\n      }\n    },\n    {\n      \"column\": \"char_count\",\n      \"properties\": {\n        \"dtype\": \"number\",\n        \"std\": 87,\n        \"min\": 10,\n        \"max\": 3023,\n        \"num_unique_values\": 291,\n        \"samples\": [\n          224,\n          41\n        ],\n        \"semantic_type\": \"\",\n        \"description\": \"\"\n      }\n    },\n    {\n      \"column\": \"word_count\",\n      \"properties\": {\n        \"dtype\": \"number\",\n        \"std\": 15,\n        \"min\": 3,\n        \"max\": 576,\n        \"num_unique_values\": 85,\n        \"samples\": [\n          15,\n          576\n        ],\n        \"semantic_type\": \"\",\n        \"description\": \"\"\n      }\n    }\n  ]\n}"
            }
          },
          "metadata": {},
          "execution_count": 13
        }
      ],
      "source": [
        "sortedDataset = dataset.sort_values('char_count', ascending=False)\n",
        "\n",
        "sortedDataset.head()"
      ]
    },
    {
      "cell_type": "code",
      "execution_count": 14,
      "metadata": {
        "id": "cGRoKthhdcJk",
        "outputId": "ae61d49a-9011-4b52-c04e-1065c09b8823",
        "colab": {
          "base_uri": "https://localhost:8080/",
          "height": 241
        }
      },
      "outputs": [
        {
          "output_type": "execute_result",
          "data": {
            "text/plain": [
              "                                              review  bug_report  \\\n",
              "0                                 يبيله تصليحات كثير           1   \n",
              "1                  ماتحملت ابدددددا ونا دفعت فلوس 🤔😕           0   \n",
              "2  اتمنى منكم عمل خيار لتفضيل المسلسل بالكامل عوض...           0   \n",
              "3      ممتاز وبسيط وتشغيله لا يؤثر على سرعة الانترنت           0   \n",
              "4                                تبين م لي ي تم ل يب           0   \n",
              "\n",
              "   improvement_request  rating  others  char_count  word_count  \\\n",
              "0                    1       1       0          18           3   \n",
              "1                    1       1       1          33           6   \n",
              "2                    1       1       0          76          13   \n",
              "3                    0       1       0          45           8   \n",
              "4                    0       1       1          19           7   \n",
              "\n",
              "   mean_word_length  mean_sent_length  \n",
              "0          5.333333              18.0  \n",
              "1          4.666667              33.0  \n",
              "2          4.923077              76.0  \n",
              "3          4.750000              45.0  \n",
              "4          1.857143              19.0  "
            ],
            "text/html": [
              "\n",
              "  <div id=\"df-3f78dbbd-f857-4a50-97cc-828e91e712f1\" class=\"colab-df-container\">\n",
              "    <div>\n",
              "<style scoped>\n",
              "    .dataframe tbody tr th:only-of-type {\n",
              "        vertical-align: middle;\n",
              "    }\n",
              "\n",
              "    .dataframe tbody tr th {\n",
              "        vertical-align: top;\n",
              "    }\n",
              "\n",
              "    .dataframe thead th {\n",
              "        text-align: right;\n",
              "    }\n",
              "</style>\n",
              "<table border=\"1\" class=\"dataframe\">\n",
              "  <thead>\n",
              "    <tr style=\"text-align: right;\">\n",
              "      <th></th>\n",
              "      <th>review</th>\n",
              "      <th>bug_report</th>\n",
              "      <th>improvement_request</th>\n",
              "      <th>rating</th>\n",
              "      <th>others</th>\n",
              "      <th>char_count</th>\n",
              "      <th>word_count</th>\n",
              "      <th>mean_word_length</th>\n",
              "      <th>mean_sent_length</th>\n",
              "    </tr>\n",
              "  </thead>\n",
              "  <tbody>\n",
              "    <tr>\n",
              "      <th>0</th>\n",
              "      <td>يبيله تصليحات كثير</td>\n",
              "      <td>1</td>\n",
              "      <td>1</td>\n",
              "      <td>1</td>\n",
              "      <td>0</td>\n",
              "      <td>18</td>\n",
              "      <td>3</td>\n",
              "      <td>5.333333</td>\n",
              "      <td>18.0</td>\n",
              "    </tr>\n",
              "    <tr>\n",
              "      <th>1</th>\n",
              "      <td>ماتحملت ابدددددا ونا دفعت فلوس 🤔😕</td>\n",
              "      <td>0</td>\n",
              "      <td>1</td>\n",
              "      <td>1</td>\n",
              "      <td>1</td>\n",
              "      <td>33</td>\n",
              "      <td>6</td>\n",
              "      <td>4.666667</td>\n",
              "      <td>33.0</td>\n",
              "    </tr>\n",
              "    <tr>\n",
              "      <th>2</th>\n",
              "      <td>اتمنى منكم عمل خيار لتفضيل المسلسل بالكامل عوض...</td>\n",
              "      <td>0</td>\n",
              "      <td>1</td>\n",
              "      <td>1</td>\n",
              "      <td>0</td>\n",
              "      <td>76</td>\n",
              "      <td>13</td>\n",
              "      <td>4.923077</td>\n",
              "      <td>76.0</td>\n",
              "    </tr>\n",
              "    <tr>\n",
              "      <th>3</th>\n",
              "      <td>ممتاز وبسيط وتشغيله لا يؤثر على سرعة الانترنت</td>\n",
              "      <td>0</td>\n",
              "      <td>0</td>\n",
              "      <td>1</td>\n",
              "      <td>0</td>\n",
              "      <td>45</td>\n",
              "      <td>8</td>\n",
              "      <td>4.750000</td>\n",
              "      <td>45.0</td>\n",
              "    </tr>\n",
              "    <tr>\n",
              "      <th>4</th>\n",
              "      <td>تبين م لي ي تم ل يب</td>\n",
              "      <td>0</td>\n",
              "      <td>0</td>\n",
              "      <td>1</td>\n",
              "      <td>1</td>\n",
              "      <td>19</td>\n",
              "      <td>7</td>\n",
              "      <td>1.857143</td>\n",
              "      <td>19.0</td>\n",
              "    </tr>\n",
              "  </tbody>\n",
              "</table>\n",
              "</div>\n",
              "    <div class=\"colab-df-buttons\">\n",
              "\n",
              "  <div class=\"colab-df-container\">\n",
              "    <button class=\"colab-df-convert\" onclick=\"convertToInteractive('df-3f78dbbd-f857-4a50-97cc-828e91e712f1')\"\n",
              "            title=\"Convert this dataframe to an interactive table.\"\n",
              "            style=\"display:none;\">\n",
              "\n",
              "  <svg xmlns=\"http://www.w3.org/2000/svg\" height=\"24px\" viewBox=\"0 -960 960 960\">\n",
              "    <path d=\"M120-120v-720h720v720H120Zm60-500h600v-160H180v160Zm220 220h160v-160H400v160Zm0 220h160v-160H400v160ZM180-400h160v-160H180v160Zm440 0h160v-160H620v160ZM180-180h160v-160H180v160Zm440 0h160v-160H620v160Z\"/>\n",
              "  </svg>\n",
              "    </button>\n",
              "\n",
              "  <style>\n",
              "    .colab-df-container {\n",
              "      display:flex;\n",
              "      gap: 12px;\n",
              "    }\n",
              "\n",
              "    .colab-df-convert {\n",
              "      background-color: #E8F0FE;\n",
              "      border: none;\n",
              "      border-radius: 50%;\n",
              "      cursor: pointer;\n",
              "      display: none;\n",
              "      fill: #1967D2;\n",
              "      height: 32px;\n",
              "      padding: 0 0 0 0;\n",
              "      width: 32px;\n",
              "    }\n",
              "\n",
              "    .colab-df-convert:hover {\n",
              "      background-color: #E2EBFA;\n",
              "      box-shadow: 0px 1px 2px rgba(60, 64, 67, 0.3), 0px 1px 3px 1px rgba(60, 64, 67, 0.15);\n",
              "      fill: #174EA6;\n",
              "    }\n",
              "\n",
              "    .colab-df-buttons div {\n",
              "      margin-bottom: 4px;\n",
              "    }\n",
              "\n",
              "    [theme=dark] .colab-df-convert {\n",
              "      background-color: #3B4455;\n",
              "      fill: #D2E3FC;\n",
              "    }\n",
              "\n",
              "    [theme=dark] .colab-df-convert:hover {\n",
              "      background-color: #434B5C;\n",
              "      box-shadow: 0px 1px 3px 1px rgba(0, 0, 0, 0.15);\n",
              "      filter: drop-shadow(0px 1px 2px rgba(0, 0, 0, 0.3));\n",
              "      fill: #FFFFFF;\n",
              "    }\n",
              "  </style>\n",
              "\n",
              "    <script>\n",
              "      const buttonEl =\n",
              "        document.querySelector('#df-3f78dbbd-f857-4a50-97cc-828e91e712f1 button.colab-df-convert');\n",
              "      buttonEl.style.display =\n",
              "        google.colab.kernel.accessAllowed ? 'block' : 'none';\n",
              "\n",
              "      async function convertToInteractive(key) {\n",
              "        const element = document.querySelector('#df-3f78dbbd-f857-4a50-97cc-828e91e712f1');\n",
              "        const dataTable =\n",
              "          await google.colab.kernel.invokeFunction('convertToInteractive',\n",
              "                                                    [key], {});\n",
              "        if (!dataTable) return;\n",
              "\n",
              "        const docLinkHtml = 'Like what you see? Visit the ' +\n",
              "          '<a target=\"_blank\" href=https://colab.research.google.com/notebooks/data_table.ipynb>data table notebook</a>'\n",
              "          + ' to learn more about interactive tables.';\n",
              "        element.innerHTML = '';\n",
              "        dataTable['output_type'] = 'display_data';\n",
              "        await google.colab.output.renderOutput(dataTable, element);\n",
              "        const docLink = document.createElement('div');\n",
              "        docLink.innerHTML = docLinkHtml;\n",
              "        element.appendChild(docLink);\n",
              "      }\n",
              "    </script>\n",
              "  </div>\n",
              "\n",
              "\n",
              "<div id=\"df-c0baedac-b744-43a1-8576-5e9cdd6092e8\">\n",
              "  <button class=\"colab-df-quickchart\" onclick=\"quickchart('df-c0baedac-b744-43a1-8576-5e9cdd6092e8')\"\n",
              "            title=\"Suggest charts\"\n",
              "            style=\"display:none;\">\n",
              "\n",
              "<svg xmlns=\"http://www.w3.org/2000/svg\" height=\"24px\"viewBox=\"0 0 24 24\"\n",
              "     width=\"24px\">\n",
              "    <g>\n",
              "        <path d=\"M19 3H5c-1.1 0-2 .9-2 2v14c0 1.1.9 2 2 2h14c1.1 0 2-.9 2-2V5c0-1.1-.9-2-2-2zM9 17H7v-7h2v7zm4 0h-2V7h2v10zm4 0h-2v-4h2v4z\"/>\n",
              "    </g>\n",
              "</svg>\n",
              "  </button>\n",
              "\n",
              "<style>\n",
              "  .colab-df-quickchart {\n",
              "      --bg-color: #E8F0FE;\n",
              "      --fill-color: #1967D2;\n",
              "      --hover-bg-color: #E2EBFA;\n",
              "      --hover-fill-color: #174EA6;\n",
              "      --disabled-fill-color: #AAA;\n",
              "      --disabled-bg-color: #DDD;\n",
              "  }\n",
              "\n",
              "  [theme=dark] .colab-df-quickchart {\n",
              "      --bg-color: #3B4455;\n",
              "      --fill-color: #D2E3FC;\n",
              "      --hover-bg-color: #434B5C;\n",
              "      --hover-fill-color: #FFFFFF;\n",
              "      --disabled-bg-color: #3B4455;\n",
              "      --disabled-fill-color: #666;\n",
              "  }\n",
              "\n",
              "  .colab-df-quickchart {\n",
              "    background-color: var(--bg-color);\n",
              "    border: none;\n",
              "    border-radius: 50%;\n",
              "    cursor: pointer;\n",
              "    display: none;\n",
              "    fill: var(--fill-color);\n",
              "    height: 32px;\n",
              "    padding: 0;\n",
              "    width: 32px;\n",
              "  }\n",
              "\n",
              "  .colab-df-quickchart:hover {\n",
              "    background-color: var(--hover-bg-color);\n",
              "    box-shadow: 0 1px 2px rgba(60, 64, 67, 0.3), 0 1px 3px 1px rgba(60, 64, 67, 0.15);\n",
              "    fill: var(--button-hover-fill-color);\n",
              "  }\n",
              "\n",
              "  .colab-df-quickchart-complete:disabled,\n",
              "  .colab-df-quickchart-complete:disabled:hover {\n",
              "    background-color: var(--disabled-bg-color);\n",
              "    fill: var(--disabled-fill-color);\n",
              "    box-shadow: none;\n",
              "  }\n",
              "\n",
              "  .colab-df-spinner {\n",
              "    border: 2px solid var(--fill-color);\n",
              "    border-color: transparent;\n",
              "    border-bottom-color: var(--fill-color);\n",
              "    animation:\n",
              "      spin 1s steps(1) infinite;\n",
              "  }\n",
              "\n",
              "  @keyframes spin {\n",
              "    0% {\n",
              "      border-color: transparent;\n",
              "      border-bottom-color: var(--fill-color);\n",
              "      border-left-color: var(--fill-color);\n",
              "    }\n",
              "    20% {\n",
              "      border-color: transparent;\n",
              "      border-left-color: var(--fill-color);\n",
              "      border-top-color: var(--fill-color);\n",
              "    }\n",
              "    30% {\n",
              "      border-color: transparent;\n",
              "      border-left-color: var(--fill-color);\n",
              "      border-top-color: var(--fill-color);\n",
              "      border-right-color: var(--fill-color);\n",
              "    }\n",
              "    40% {\n",
              "      border-color: transparent;\n",
              "      border-right-color: var(--fill-color);\n",
              "      border-top-color: var(--fill-color);\n",
              "    }\n",
              "    60% {\n",
              "      border-color: transparent;\n",
              "      border-right-color: var(--fill-color);\n",
              "    }\n",
              "    80% {\n",
              "      border-color: transparent;\n",
              "      border-right-color: var(--fill-color);\n",
              "      border-bottom-color: var(--fill-color);\n",
              "    }\n",
              "    90% {\n",
              "      border-color: transparent;\n",
              "      border-bottom-color: var(--fill-color);\n",
              "    }\n",
              "  }\n",
              "</style>\n",
              "\n",
              "  <script>\n",
              "    async function quickchart(key) {\n",
              "      const quickchartButtonEl =\n",
              "        document.querySelector('#' + key + ' button');\n",
              "      quickchartButtonEl.disabled = true;  // To prevent multiple clicks.\n",
              "      quickchartButtonEl.classList.add('colab-df-spinner');\n",
              "      try {\n",
              "        const charts = await google.colab.kernel.invokeFunction(\n",
              "            'suggestCharts', [key], {});\n",
              "      } catch (error) {\n",
              "        console.error('Error during call to suggestCharts:', error);\n",
              "      }\n",
              "      quickchartButtonEl.classList.remove('colab-df-spinner');\n",
              "      quickchartButtonEl.classList.add('colab-df-quickchart-complete');\n",
              "    }\n",
              "    (() => {\n",
              "      let quickchartButtonEl =\n",
              "        document.querySelector('#df-c0baedac-b744-43a1-8576-5e9cdd6092e8 button');\n",
              "      quickchartButtonEl.style.display =\n",
              "        google.colab.kernel.accessAllowed ? 'block' : 'none';\n",
              "    })();\n",
              "  </script>\n",
              "</div>\n",
              "\n",
              "    </div>\n",
              "  </div>\n"
            ],
            "application/vnd.google.colaboratory.intrinsic+json": {
              "type": "dataframe",
              "variable_name": "dataset",
              "summary": "{\n  \"name\": \"dataset\",\n  \"rows\": 2900,\n  \"fields\": [\n    {\n      \"column\": \"review\",\n      \"properties\": {\n        \"dtype\": \"string\",\n        \"num_unique_values\": 2892,\n        \"samples\": [\n          \"\\u0645\\u0646 \\u0627\\u0641\\u0636\\u0644 \\u0627\\u0644\\u062a\\u0628\\u064a\\u0637\\u0642\\u0627\\u062a \\u0628\\u0639\\u062f \\u062a\\u0648\\u0643\\u0644\\u0646\\u0627\",\n          \"\\u0645\\u0634\\u0643\\u0644\\u062a\\u0647 \\u0628\\u064a\\u0639\\u0645\\u0644 \\u062a\\u0648\\u0642\\u0641 \\u0644\\u0644\\u0627\\u0645\\u064a\\u0644 \\u0648\\u0627\\u0644\\u0633\\u0628\\u0628 \\u0643\\u062b\\u0631\\u0647 \\u0627\\u0644\\u0627\\u0628\\u0644\\u0627\\u063a\\u0627\\u062a \\u0648\\u0627\\u0646\\u0627 \\u0645\\u0634 \\u0628\\u0641\\u062a\\u062d\\u0647 \\u0627\\u0635\\u0644\\u0627\",\n          \"\\u064a\\u0627 \\u0644\\u064a\\u062a \\u062a\\u0636\\u064a\\u0641\\u0648\\u0646 \\u062e\\u064a\\u0627\\u0631\\u0627\\u062a \\u0627\\u062f\\u062e\\u0627\\u0644 \\u0627\\u0644\\u0645\\u0639\\u0644\\u0648\\u0645\\u0627\\u062a\"\n        ],\n        \"semantic_type\": \"\",\n        \"description\": \"\"\n      }\n    },\n    {\n      \"column\": \"bug_report\",\n      \"properties\": {\n        \"dtype\": \"number\",\n        \"std\": 0,\n        \"min\": 0,\n        \"max\": 1,\n        \"num_unique_values\": 2,\n        \"samples\": [\n          0,\n          1\n        ],\n        \"semantic_type\": \"\",\n        \"description\": \"\"\n      }\n    },\n    {\n      \"column\": \"improvement_request\",\n      \"properties\": {\n        \"dtype\": \"number\",\n        \"std\": 0,\n        \"min\": 0,\n        \"max\": 1,\n        \"num_unique_values\": 2,\n        \"samples\": [\n          0,\n          1\n        ],\n        \"semantic_type\": \"\",\n        \"description\": \"\"\n      }\n    },\n    {\n      \"column\": \"rating\",\n      \"properties\": {\n        \"dtype\": \"number\",\n        \"std\": 0,\n        \"min\": 0,\n        \"max\": 1,\n        \"num_unique_values\": 2,\n        \"samples\": [\n          0,\n          1\n        ],\n        \"semantic_type\": \"\",\n        \"description\": \"\"\n      }\n    },\n    {\n      \"column\": \"others\",\n      \"properties\": {\n        \"dtype\": \"number\",\n        \"std\": 0,\n        \"min\": 0,\n        \"max\": 1,\n        \"num_unique_values\": 2,\n        \"samples\": [\n          1,\n          0\n        ],\n        \"semantic_type\": \"\",\n        \"description\": \"\"\n      }\n    },\n    {\n      \"column\": \"char_count\",\n      \"properties\": {\n        \"dtype\": \"number\",\n        \"std\": 87,\n        \"min\": 10,\n        \"max\": 3023,\n        \"num_unique_values\": 291,\n        \"samples\": [\n          54,\n          351\n        ],\n        \"semantic_type\": \"\",\n        \"description\": \"\"\n      }\n    },\n    {\n      \"column\": \"word_count\",\n      \"properties\": {\n        \"dtype\": \"number\",\n        \"std\": 15,\n        \"min\": 3,\n        \"max\": 576,\n        \"num_unique_values\": 85,\n        \"samples\": [\n          68,\n          3\n        ],\n        \"semantic_type\": \"\",\n        \"description\": \"\"\n      }\n    },\n    {\n      \"column\": \"mean_word_length\",\n      \"properties\": {\n        \"dtype\": \"number\",\n        \"std\": 2.428047648536092,\n        \"min\": 1.375,\n        \"max\": 82.33333333333333,\n        \"num_unique_values\": 593,\n        \"samples\": [\n          4.555555555555555,\n          4.2\n        ],\n        \"semantic_type\": \"\",\n        \"description\": \"\"\n      }\n    },\n    {\n      \"column\": \"mean_sent_length\",\n      \"properties\": {\n        \"dtype\": \"number\",\n        \"std\": 83.90510485163405,\n        \"min\": 6.6,\n        \"max\": 3023.0,\n        \"num_unique_values\": 320,\n        \"samples\": [\n          362.0,\n          273.0\n        ],\n        \"semantic_type\": \"\",\n        \"description\": \"\"\n      }\n    }\n  ]\n}"
            }
          },
          "metadata": {},
          "execution_count": 14
        }
      ],
      "source": [
        "dataset['mean_word_length'] = dataset['review'].map(lambda r: np.mean([len(word) for word in r.split()]))\n",
        "dataset['mean_sent_length'] = dataset['review'].map(lambda r: np.mean([len(sent) for sent in tokenize.sent_tokenize(r)]))\n",
        "dataset.head()"
      ]
    },
    {
      "cell_type": "markdown",
      "source": [
        "# Preprocessing"
      ],
      "metadata": {
        "id": "_Jg5yy6leu0G"
      }
    },
    {
      "cell_type": "code",
      "execution_count": 15,
      "metadata": {
        "id": "BgUyFQbeKJUR",
        "colab": {
          "base_uri": "https://localhost:8080/"
        },
        "outputId": "6a95763c-b210-4439-cca1-1b7619288b91"
      },
      "outputs": [
        {
          "output_type": "stream",
          "name": "stdout",
          "text": [
            "['ماتحملت ابدا ونا دفعت فلوس', 'سلام عليكم ناس كلب', 'عبه جميله جدا جدا جداجدا جديد جدا حمام دار.', 'سال', '', 'مما ننا كا', 'لعبه']\n"
          ]
        }
      ],
      "source": [
        "import re\n",
        "\n",
        "sample = [\n",
        "    'ماتحملت ابدددددا ونا دفعت الفلوس',\n",
        "    'ألسلام عليكم في الناس كلب',\n",
        "    'الََعبة جميلة جدا جدا جداجدا جديد جدا حمام الدار...',\n",
        "    'ييييي السال',\n",
        "    'ااا لللل ععع',\n",
        "    'مما ننا ككا',\n",
        "    'اللعبة'\n",
        "]\n",
        "\n",
        "def custom_preprocessing(sentences):\n",
        "  sentences_proccesed = []\n",
        "  for sentence in sentences:\n",
        "    # Delete جميع الحركات\n",
        "    sentence = re.sub(r'[\\u064B-\\u0652]', '', sentence)\n",
        "\n",
        "    # Delete تحويل (أ, إ) الى ا\n",
        "    sentence = re.sub(r'[أإ]', 'ا', sentence)\n",
        "\n",
        "    # Delete حروف الجر, كان واخواتها\n",
        "    sentence = re.sub(r'\\b(فى|في|على|من|الى|كان|لكن)\\b', ' ', sentence)\n",
        "\n",
        "    # Replace ة الى ه\n",
        "    sentence = re.sub(r'ة', r'ه', sentence)\n",
        "\n",
        "    # Delete التعريف\n",
        "    sentence = re.sub(r'\\bال', '', sentence)\n",
        "\n",
        "    # Delete الحرف المكرر اكثر من مرتين بالتوالي\n",
        "    sentence = re.sub(r'(.)\\1{2,}', r'\\1\\1', sentence)\n",
        "\n",
        "    # Replace كل حرف يتكرر مرتين الى حرف واحد ما عدا الميم\n",
        "    sentence = re.sub(r'(?!م|ن)(.)\\1', r'\\1', sentence)\n",
        "\n",
        "    # Delete اي حرف لحاله\n",
        "    sentence = re.sub(r'\\b\\w\\b', '', sentence)\n",
        "\n",
        "    # Delete اي كلمة اطول من 16 حرف\n",
        "    sentence = ' '.join(word for word in sentence.split() if len(word) <= 16)\n",
        "\n",
        "    # Delete اي علامة تتكرر مره وحده بس\n",
        "    sentence = re.sub(r'([^\\w\\s])\\1', '', sentence)\n",
        "\n",
        "    sentences_proccesed.append(sentence)\n",
        "\n",
        "  return sentences_proccesed\n",
        "\n",
        "processed_samples = custom_preprocessing(sample)\n",
        "print(processed_samples)"
      ]
    },
    {
      "cell_type": "code",
      "source": [
        "df = pd.DataFrame({'Original Sentences': train_sentences, 'Processed Sentences': custom_preprocessing(train_sentences)})\n",
        "\n",
        "df['proccesed word count'] = df['Processed Sentences'].str.split().apply(len)\n",
        "df['word count'] = df['Original Sentences'].str.split().apply(len)\n",
        "\n",
        "df = df.sort_values(by='proccesed word count', ascending=False)"
      ],
      "metadata": {
        "id": "dd6JexyYHj1V"
      },
      "execution_count": 31,
      "outputs": []
    },
    {
      "cell_type": "code",
      "source": [
        "display(df.head(10))"
      ],
      "metadata": {
        "colab": {
          "base_uri": "https://localhost:8080/",
          "height": 363
        },
        "id": "Iwbdk5ZiNg8-",
        "outputId": "42a15f4f-06fe-4055-b125-babf2ec88924"
      },
      "execution_count": 32,
      "outputs": [
        {
          "output_type": "display_data",
          "data": {
            "text/plain": [
              "                                     Original Sentences  \\\n",
              "1363  من فضلك أعد المحاولة\\nمن فضلك أعد المحاولة\\nمن...   \n",
              "1683  انا كويس الحمد والشكر على كل شيء شي من برا بس ...   \n",
              "192   غير متقولوش لعائشة اذا كان علابالي راح نبعتلكم...   \n",
              "83    بكل حياديه وتجرد انقل تجربتي التطبيق جميل جدا ...   \n",
              "85    جميل جداً ورائع لكن احس في بعض العيوب الليالي ...   \n",
              "289   كل ما افتح مقطع يوتيوب يطلع اعلان\\nكل ما افتح ...   \n",
              "924   نصابين ، لاحدا يشتري من المتجر ، بالآخر خسران ...   \n",
              "1591  العبة جميلة جدا جدا جداجدا جديد جدا حمام الدار...   \n",
              "1953  والله فرحنا كثيراً بتطبيق مطبعة الملك فهد لكن ...   \n",
              "1302  اعزائي الزملاء : بما اني احد منسوبي الصحة ، فه...   \n",
              "\n",
              "                                    Processed Sentences  proccesed word count  \\\n",
              "1363  فضلك اعد محاوله فضلك اعد محاوله فضلك اعد محاول...                   432   \n",
              "1683  انا كويس حمد والشكر كل شيء شي برا بس مو كل شي ...                    95   \n",
              "192   غير متقولوش لعائشه اذا علابالي راح نبعتلكم تصو...                    86   \n",
              "83    بكل حياديه وتجرد انقل تجربتي تطبيق جميل جدا جد...                    85   \n",
              "85    جميل جدا ورائع احس بعض عيوب ليالي بيعلق معي كث...                    84   \n",
              "289   كل ما افتح مقطع يوتيوب يطلع اعلان كل ما افتح م...                    81   \n",
              "924   نصابين ، لاحدا يشتري متجر ، بالآخر خسران قد ما...                    79   \n",
              "1591  عبه جميله جدا جدا جداجدا جديد جدا حمام دار اور...                    78   \n",
              "1953  واله فرحنا كثيرا بتطبيق مطبعه ملك فهد لاسف به ...                    77   \n",
              "1302  اعزائي زملاء : بما اني احد منسوبي صحه ، فهذا ت...                    73   \n",
              "\n",
              "      word count  \n",
              "1363         576  \n",
              "1683         106  \n",
              "192          100  \n",
              "83            92  \n",
              "85            93  \n",
              "289           84  \n",
              "924           85  \n",
              "1591         100  \n",
              "1953          92  \n",
              "1302          76  "
            ],
            "text/html": [
              "\n",
              "  <div id=\"df-e9a3ae75-f9be-424f-a393-e2b4afde7a2e\" class=\"colab-df-container\">\n",
              "    <div>\n",
              "<style scoped>\n",
              "    .dataframe tbody tr th:only-of-type {\n",
              "        vertical-align: middle;\n",
              "    }\n",
              "\n",
              "    .dataframe tbody tr th {\n",
              "        vertical-align: top;\n",
              "    }\n",
              "\n",
              "    .dataframe thead th {\n",
              "        text-align: right;\n",
              "    }\n",
              "</style>\n",
              "<table border=\"1\" class=\"dataframe\">\n",
              "  <thead>\n",
              "    <tr style=\"text-align: right;\">\n",
              "      <th></th>\n",
              "      <th>Original Sentences</th>\n",
              "      <th>Processed Sentences</th>\n",
              "      <th>proccesed word count</th>\n",
              "      <th>word count</th>\n",
              "    </tr>\n",
              "  </thead>\n",
              "  <tbody>\n",
              "    <tr>\n",
              "      <th>1363</th>\n",
              "      <td>من فضلك أعد المحاولة\\nمن فضلك أعد المحاولة\\nمن...</td>\n",
              "      <td>فضلك اعد محاوله فضلك اعد محاوله فضلك اعد محاول...</td>\n",
              "      <td>432</td>\n",
              "      <td>576</td>\n",
              "    </tr>\n",
              "    <tr>\n",
              "      <th>1683</th>\n",
              "      <td>انا كويس الحمد والشكر على كل شيء شي من برا بس ...</td>\n",
              "      <td>انا كويس حمد والشكر كل شيء شي برا بس مو كل شي ...</td>\n",
              "      <td>95</td>\n",
              "      <td>106</td>\n",
              "    </tr>\n",
              "    <tr>\n",
              "      <th>192</th>\n",
              "      <td>غير متقولوش لعائشة اذا كان علابالي راح نبعتلكم...</td>\n",
              "      <td>غير متقولوش لعائشه اذا علابالي راح نبعتلكم تصو...</td>\n",
              "      <td>86</td>\n",
              "      <td>100</td>\n",
              "    </tr>\n",
              "    <tr>\n",
              "      <th>83</th>\n",
              "      <td>بكل حياديه وتجرد انقل تجربتي التطبيق جميل جدا ...</td>\n",
              "      <td>بكل حياديه وتجرد انقل تجربتي تطبيق جميل جدا جد...</td>\n",
              "      <td>85</td>\n",
              "      <td>92</td>\n",
              "    </tr>\n",
              "    <tr>\n",
              "      <th>85</th>\n",
              "      <td>جميل جداً ورائع لكن احس في بعض العيوب الليالي ...</td>\n",
              "      <td>جميل جدا ورائع احس بعض عيوب ليالي بيعلق معي كث...</td>\n",
              "      <td>84</td>\n",
              "      <td>93</td>\n",
              "    </tr>\n",
              "    <tr>\n",
              "      <th>289</th>\n",
              "      <td>كل ما افتح مقطع يوتيوب يطلع اعلان\\nكل ما افتح ...</td>\n",
              "      <td>كل ما افتح مقطع يوتيوب يطلع اعلان كل ما افتح م...</td>\n",
              "      <td>81</td>\n",
              "      <td>84</td>\n",
              "    </tr>\n",
              "    <tr>\n",
              "      <th>924</th>\n",
              "      <td>نصابين ، لاحدا يشتري من المتجر ، بالآخر خسران ...</td>\n",
              "      <td>نصابين ، لاحدا يشتري متجر ، بالآخر خسران قد ما...</td>\n",
              "      <td>79</td>\n",
              "      <td>85</td>\n",
              "    </tr>\n",
              "    <tr>\n",
              "      <th>1591</th>\n",
              "      <td>العبة جميلة جدا جدا جداجدا جديد جدا حمام الدار...</td>\n",
              "      <td>عبه جميله جدا جدا جداجدا جديد جدا حمام دار اور...</td>\n",
              "      <td>78</td>\n",
              "      <td>100</td>\n",
              "    </tr>\n",
              "    <tr>\n",
              "      <th>1953</th>\n",
              "      <td>والله فرحنا كثيراً بتطبيق مطبعة الملك فهد لكن ...</td>\n",
              "      <td>واله فرحنا كثيرا بتطبيق مطبعه ملك فهد لاسف به ...</td>\n",
              "      <td>77</td>\n",
              "      <td>92</td>\n",
              "    </tr>\n",
              "    <tr>\n",
              "      <th>1302</th>\n",
              "      <td>اعزائي الزملاء : بما اني احد منسوبي الصحة ، فه...</td>\n",
              "      <td>اعزائي زملاء : بما اني احد منسوبي صحه ، فهذا ت...</td>\n",
              "      <td>73</td>\n",
              "      <td>76</td>\n",
              "    </tr>\n",
              "  </tbody>\n",
              "</table>\n",
              "</div>\n",
              "    <div class=\"colab-df-buttons\">\n",
              "\n",
              "  <div class=\"colab-df-container\">\n",
              "    <button class=\"colab-df-convert\" onclick=\"convertToInteractive('df-e9a3ae75-f9be-424f-a393-e2b4afde7a2e')\"\n",
              "            title=\"Convert this dataframe to an interactive table.\"\n",
              "            style=\"display:none;\">\n",
              "\n",
              "  <svg xmlns=\"http://www.w3.org/2000/svg\" height=\"24px\" viewBox=\"0 -960 960 960\">\n",
              "    <path d=\"M120-120v-720h720v720H120Zm60-500h600v-160H180v160Zm220 220h160v-160H400v160Zm0 220h160v-160H400v160ZM180-400h160v-160H180v160Zm440 0h160v-160H620v160ZM180-180h160v-160H180v160Zm440 0h160v-160H620v160Z\"/>\n",
              "  </svg>\n",
              "    </button>\n",
              "\n",
              "  <style>\n",
              "    .colab-df-container {\n",
              "      display:flex;\n",
              "      gap: 12px;\n",
              "    }\n",
              "\n",
              "    .colab-df-convert {\n",
              "      background-color: #E8F0FE;\n",
              "      border: none;\n",
              "      border-radius: 50%;\n",
              "      cursor: pointer;\n",
              "      display: none;\n",
              "      fill: #1967D2;\n",
              "      height: 32px;\n",
              "      padding: 0 0 0 0;\n",
              "      width: 32px;\n",
              "    }\n",
              "\n",
              "    .colab-df-convert:hover {\n",
              "      background-color: #E2EBFA;\n",
              "      box-shadow: 0px 1px 2px rgba(60, 64, 67, 0.3), 0px 1px 3px 1px rgba(60, 64, 67, 0.15);\n",
              "      fill: #174EA6;\n",
              "    }\n",
              "\n",
              "    .colab-df-buttons div {\n",
              "      margin-bottom: 4px;\n",
              "    }\n",
              "\n",
              "    [theme=dark] .colab-df-convert {\n",
              "      background-color: #3B4455;\n",
              "      fill: #D2E3FC;\n",
              "    }\n",
              "\n",
              "    [theme=dark] .colab-df-convert:hover {\n",
              "      background-color: #434B5C;\n",
              "      box-shadow: 0px 1px 3px 1px rgba(0, 0, 0, 0.15);\n",
              "      filter: drop-shadow(0px 1px 2px rgba(0, 0, 0, 0.3));\n",
              "      fill: #FFFFFF;\n",
              "    }\n",
              "  </style>\n",
              "\n",
              "    <script>\n",
              "      const buttonEl =\n",
              "        document.querySelector('#df-e9a3ae75-f9be-424f-a393-e2b4afde7a2e button.colab-df-convert');\n",
              "      buttonEl.style.display =\n",
              "        google.colab.kernel.accessAllowed ? 'block' : 'none';\n",
              "\n",
              "      async function convertToInteractive(key) {\n",
              "        const element = document.querySelector('#df-e9a3ae75-f9be-424f-a393-e2b4afde7a2e');\n",
              "        const dataTable =\n",
              "          await google.colab.kernel.invokeFunction('convertToInteractive',\n",
              "                                                    [key], {});\n",
              "        if (!dataTable) return;\n",
              "\n",
              "        const docLinkHtml = 'Like what you see? Visit the ' +\n",
              "          '<a target=\"_blank\" href=https://colab.research.google.com/notebooks/data_table.ipynb>data table notebook</a>'\n",
              "          + ' to learn more about interactive tables.';\n",
              "        element.innerHTML = '';\n",
              "        dataTable['output_type'] = 'display_data';\n",
              "        await google.colab.output.renderOutput(dataTable, element);\n",
              "        const docLink = document.createElement('div');\n",
              "        docLink.innerHTML = docLinkHtml;\n",
              "        element.appendChild(docLink);\n",
              "      }\n",
              "    </script>\n",
              "  </div>\n",
              "\n",
              "\n",
              "<div id=\"df-d66e57d7-9856-4380-b8f1-d17dc4d16835\">\n",
              "  <button class=\"colab-df-quickchart\" onclick=\"quickchart('df-d66e57d7-9856-4380-b8f1-d17dc4d16835')\"\n",
              "            title=\"Suggest charts\"\n",
              "            style=\"display:none;\">\n",
              "\n",
              "<svg xmlns=\"http://www.w3.org/2000/svg\" height=\"24px\"viewBox=\"0 0 24 24\"\n",
              "     width=\"24px\">\n",
              "    <g>\n",
              "        <path d=\"M19 3H5c-1.1 0-2 .9-2 2v14c0 1.1.9 2 2 2h14c1.1 0 2-.9 2-2V5c0-1.1-.9-2-2-2zM9 17H7v-7h2v7zm4 0h-2V7h2v10zm4 0h-2v-4h2v4z\"/>\n",
              "    </g>\n",
              "</svg>\n",
              "  </button>\n",
              "\n",
              "<style>\n",
              "  .colab-df-quickchart {\n",
              "      --bg-color: #E8F0FE;\n",
              "      --fill-color: #1967D2;\n",
              "      --hover-bg-color: #E2EBFA;\n",
              "      --hover-fill-color: #174EA6;\n",
              "      --disabled-fill-color: #AAA;\n",
              "      --disabled-bg-color: #DDD;\n",
              "  }\n",
              "\n",
              "  [theme=dark] .colab-df-quickchart {\n",
              "      --bg-color: #3B4455;\n",
              "      --fill-color: #D2E3FC;\n",
              "      --hover-bg-color: #434B5C;\n",
              "      --hover-fill-color: #FFFFFF;\n",
              "      --disabled-bg-color: #3B4455;\n",
              "      --disabled-fill-color: #666;\n",
              "  }\n",
              "\n",
              "  .colab-df-quickchart {\n",
              "    background-color: var(--bg-color);\n",
              "    border: none;\n",
              "    border-radius: 50%;\n",
              "    cursor: pointer;\n",
              "    display: none;\n",
              "    fill: var(--fill-color);\n",
              "    height: 32px;\n",
              "    padding: 0;\n",
              "    width: 32px;\n",
              "  }\n",
              "\n",
              "  .colab-df-quickchart:hover {\n",
              "    background-color: var(--hover-bg-color);\n",
              "    box-shadow: 0 1px 2px rgba(60, 64, 67, 0.3), 0 1px 3px 1px rgba(60, 64, 67, 0.15);\n",
              "    fill: var(--button-hover-fill-color);\n",
              "  }\n",
              "\n",
              "  .colab-df-quickchart-complete:disabled,\n",
              "  .colab-df-quickchart-complete:disabled:hover {\n",
              "    background-color: var(--disabled-bg-color);\n",
              "    fill: var(--disabled-fill-color);\n",
              "    box-shadow: none;\n",
              "  }\n",
              "\n",
              "  .colab-df-spinner {\n",
              "    border: 2px solid var(--fill-color);\n",
              "    border-color: transparent;\n",
              "    border-bottom-color: var(--fill-color);\n",
              "    animation:\n",
              "      spin 1s steps(1) infinite;\n",
              "  }\n",
              "\n",
              "  @keyframes spin {\n",
              "    0% {\n",
              "      border-color: transparent;\n",
              "      border-bottom-color: var(--fill-color);\n",
              "      border-left-color: var(--fill-color);\n",
              "    }\n",
              "    20% {\n",
              "      border-color: transparent;\n",
              "      border-left-color: var(--fill-color);\n",
              "      border-top-color: var(--fill-color);\n",
              "    }\n",
              "    30% {\n",
              "      border-color: transparent;\n",
              "      border-left-color: var(--fill-color);\n",
              "      border-top-color: var(--fill-color);\n",
              "      border-right-color: var(--fill-color);\n",
              "    }\n",
              "    40% {\n",
              "      border-color: transparent;\n",
              "      border-right-color: var(--fill-color);\n",
              "      border-top-color: var(--fill-color);\n",
              "    }\n",
              "    60% {\n",
              "      border-color: transparent;\n",
              "      border-right-color: var(--fill-color);\n",
              "    }\n",
              "    80% {\n",
              "      border-color: transparent;\n",
              "      border-right-color: var(--fill-color);\n",
              "      border-bottom-color: var(--fill-color);\n",
              "    }\n",
              "    90% {\n",
              "      border-color: transparent;\n",
              "      border-bottom-color: var(--fill-color);\n",
              "    }\n",
              "  }\n",
              "</style>\n",
              "\n",
              "  <script>\n",
              "    async function quickchart(key) {\n",
              "      const quickchartButtonEl =\n",
              "        document.querySelector('#' + key + ' button');\n",
              "      quickchartButtonEl.disabled = true;  // To prevent multiple clicks.\n",
              "      quickchartButtonEl.classList.add('colab-df-spinner');\n",
              "      try {\n",
              "        const charts = await google.colab.kernel.invokeFunction(\n",
              "            'suggestCharts', [key], {});\n",
              "      } catch (error) {\n",
              "        console.error('Error during call to suggestCharts:', error);\n",
              "      }\n",
              "      quickchartButtonEl.classList.remove('colab-df-spinner');\n",
              "      quickchartButtonEl.classList.add('colab-df-quickchart-complete');\n",
              "    }\n",
              "    (() => {\n",
              "      let quickchartButtonEl =\n",
              "        document.querySelector('#df-d66e57d7-9856-4380-b8f1-d17dc4d16835 button');\n",
              "      quickchartButtonEl.style.display =\n",
              "        google.colab.kernel.accessAllowed ? 'block' : 'none';\n",
              "    })();\n",
              "  </script>\n",
              "</div>\n",
              "\n",
              "    </div>\n",
              "  </div>\n"
            ],
            "application/vnd.google.colaboratory.intrinsic+json": {
              "type": "dataframe",
              "summary": "{\n  \"name\": \"display(df\",\n  \"rows\": 10,\n  \"fields\": [\n    {\n      \"column\": \"Original Sentences\",\n      \"properties\": {\n        \"dtype\": \"string\",\n        \"num_unique_values\": 10,\n        \"samples\": [\n          \"\\u0648\\u0627\\u0644\\u0644\\u0647 \\u0641\\u0631\\u062d\\u0646\\u0627 \\u0643\\u062b\\u064a\\u0631\\u0627\\u064b \\u0628\\u062a\\u0637\\u0628\\u064a\\u0642 \\u0645\\u0637\\u0628\\u0639\\u0629 \\u0627\\u0644\\u0645\\u0644\\u0643 \\u0641\\u0647\\u062f \\u0644\\u0643\\u0646 \\u0644\\u0644\\u0623\\u0633\\u0641 \\u0628\\u0647 \\u0623\\u062e\\u0637\\u0627\\u0621 \\u0648 \\u0645\\u064a\\u0632\\u0627\\u062a \\u0646\\u0627\\u0642\\u0635\\u0629 \\u0643\\u062b\\u064a\\u0631\\u0629 \\u062c\\u062f\\u0627\\u064b \\u0648 \\u0644\\u0627 \\u064a\\u062a\\u0645 \\u062a\\u062d\\u0645\\u064a\\u0644 \\u0627\\u0644\\u0645\\u0635\\u062d\\u0641\\u064a\\u0646 \\u0627\\u0644\\u0623\\u062e\\u0636\\u0631 \\u0648 \\u0627\\u0644\\u0623\\u0632\\u0631\\u0642 \\u0623\\u0631\\u062c\\u0648 \\u0623\\u0646 \\u064a\\u062a\\u0645 \\u0639\\u0645\\u0644 \\u0647\\u0630\\u0627 \\u0627\\u0644\\u062a\\u0637\\u0628\\u064a\\u0642 \\u0628\\u0645\\u0627 \\u064a\\u0644\\u064a\\u0642 \\u0628\\u0645\\u0643\\u0627\\u0646\\u0629 \\u0627\\u0644\\u0645\\u0635\\u062d\\u0641 \\u0648 \\u0628\\u0645\\u0627 \\u0647\\u0648 \\u0645\\u0624\\u0645\\u0644 \\u0645\\u0646 \\u0627\\u0644\\u0645\\u0637\\u0628\\u0639\\u0629 \\u0648 \\u0623\\u0631\\u062c\\u0648 \\u0645\\u0646 \\u0627\\u0644\\u0634\\u0624\\u0648\\u0646 \\u0627\\u0644\\u0625\\u0633\\u0644\\u0627\\u0645\\u064a\\u0629 \\u0627\\u0644\\u0625\\u0633\\u062a\\u0639\\u0627\\u0646\\u0629 \\u0628\\u062e\\u0628\\u0631\\u0627\\u0621 \\u0627\\u0644\\u062a\\u0637\\u0628\\u064a\\u0642\\u0627\\u062a \\u0648 \\u062a\\u062e\\u0631\\u064a\\u062c \\u0646\\u0633\\u062e\\u0629 \\u0645\\u062d\\u062f\\u062b\\u0629 \\u0644\\u0627 \\u0639\\u064a\\u0628 \\u0641\\u064a\\u0647\\u0627 \\u0648 \\u0631\\u0627\\u0626\\u062f\\u0629 \\u062a\\u0638\\u0647\\u0631 \\u062c\\u0645\\u0627\\u0644\\u064a\\u0629 \\u0647\\u0630\\u0627 \\u0627\\u0644\\u0643\\u062a\\u0627\\u0628 \\u0627\\u0644\\u0643\\u0631\\u064a\\u0645 \\u0648\\u0627\\u0644\\u0644\\u0647 \\u0644\\u0646\\u0627 \\u0627\\u0644\\u0623\\u062c\\u0631 \\u0627\\u0644\\u0639\\u0638\\u064a\\u0645 \\u0648 \\u0627\\u0644\\u062b\\u0648\\u0627\\u0628 \\u0627\\u0644\\u0643\\u0628\\u064a\\u0631 \\u0625\\u0646 \\u0631\\u0633\\u062e\\u0646\\u0627 \\u0623\\u0646\\u0641\\u0633\\u0646\\u0627 \\u0641\\u064a \\u062e\\u062f\\u0645\\u0629 \\u0643\\u062a\\u0627\\u0628 \\u0627\\u0644\\u0644\\u0647 \\u0627\\u0644\\u0639\\u0638\\u064a\\u0645 \\u062c\\u0632\\u0627\\u0643\\u0645 \\u0627\\u0644\\u0644\\u0647 \\u062e\\u064a\\u0631\\u0627\\u064b \\u0648 \\u0646\\u0646\\u062a\\u0638\\u0631 \\u0645\\u0646\\u0643\\u0645 \\u0627\\u0644\\u0623\\u0641\\u0636\\u0644 \\u0648 \\u0627\\u0644\\u0623\\u0641\\u0636\\u0644 \\u0645\\u0646 \\u0628\\u064a\\u0646 \\u062c\\u0645\\u064a\\u0639 \\u0627\\u0644\\u062a\\u0637\\u0628\\u064a\\u0642\\u0627\\u062a . .\",\n          \"\\u0627\\u0646\\u0627 \\u0643\\u0648\\u064a\\u0633 \\u0627\\u0644\\u062d\\u0645\\u062f \\u0648\\u0627\\u0644\\u0634\\u0643\\u0631 \\u0639\\u0644\\u0649 \\u0643\\u0644 \\u0634\\u064a\\u0621 \\u0634\\u064a \\u0645\\u0646 \\u0628\\u0631\\u0627 \\u0628\\u0633 \\u0645\\u0648 \\u0643\\u0644 \\u0634\\u064a \\u062a\\u0645\\u0627\\u0645 \\u0641\\u064a\\u0643 \\u064a\\u0627 \\u0645\\u0631\\u062d\\u0628\\u0627 \\ud83d\\udc4b \\u0662\\u0660 \\u0662\\u0660 \\u0645\\u0631\\u062d\\u0628\\u0627 \\u0662\\u0660 \\u0662 \\u0662\\u0660 \\u0662 \\u0666 \\u0627\\u0644\\u0644\\u0647 \\u064a\\u0633\\u0639\\u062f\\u0643 \\u0648\\u0628\\u0631\\u0643\\u0627\\u062a\\u0647 \\u064a\\u0627\\u0631\\u0628 \\u0648\\u064a\\u0627\\u0643 \\u064a\\u0627\\u0631\\u0628 \\u0627\\u0644\\u0644\\u0647 \\u064a\\u0633\\u0645\\u0639 \\u0645\\u0646\\u0643 \\u064a\\u0627\\u0631\\u0628 \\u0648\\u064a\\u0627\\u0643 \\u064a\\u0627 \\u0631\\u0628 \\u0627\\u0644\\u0639\\u0627\\u0644\\u0645\\u064a\\u0646 \\u0648\\u0627\\u0644\\u0635\\u0644\\u0627\\u0629 \\u0639\\u0644\\u0649 \\u0627\\u0644\\u0646\\u0628\\u064a \\u0635\\u0644\\u0649 \\u0627\\u0644\\u0644\\u0647 \\u0648\\u0628\\u0631\\u0643\\u0627\\u062a\\u0647 \\u0645\\u0633\\u0627\\u0621 \\u0627\\u0644\\u062e\\u064a\\u0631 \\u0627\\u0628\\u0648 \\u0639\\u0628\\u062f\\u0627\\u0644\\u0644\\u0647 \\u0628\\u0646 \\u0639\\u0628\\u062f\\u0627\\u0644\\u0639\\u0632\\u064a\\u0632 \\u0622\\u0644 \\u0627\\u0644\\u0634\\u064a\\u062e \\u0639\\u0628\\u062f\\u0627\\u0644\\u0644\\u0647 \\u0628\\u0646 \\u0645\\u062d\\u0645\\u062f \\u0622\\u0644 \\u0645\\u0631\\u062d\\u0628\\u0627 \\u0645\\u0644\\u064a\\u0648\\u0646 \\u0645\\u0628\\u0631\\u0648\\u0643 \\u0648\\u0631\\u0628\\u0646\\u0627 \\u064a\\u0628\\u0627\\u0631\\u0643 \\u0641\\u064a\\u0643 \\u064a\\u0627\\u0631\\u0628 \\u0648\\u064a\\u0627\\u0643 \\u064a\\u0627 \\u0631\\u0628 \\u064a\\u0627 \\u0631\\u0628 \\u064a\\u0627 \\u062d\\u0628\\u064a\\u0628\\u062a\\u064a \\u0631\\u0628\\u0646\\u0627 \\u064a\\u0628\\u0627\\u0631\\u0643 \\u0641\\u064a\\u0643 \\u064a\\u0627\\u0631\\u0628 \\u0648\\u064a\\u0627\\u0643 \\u064a\\u0627\\u0631\\u0628 \\u0627\\u0644\\u0639\\u0627\\u0644\\u0645\\u064a\\u0646 \\u0648\\u0625\\u064a\\u0627\\u0643\\u0645 \\u064a\\u0627\\u0631\\u0628 \\u0666 \\u0627\\u0644\\u0644\\u0647 \\u064a\\u0633\\u0644\\u0645\\u0643 \\u064a\\u0627 \\u063a\\u0627\\u0644\\u064a \\u0631\\u0628\\u064a \\u064a\\u0633\\u0639\\u062f\\u0643 \\u064a\\u0627 \\u0642\\u0644\\u0628\\u064a \\u0627\\u0646\\u062a\\u064a \\u0648\\u0627\\u0644\\u0644\\u0647 \\u0627\\u0646\\u064a \\u0641\\u064a \\u0628\\u064a\\u062a \\u0648\\u0627\\u062d\\u062f \\u0641\\u064a \\u0627\\u0644\\u062f\\u0646\\u064a\\u0627 \\u062f\\u064a \\u0643\\u0644\\u0647\\u0627 \\u0645\\u0646 \\u0648\\u064a\\u0646 \\u0645\\u0646 \\u0627\\u0644\\u064a\\u0645\\u0646 \\u0663\\u0660\\u0660\\u066c\\u0660\\u0660\\u0660\\u066c\\u0660\\u0660\\u0660\",\n          \"\\u0643\\u0644 \\u0645\\u0627 \\u0627\\u0641\\u062a\\u062d \\u0645\\u0642\\u0637\\u0639 \\u064a\\u0648\\u062a\\u064a\\u0648\\u0628 \\u064a\\u0637\\u0644\\u0639 \\u0627\\u0639\\u0644\\u0627\\u0646\\n\\u0643\\u0644 \\u0645\\u0627 \\u0627\\u0641\\u062a\\u062d \\u0645\\u0648\\u0642\\u0639 \\u0628\\u0645\\u062d\\u0631\\u0643 \\u0627\\u0644\\u0628\\u062d\\u062b \\u064a\\u0637\\u0644\\u0639 \\u0627\\u0639\\u0644\\u0627\\u0646\\n\\u0643\\u0644 \\u0645\\u0627 \\u0627\\u0646\\u0632\\u0644 \\u0628\\u0631\\u0646\\u0627\\u0645\\u062c \\u0627\\u0648 \\u0627\\u0634\\u063a\\u0644\\u0647 \\u064a\\u0637\\u0644\\u0639 \\u0627\\u0639\\u0644\\u0627\\u0646\\n\\n\\u0627\\u062a\\u0648\\u0642\\u0639 \\u0627\\u0644\\u0627\\u0639\\u0644\\u0627\\u0646\\u0627\\u062a \\u0644\\u0644\\u0639\\u0628\\u0647 \\u0630\\u064a \\u0642\\u0644\\u064a\\u0644\\u0647 \\u062c\\u062f\\u0627\\u064b\\n\\u0646\\u0628\\u064a \\u0627\\u0639\\u0644\\u0627\\u0646\\u0627\\u062a \\u0639\\u0644\\u0649 \\u0634\\u0643\\u0644 \\u0627\\u0633\\u062a\\u0643\\u0631\\u0627\\u062a \\u0648\\u0628\\u0648\\u0633\\u062a\\u0627\\u062a \\u0648\\u0628\\u0627\\u0646\\u0631 \\u0648\\u0633\\u064a\\u0627\\u0631\\u0627\\u062a \\u0628\\u0627\\u0644\\u0634\\u0648\\u0627\\u0631\\u0639 \\u0648\\u0645\\u0644\\u0635\\u0642\\u0627\\u062a \\u0639\\u0644\\u0649 \\u0646\\u0627\\u0637\\u062d\\u0627\\u062a \\u0627\\u0644\\u0633\\u062d\\u0627\\u0628 \\u0648\\u0637\\u0627\\u0626\\u0631\\u0627\\u062a \\u062a\\u0643\\u062a\\u0628 \\u0627\\u0633\\u0645 \\u0627\\u0644\\u0644\\u0639\\u0628\\u0647 \\u0628\\u0627\\u0644\\u0633\\u0645\\u0627\\u0621 \\u0648\\u063a\\u0648\\u0627\\u0635\\u064a\\u0646 \\u0628\\u0627\\u0639\\u0645\\u0627\\u0642 \\u0627\\u0644\\u0628\\u062d\\u0627\\u0631 \\u0645\\u0627\\u0633\\u0643\\u064a\\u0646 \\u0647\\u0648\\u0627\\u062a\\u0641\\u0647\\u0645 \\u0627\\u0644\\u0646\\u0642\\u0627\\u0644\\u0647 \\u0648\\u0645\\u0634\\u063a\\u0644\\u064a\\u0646 \\u0647\\u0630\\u064a \\u0627\\u0644\\u0644\\u0639\\u0628\\u0647 \\u0648\\u063a\\u0644\\u0627\\u0641\\u0627\\u062a \\u0644\\u0627\\u0643\\u0644\\u0627\\u062a \\u0627\\u0644\\u0648\\u062c\\u0628\\u0627\\u062a \\u0627\\u0644\\u0633\\u0631\\u064a\\u0639\\u0647 \\u0628\\u0627\\u0633\\u0645 \\u0627\\u0644\\u0644\\u0639\\u0628\\u0647 \\u0648\\u0627\\u0630\\u0627 \\u062a\\u062e\\u062a\\u0631\\u0639\\u0648\\u0646 \\u0634\\u064a \\u062c\\u062f\\u064a\\u062f \\u0627\\u0648 \\u062a\\u0643\\u062a\\u0634\\u0641\\u0648\\u0646 \\u0634\\u064a \\u062c\\u062f\\u064a\\u062f \\u062e\\u0644\\u0648 \\u0627\\u0633\\u0645\\u0647 \\u0628\\u0627\\u0633\\u0645 \\u0627\\u0644\\u0644\\u0639\\u0628\\u0647 \\u0648\\u0627\\u0644\\u0645\\u0648\\u0627\\u0644\\u064a\\u062f \\u0627\\u0644\\u062c\\u062f\\u062f \\u0646\\u062d\\u062a\\u0627\\u062c \\u0646\\u0633\\u0645\\u064a\\u0647\\u0645 \\u0628\\u0627\\u0633\\u0645 \\u0627\\u0644\\u0644\\u0639\\u0628\\u0647 \\u0643\\u0646\\u0648\\u0639 \\u062c\\u062f\\u064a\\u062f \\u0645\\u0646 \\u0627\\u0644\\u0627\\u0639\\u0644\\u0627\\u0646\"\n        ],\n        \"semantic_type\": \"\",\n        \"description\": \"\"\n      }\n    },\n    {\n      \"column\": \"Processed Sentences\",\n      \"properties\": {\n        \"dtype\": \"string\",\n        \"num_unique_values\": 10,\n        \"samples\": [\n          \"\\u0648\\u0627\\u0644\\u0647 \\u0641\\u0631\\u062d\\u0646\\u0627 \\u0643\\u062b\\u064a\\u0631\\u0627 \\u0628\\u062a\\u0637\\u0628\\u064a\\u0642 \\u0645\\u0637\\u0628\\u0639\\u0647 \\u0645\\u0644\\u0643 \\u0641\\u0647\\u062f \\u0644\\u0627\\u0633\\u0641 \\u0628\\u0647 \\u0627\\u062e\\u0637\\u0627\\u0621 \\u0645\\u064a\\u0632\\u0627\\u062a \\u0646\\u0627\\u0642\\u0635\\u0647 \\u0643\\u062b\\u064a\\u0631\\u0647 \\u062c\\u062f\\u0627 \\u0644\\u0627 \\u064a\\u062a\\u0645 \\u062a\\u062d\\u0645\\u064a\\u0644 \\u0645\\u0635\\u062d\\u0641\\u064a\\u0646 \\u0627\\u062e\\u0636\\u0631 \\u0627\\u0632\\u0631\\u0642 \\u0627\\u0631\\u062c\\u0648 \\u0627\\u0646 \\u064a\\u062a\\u0645 \\u0639\\u0645\\u0644 \\u0647\\u0630\\u0627 \\u062a\\u0637\\u0628\\u064a\\u0642 \\u0628\\u0645\\u0627 \\u064a\\u0644\\u064a\\u0642 \\u0628\\u0645\\u0643\\u0627\\u0646\\u0647 \\u0645\\u0635\\u062d\\u0641 \\u0628\\u0645\\u0627 \\u0647\\u0648 \\u0645\\u0624\\u0645\\u0644 \\u0645\\u0637\\u0628\\u0639\\u0647 \\u0627\\u0631\\u062c\\u0648 \\u0634\\u0624\\u0648\\u0646 \\u0627\\u0633\\u0644\\u0627\\u0645\\u064a\\u0647 \\u0627\\u0633\\u062a\\u0639\\u0627\\u0646\\u0647 \\u0628\\u062e\\u0628\\u0631\\u0627\\u0621 \\u062a\\u0637\\u0628\\u064a\\u0642\\u0627\\u062a \\u062a\\u062e\\u0631\\u064a\\u062c \\u0646\\u0633\\u062e\\u0647 \\u0645\\u062d\\u062f\\u062b\\u0647 \\u0644\\u0627 \\u0639\\u064a\\u0628 \\u0641\\u064a\\u0647\\u0627 \\u0631\\u0627\\u0626\\u062f\\u0647 \\u062a\\u0638\\u0647\\u0631 \\u062c\\u0645\\u0627\\u0644\\u064a\\u0647 \\u0647\\u0630\\u0627 \\u0643\\u062a\\u0627\\u0628 \\u0643\\u0631\\u064a\\u0645 \\u0648\\u0627\\u0644\\u0647 \\u0644\\u0646\\u0627 \\u0627\\u062c\\u0631 \\u0639\\u0638\\u064a\\u0645 \\u062b\\u0648\\u0627\\u0628 \\u0643\\u0628\\u064a\\u0631 \\u0627\\u0646 \\u0631\\u0633\\u062e\\u0646\\u0627 \\u0627\\u0646\\u0641\\u0633\\u0646\\u0627 \\u062e\\u062f\\u0645\\u0647 \\u0643\\u062a\\u0627\\u0628 \\u0644\\u0647 \\u0639\\u0638\\u064a\\u0645 \\u062c\\u0632\\u0627\\u0643\\u0645 \\u0644\\u0647 \\u062e\\u064a\\u0631\\u0627 \\u0646\\u0646\\u062a\\u0638\\u0631 \\u0645\\u0646\\u0643\\u0645 \\u0627\\u0641\\u0636\\u0644 \\u0627\\u0641\\u0636\\u0644 \\u0628\\u064a\\u0646 \\u062c\\u0645\\u064a\\u0639 \\u062a\\u0637\\u0628\\u064a\\u0642\\u0627\\u062a . .\",\n          \"\\u0627\\u0646\\u0627 \\u0643\\u0648\\u064a\\u0633 \\u062d\\u0645\\u062f \\u0648\\u0627\\u0644\\u0634\\u0643\\u0631 \\u0643\\u0644 \\u0634\\u064a\\u0621 \\u0634\\u064a \\u0628\\u0631\\u0627 \\u0628\\u0633 \\u0645\\u0648 \\u0643\\u0644 \\u0634\\u064a \\u062a\\u0645\\u0627\\u0645 \\u0641\\u064a\\u0643 \\u064a\\u0627 \\u0645\\u0631\\u062d\\u0628\\u0627 \\ud83d\\udc4b \\u0662\\u0660 \\u0662\\u0660 \\u0645\\u0631\\u062d\\u0628\\u0627 \\u0662\\u0660 \\u0662\\u0660 \\u0644\\u0647 \\u064a\\u0633\\u0639\\u062f\\u0643 \\u0648\\u0628\\u0631\\u0643\\u0627\\u062a\\u0647 \\u064a\\u0627\\u0631\\u0628 \\u0648\\u064a\\u0627\\u0643 \\u064a\\u0627\\u0631\\u0628 \\u0644\\u0647 \\u064a\\u0633\\u0645\\u0639 \\u0645\\u0646\\u0643 \\u064a\\u0627\\u0631\\u0628 \\u0648\\u064a\\u0627\\u0643 \\u064a\\u0627 \\u0631\\u0628 \\u0639\\u0627\\u0644\\u0645\\u064a\\u0646 \\u0648\\u0627\\u0644\\u0635\\u0644\\u0627\\u0647 \\u0646\\u0628\\u064a \\u0635\\u0644\\u0649 \\u0644\\u0647 \\u0648\\u0628\\u0631\\u0643\\u0627\\u062a\\u0647 \\u0645\\u0633\\u0627\\u0621 \\u062e\\u064a\\u0631 \\u0627\\u0628\\u0648 \\u0639\\u0628\\u062f\\u0627\\u0644\\u0647 \\u0628\\u0646 \\u0639\\u0628\\u062f\\u0627\\u0644\\u0639\\u0632\\u064a\\u0632 \\u0622\\u0644 \\u0634\\u064a\\u062e \\u0639\\u0628\\u062f\\u0627\\u0644\\u0647 \\u0628\\u0646 \\u0645\\u062d\\u0645\\u062f \\u0622\\u0644 \\u0645\\u0631\\u062d\\u0628\\u0627 \\u0645\\u0644\\u064a\\u0648\\u0646 \\u0645\\u0628\\u0631\\u0648\\u0643 \\u0648\\u0631\\u0628\\u0646\\u0627 \\u064a\\u0628\\u0627\\u0631\\u0643 \\u0641\\u064a\\u0643 \\u064a\\u0627\\u0631\\u0628 \\u0648\\u064a\\u0627\\u0643 \\u064a\\u0627 \\u0631\\u0628 \\u064a\\u0627 \\u0631\\u0628 \\u064a\\u0627 \\u062d\\u0628\\u064a\\u0628\\u062a\\u064a \\u0631\\u0628\\u0646\\u0627 \\u064a\\u0628\\u0627\\u0631\\u0643 \\u0641\\u064a\\u0643 \\u064a\\u0627\\u0631\\u0628 \\u0648\\u064a\\u0627\\u0643 \\u064a\\u0627\\u0631\\u0628 \\u0639\\u0627\\u0644\\u0645\\u064a\\u0646 \\u0648\\u0627\\u064a\\u0627\\u0643\\u0645 \\u064a\\u0627\\u0631\\u0628 \\u0644\\u0647 \\u064a\\u0633\\u0644\\u0645\\u0643 \\u064a\\u0627 \\u063a\\u0627\\u0644\\u064a \\u0631\\u0628\\u064a \\u064a\\u0633\\u0639\\u062f\\u0643 \\u064a\\u0627 \\u0642\\u0644\\u0628\\u064a \\u0627\\u0646\\u062a\\u064a \\u0648\\u0627\\u0644\\u0647 \\u0627\\u0646\\u064a \\u0628\\u064a\\u062a \\u0648\\u0627\\u062d\\u062f \\u062f\\u0646\\u064a\\u0627 \\u062f\\u064a \\u0643\\u0644\\u0647\\u0627 \\u0648\\u064a\\u0646 \\u064a\\u0645\\u0646 \\u0663\\u0660\",\n          \"\\u0643\\u0644 \\u0645\\u0627 \\u0627\\u0641\\u062a\\u062d \\u0645\\u0642\\u0637\\u0639 \\u064a\\u0648\\u062a\\u064a\\u0648\\u0628 \\u064a\\u0637\\u0644\\u0639 \\u0627\\u0639\\u0644\\u0627\\u0646 \\u0643\\u0644 \\u0645\\u0627 \\u0627\\u0641\\u062a\\u062d \\u0645\\u0648\\u0642\\u0639 \\u0628\\u0645\\u062d\\u0631\\u0643 \\u0628\\u062d\\u062b \\u064a\\u0637\\u0644\\u0639 \\u0627\\u0639\\u0644\\u0627\\u0646 \\u0643\\u0644 \\u0645\\u0627 \\u0627\\u0646\\u0632\\u0644 \\u0628\\u0631\\u0646\\u0627\\u0645\\u062c \\u0627\\u0648 \\u0627\\u0634\\u063a\\u0644\\u0647 \\u064a\\u0637\\u0644\\u0639 \\u0627\\u0639\\u0644\\u0627\\u0646 \\u0627\\u062a\\u0648\\u0642\\u0639 \\u0627\\u0639\\u0644\\u0627\\u0646\\u0627\\u062a \\u0644\\u0639\\u0628\\u0647 \\u0630\\u064a \\u0642\\u0644\\u064a\\u0644\\u0647 \\u062c\\u062f\\u0627 \\u0646\\u0628\\u064a \\u0627\\u0639\\u0644\\u0627\\u0646\\u0627\\u062a \\u0634\\u0643\\u0644 \\u0627\\u0633\\u062a\\u0643\\u0631\\u0627\\u062a \\u0648\\u0628\\u0648\\u0633\\u062a\\u0627\\u062a \\u0648\\u0628\\u0627\\u0646\\u0631 \\u0648\\u0633\\u064a\\u0627\\u0631\\u0627\\u062a \\u0628\\u0627\\u0644\\u0634\\u0648\\u0627\\u0631\\u0639 \\u0648\\u0645\\u0644\\u0635\\u0642\\u0627\\u062a \\u0646\\u0627\\u0637\\u062d\\u0627\\u062a \\u0633\\u062d\\u0627\\u0628 \\u0648\\u0637\\u0627\\u0626\\u0631\\u0627\\u062a \\u062a\\u0643\\u062a\\u0628 \\u0627\\u0633\\u0645 \\u0644\\u0639\\u0628\\u0647 \\u0628\\u0627\\u0644\\u0633\\u0645\\u0627\\u0621 \\u0648\\u063a\\u0648\\u0627\\u0635\\u064a\\u0646 \\u0628\\u0627\\u0639\\u0645\\u0627\\u0642 \\u0628\\u062d\\u0627\\u0631 \\u0645\\u0627\\u0633\\u0643\\u064a\\u0646 \\u0647\\u0648\\u0627\\u062a\\u0641\\u0647\\u0645 \\u0646\\u0642\\u0627\\u0644\\u0647 \\u0648\\u0645\\u0634\\u063a\\u0644\\u064a\\u0646 \\u0647\\u0630\\u064a \\u0644\\u0639\\u0628\\u0647 \\u0648\\u063a\\u0644\\u0627\\u0641\\u0627\\u062a \\u0644\\u0627\\u0643\\u0644\\u0627\\u062a \\u0648\\u062c\\u0628\\u0627\\u062a \\u0633\\u0631\\u064a\\u0639\\u0647 \\u0628\\u0627\\u0633\\u0645 \\u0644\\u0639\\u0628\\u0647 \\u0648\\u0627\\u0630\\u0627 \\u062a\\u062e\\u062a\\u0631\\u0639\\u0648\\u0646 \\u0634\\u064a \\u062c\\u062f\\u064a\\u062f \\u0627\\u0648 \\u062a\\u0643\\u062a\\u0634\\u0641\\u0648\\u0646 \\u0634\\u064a \\u062c\\u062f\\u064a\\u062f \\u062e\\u0644\\u0648 \\u0627\\u0633\\u0645\\u0647 \\u0628\\u0627\\u0633\\u0645 \\u0644\\u0639\\u0628\\u0647 \\u0648\\u0627\\u0644\\u0645\\u0648\\u0627\\u0644\\u064a\\u062f \\u062c\\u062f \\u0646\\u062d\\u062a\\u0627\\u062c \\u0646\\u0633\\u0645\\u064a\\u0647\\u0645 \\u0628\\u0627\\u0633\\u0645 \\u0644\\u0639\\u0628\\u0647 \\u0643\\u0646\\u0648\\u0639 \\u062c\\u062f\\u064a\\u062f \\u0627\\u0639\\u0644\\u0627\\u0646\"\n        ],\n        \"semantic_type\": \"\",\n        \"description\": \"\"\n      }\n    },\n    {\n      \"column\": \"proccesed word count\",\n      \"properties\": {\n        \"dtype\": \"number\",\n        \"std\": 110,\n        \"min\": 73,\n        \"max\": 432,\n        \"num_unique_values\": 10,\n        \"samples\": [\n          77,\n          95,\n          81\n        ],\n        \"semantic_type\": \"\",\n        \"description\": \"\"\n      }\n    },\n    {\n      \"column\": \"word count\",\n      \"properties\": {\n        \"dtype\": \"number\",\n        \"std\": 153,\n        \"min\": 76,\n        \"max\": 576,\n        \"num_unique_values\": 8,\n        \"samples\": [\n          106,\n          84,\n          576\n        ],\n        \"semantic_type\": \"\",\n        \"description\": \"\"\n      }\n    }\n  ]\n}"
            }
          },
          "metadata": {}
        }
      ]
    },
    {
      "cell_type": "markdown",
      "source": [
        "## Tokenizing"
      ],
      "metadata": {
        "id": "mvE1zCCZJVEy"
      }
    },
    {
      "cell_type": "code",
      "source": [
        "def word_tokenize(docs):\n",
        "  return [nltk.word_tokenize(doc) for doc in docs]\n",
        "\n",
        "train_sentences_tokenized = word_tokenize(custom_preprocessing(train_sentences))\n",
        "val_sentences_tokenized = word_tokenize(custom_preprocessing(val_sentences))\n",
        "test_sentences_tokenized = word_tokenize(custom_preprocessing(test_sentences))"
      ],
      "metadata": {
        "id": "KUlBh9mrrZHu"
      },
      "execution_count": 33,
      "outputs": []
    },
    {
      "cell_type": "code",
      "source": [
        "vocab = set([word for sublist in train_sentences_tokenized for word in sublist])\n",
        "print(\" Number of unique vocab: \", len(vocab))"
      ],
      "metadata": {
        "colab": {
          "base_uri": "https://localhost:8080/"
        },
        "id": "TBhTaIKlfhMR",
        "outputId": "b351a291-eaa4-4e2f-932b-12ac60361d88"
      },
      "execution_count": 34,
      "outputs": [
        {
          "output_type": "stream",
          "name": "stdout",
          "text": [
            " Number of unique vocab:  7862\n"
          ]
        }
      ]
    },
    {
      "cell_type": "markdown",
      "source": [
        "9324 unique vocab without pre-processing"
      ],
      "metadata": {
        "id": "WfZM_ZCsHEjl"
      }
    },
    {
      "cell_type": "markdown",
      "source": [
        "# Models : (Random method will have 6.25%)"
      ],
      "metadata": {
        "id": "W3z4uqx9d1aF"
      }
    },
    {
      "cell_type": "markdown",
      "source": [
        "## scrach model"
      ],
      "metadata": {
        "id": "opqEMDDl0jPC"
      }
    },
    {
      "cell_type": "markdown",
      "source": [
        "### Encoding"
      ],
      "metadata": {
        "id": "xQBqhHgA1WRg"
      }
    },
    {
      "cell_type": "code",
      "source": [
        "word_tokenizer = Tokenizer()\n",
        "word_tokenizer.fit_on_texts(train_sentences_tokenized)\n",
        "train_sentences_encoded = word_tokenizer.texts_to_sequences(train_sentences_tokenized)"
      ],
      "metadata": {
        "id": "AVn-g5jbgKJC"
      },
      "execution_count": 35,
      "outputs": []
    },
    {
      "cell_type": "code",
      "source": [
        "val_word_encoded = word_tokenizer.texts_to_sequences(val_sentences_tokenized)"
      ],
      "metadata": {
        "id": "8eqKLrnsradz"
      },
      "execution_count": 36,
      "outputs": []
    },
    {
      "cell_type": "code",
      "source": [
        "test_word_encoded = word_tokenizer.texts_to_sequences(test_sentences_tokenized)"
      ],
      "metadata": {
        "id": "v8Uz0vmv3Ijn"
      },
      "execution_count": 37,
      "outputs": []
    },
    {
      "cell_type": "code",
      "source": [
        "MAX_SEQ_LENGTH = max([len(seq) for seq in train_sentences_encoded])\n",
        "print(\"Max sequence's length: \", MAX_SEQ_LENGTH)\n",
        "train_sentences_padded = pad_sequences(train_sentences_encoded, maxlen=MAX_SEQ_LENGTH, padding='post')\n",
        "val_sentences_padded = pad_sequences(val_word_encoded, maxlen=MAX_SEQ_LENGTH, padding='post')\n",
        "test_sentences_padded = pad_sequences(test_word_encoded, maxlen=MAX_SEQ_LENGTH, padding='post')"
      ],
      "metadata": {
        "id": "WTWsUWUbd1CU",
        "colab": {
          "base_uri": "https://localhost:8080/"
        },
        "outputId": "5c032e02-f6c9-4fda-d615-52b819bf61e4"
      },
      "execution_count": 38,
      "outputs": [
        {
          "output_type": "stream",
          "name": "stdout",
          "text": [
            "Max sequence's length:  432\n"
          ]
        }
      ]
    },
    {
      "cell_type": "code",
      "source": [
        "def f1_score(y_true, y_pred):\n",
        "    y_pred = tf.round(y_pred)\n",
        "    true_positives = tf.reduce_sum(tf.cast(y_true * y_pred, tf.float32), axis=0)\n",
        "    predicted_positives = tf.reduce_sum(tf.cast(y_pred, tf.float32), axis=0)\n",
        "    actual_positives = tf.reduce_sum(tf.cast(y_true, tf.float32), axis=0)\n",
        "\n",
        "    precision = true_positives / (predicted_positives + tf.keras.backend.epsilon())\n",
        "    recall = true_positives / (actual_positives + tf.keras.backend.epsilon())\n",
        "\n",
        "    f1 = 2 * (precision * recall) / (precision + recall + tf.keras.backend.epsilon())\n",
        "    return tf.reduce_mean(f1)"
      ],
      "metadata": {
        "id": "qWyAcZyjJH4v"
      },
      "execution_count": 39,
      "outputs": []
    },
    {
      "cell_type": "markdown",
      "source": [
        "### Build model\n"
      ],
      "metadata": {
        "id": "oRReq-LE1eaR"
      }
    },
    {
      "cell_type": "code",
      "source": [
        "def build_scrach_model(MAX_SEQ_LENGTH, vocab_size, embedding_dim):\n",
        "    model = keras.Sequential()\n",
        "\n",
        "    model.add(layers.Embedding(input_length=MAX_SEQ_LENGTH, input_dim=vocab_size, output_dim=embedding_dim))\n",
        "\n",
        "    model.add(layers.Bidirectional(layers.LSTM(512)))\n",
        "    model.add(layers.Dropout(0.5))\n",
        "\n",
        "    model.add(layers.Dense(4, activation=\"sigmoid\"))\n",
        "\n",
        "    return model"
      ],
      "metadata": {
        "id": "ECUCJznnna_z"
      },
      "execution_count": 40,
      "outputs": []
    },
    {
      "cell_type": "code",
      "source": [
        "# from tensorflow.keras import Model\n",
        "\n",
        "# def build_scrach_model(MAX_SEQ_LENGTH, vocab_size, embedding_dim):\n",
        "\n",
        "#     inputs = layers.Input(shape=(MAX_SEQ_LENGTH,))\n",
        "\n",
        "#     x = layers.Embedding(input_dim=vocab_size, output_dim=embedding_dim, input_length=MAX_SEQ_LENGTH)(inputs)\n",
        "\n",
        "#     lstm1, forward_h, forward_c, backward_h, backward_c = layers.Bidirectional(\n",
        "#         layers.LSTM(512, return_sequences=True, return_state=True))(x)\n",
        "\n",
        "#     lstm2, _, _, _, _ = layers.Bidirectional(\n",
        "#         layers.LSTM(512, return_sequences=False, return_state=True)\n",
        "#     )(lstm1)\n",
        "\n",
        "#     concat = layers.Concatenate()([forward_h, backward_h, lstm2])\n",
        "\n",
        "#     x = layers.Dropout(0.5)(concat)\n",
        "\n",
        "#     outputs = layers.Dense(4, activation='sigmoid')(x)\n",
        "\n",
        "#     return Model(inputs=inputs, outputs=outputs)"
      ],
      "metadata": {
        "id": "1-JVK5JjSLZT"
      },
      "execution_count": 41,
      "outputs": []
    },
    {
      "cell_type": "code",
      "source": [
        "# def build_scrach_model(MAX_SEQ_LENGTH, vocab_size, embedding_dim):\n",
        "#   model = Sequential()\n",
        "#   model.add(layers.Embedding(input_dim=max_words, output_dim=128, input_length=max_len))\n",
        "#   model.add(layers.Conv1D(128, 5, activation='relu'))\n",
        "#   model.add(layers.MaxPooling1D(pool_size=5))\n",
        "#   model.add(layers.Conv1D(128, 5, activation='relu'))\n",
        "#   model.add(layers.GlobalMaxPooling1D())\n",
        "#   model.add(layers.Dense(128, activation='relu'))\n",
        "#   model.add(layers.Dropout(0.5))\n",
        "#   model.add(layers.Dense(4, activation='sigmoid'))\n",
        "#   return model"
      ],
      "metadata": {
        "id": "bef3SsTiSL4J"
      },
      "execution_count": 42,
      "outputs": []
    },
    {
      "cell_type": "code",
      "source": [
        "embedding_dim = 300\n",
        "vocab_size = len(vocab) + 1\n",
        "model = build_scrach_model(MAX_SEQ_LENGTH, vocab_size, embedding_dim)"
      ],
      "metadata": {
        "id": "RS1MuMOAnuL_"
      },
      "execution_count": 43,
      "outputs": []
    },
    {
      "cell_type": "code",
      "source": [
        "model.compile(\n",
        "    loss=\"binary_crossentropy\",\n",
        "    optimizer=\"adam\",\n",
        "    metrics=[f1_score]\n",
        "  )"
      ],
      "metadata": {
        "id": "cCm475xSoV9S"
      },
      "execution_count": 44,
      "outputs": []
    },
    {
      "cell_type": "markdown",
      "source": [
        "### Training\n"
      ],
      "metadata": {
        "id": "s4cC8aZb1joo"
      }
    },
    {
      "cell_type": "code",
      "source": [
        "modelCheckpoint = keras.callbacks.ModelCheckpoint(\"/content/Best_scrach_model.h5\",)"
      ],
      "metadata": {
        "id": "mR8hEc2nRx7t"
      },
      "execution_count": 49,
      "outputs": []
    },
    {
      "cell_type": "code",
      "source": [
        "EPOCHS = 20\n",
        "BATCH_SIZE = 16\n",
        "\n",
        "model.fit(\n",
        "  train_sentences_padded, train_labels,\n",
        "  validation_data=(val_sentences_padded,val_labels),\n",
        "  epochs=EPOCHS,\n",
        "  batch_size=BATCH_SIZE,\n",
        "  callbacks=[modelCheckpoint]\n",
        ")"
      ],
      "metadata": {
        "colab": {
          "base_uri": "https://localhost:8080/"
        },
        "id": "LtqLhFFuogvJ",
        "outputId": "db55688a-c801-452f-b00d-0ce16b7ced2d"
      },
      "execution_count": null,
      "outputs": [
        {
          "output_type": "stream",
          "name": "stdout",
          "text": [
            "Epoch 1/20\n",
            "127/127 [==============================] - 26s 169ms/step - loss: 0.5934 - f1_score: 0.3812 - val_loss: 0.5162 - val_f1_score: 0.5235\n",
            "Epoch 2/20\n",
            "127/127 [==============================] - 16s 127ms/step - loss: 0.4057 - f1_score: 0.7139 - val_loss: 0.4900 - val_f1_score: 0.6397\n",
            "Epoch 3/20\n",
            "127/127 [==============================] - 15s 122ms/step - loss: 0.2639 - f1_score: 0.8422 - val_loss: 0.5390 - val_f1_score: 0.6700\n",
            "Epoch 4/20\n",
            "127/127 [==============================] - 15s 120ms/step - loss: 0.1422 - f1_score: 0.9254 - val_loss: 0.6339 - val_f1_score: 0.6687\n",
            "Epoch 5/20\n",
            "127/127 [==============================] - 14s 111ms/step - loss: 0.0893 - f1_score: 0.9572 - val_loss: 0.7310 - val_f1_score: 0.6561\n",
            "Epoch 6/20\n",
            "127/127 [==============================] - 14s 113ms/step - loss: 0.0537 - f1_score: 0.9796 - val_loss: 0.8436 - val_f1_score: 0.6438\n",
            "Epoch 7/20\n",
            "127/127 [==============================] - 14s 109ms/step - loss: 0.0312 - f1_score: 0.9861 - val_loss: 0.9771 - val_f1_score: 0.6261\n",
            "Epoch 8/20\n",
            "127/127 [==============================] - 14s 110ms/step - loss: 0.0347 - f1_score: 0.9853 - val_loss: 0.9469 - val_f1_score: 0.6362\n",
            "Epoch 9/20\n",
            "127/127 [==============================] - 14s 110ms/step - loss: 0.0220 - f1_score: 0.9914 - val_loss: 0.9905 - val_f1_score: 0.6416\n",
            "Epoch 10/20\n",
            "127/127 [==============================] - 14s 110ms/step - loss: 0.0132 - f1_score: 0.9949 - val_loss: 1.0800 - val_f1_score: 0.6360\n",
            "Epoch 11/20\n",
            "127/127 [==============================] - 14s 110ms/step - loss: 0.0089 - f1_score: 0.9967 - val_loss: 1.1731 - val_f1_score: 0.6342\n",
            "Epoch 12/20\n",
            "127/127 [==============================] - 14s 109ms/step - loss: 0.0155 - f1_score: 0.9939 - val_loss: 1.1768 - val_f1_score: 0.6407\n",
            "Epoch 13/20\n",
            "127/127 [==============================] - 14s 109ms/step - loss: 0.0087 - f1_score: 0.9959 - val_loss: 1.2492 - val_f1_score: 0.6541\n",
            "Epoch 14/20\n",
            "127/127 [==============================] - 14s 113ms/step - loss: 0.0078 - f1_score: 0.9971 - val_loss: 1.2048 - val_f1_score: 0.6549\n",
            "Epoch 15/20\n",
            "127/127 [==============================] - 14s 113ms/step - loss: 0.0261 - f1_score: 0.9898 - val_loss: 1.1493 - val_f1_score: 0.6340\n",
            "Epoch 16/20\n",
            "127/127 [==============================] - 14s 109ms/step - loss: 0.0235 - f1_score: 0.9854 - val_loss: 1.1868 - val_f1_score: 0.6578\n",
            "Epoch 17/20\n",
            "127/127 [==============================] - 14s 112ms/step - loss: 0.0133 - f1_score: 0.9940 - val_loss: 1.1756 - val_f1_score: 0.6406\n",
            "Epoch 18/20\n",
            "127/127 [==============================] - 14s 110ms/step - loss: 0.0080 - f1_score: 0.9940 - val_loss: 1.2036 - val_f1_score: 0.6447\n",
            "Epoch 19/20\n",
            "127/127 [==============================] - 14s 108ms/step - loss: 0.0043 - f1_score: 0.9944 - val_loss: 1.3630 - val_f1_score: 0.6334\n",
            "Epoch 20/20\n",
            "127/127 [==============================] - 14s 114ms/step - loss: 0.0027 - f1_score: 0.9985 - val_loss: 1.4055 - val_f1_score: 0.6448\n"
          ]
        },
        {
          "output_type": "execute_result",
          "data": {
            "text/plain": [
              "<keras.src.callbacks.History at 0x798bb93761d0>"
            ]
          },
          "metadata": {},
          "execution_count": 49
        }
      ]
    },
    {
      "cell_type": "markdown",
      "source": [
        "### Evaluation"
      ],
      "metadata": {
        "id": "_h_DVZrddomk"
      }
    },
    {
      "cell_type": "markdown",
      "source": [
        "#### Validation"
      ],
      "metadata": {
        "id": "h0GCPL7eZK4h"
      }
    },
    {
      "cell_type": "code",
      "source": [
        "model.evaluate(val_sentences_padded, val_labels)"
      ],
      "metadata": {
        "colab": {
          "base_uri": "https://localhost:8080/"
        },
        "id": "KESYhPJF3hKq",
        "outputId": "cf3425d9-315b-4b95-c536-a5c95d5a227b"
      },
      "execution_count": null,
      "outputs": [
        {
          "output_type": "stream",
          "name": "stdout",
          "text": [
            "14/14 [==============================] - 1s 53ms/step - loss: 1.4055 - f1_score: 0.6580\n"
          ]
        },
        {
          "output_type": "execute_result",
          "data": {
            "text/plain": [
              "[1.4054583311080933, 0.6579545736312866]"
            ]
          },
          "metadata": {},
          "execution_count": 50
        }
      ]
    },
    {
      "cell_type": "markdown",
      "source": [
        "#### Test"
      ],
      "metadata": {
        "id": "-P-RtyTOZOdK"
      }
    },
    {
      "cell_type": "code",
      "source": [
        "model.evaluate(test_sentences_padded, test_labels)"
      ],
      "metadata": {
        "colab": {
          "base_uri": "https://localhost:8080/"
        },
        "id": "aksBv_MJy0vV",
        "outputId": "3d0e07eb-add5-4d01-bdca-29dffe7dea06"
      },
      "execution_count": null,
      "outputs": [
        {
          "output_type": "stream",
          "name": "stdout",
          "text": [
            "14/14 [==============================] - 1s 48ms/step - loss: 1.4243 - f1_score: 0.6412\n"
          ]
        },
        {
          "output_type": "execute_result",
          "data": {
            "text/plain": [
              "[1.4242682456970215, 0.6411505937576294]"
            ]
          },
          "metadata": {},
          "execution_count": 51
        }
      ]
    },
    {
      "cell_type": "markdown",
      "source": [
        "#### Show random sample"
      ],
      "metadata": {
        "id": "J9KlDckuZRXe"
      }
    },
    {
      "cell_type": "code",
      "source": [
        "import random\n",
        "prediction = model.predict(val_sentences_padded)\n",
        "threshold = 0.5\n",
        "predicted_labels = (prediction > threshold).astype(int)\n",
        "\n",
        "i = random.randint(0, len(prediction) - 1)\n",
        "\n",
        "print(f\"idx: {i}\")\n",
        "print(\"Sentence: \", test_sentences[i])\n",
        "print(\"Preprocessed Sentence: \",custom_preprocessing([test_sentences[i]]))\n",
        "print(\"Prediction:   \", predicted_labels[i])\n",
        "print(\"Ground Truth: \", test_labels[i])\n",
        "\n",
        "\n",
        "print(\"Matche:   \", predicted_labels[i] == test_labels[i])"
      ],
      "metadata": {
        "colab": {
          "base_uri": "https://localhost:8080/"
        },
        "id": "cqtAVlquPE60",
        "outputId": "00a9f2a5-c27b-4ef7-c3fc-9d6d2f6e32b0"
      },
      "execution_count": null,
      "outputs": [
        {
          "output_type": "stream",
          "name": "stdout",
          "text": [
            "14/14 [==============================] - 1s 52ms/step\n",
            "idx: 165\n",
            "Sentence:  لعبه مميزه عن الباقين واتمنه يطوروه اكثر اتمنى لكم توفيق\n",
            "Preprocessed Sentence:  ['لعبه مميزه عن باقين واتمنه يطوروه اكثر اتمنى لكم توفيق']\n",
            "Prediction:    [0 1 1 0]\n",
            "Ground Truth:  [0 1 1 0]\n",
            "Matche:    [ True  True  True  True]\n"
          ]
        }
      ]
    },
    {
      "cell_type": "markdown",
      "source": [
        "#### Try on sample"
      ],
      "metadata": {
        "id": "CjjUfESUZXaE"
      }
    },
    {
      "cell_type": "code",
      "source": [
        "sample = ['اللعبة  خايسه ويبيلها تطوير']\n",
        "sample_processed = custom_preprocessing(sample)\n",
        "sample_processed_tokenized = word_tokenize(sample_processed)\n",
        "sample_sentences_encoded = word_tokenizer.texts_to_sequences(sample_processed_tokenized)\n",
        "sample_processed_padded = pad_sequences(sample_sentences_encoded, maxlen=MAX_SEQ_LENGTH, padding='post')\n",
        "\n",
        "sample_prediction_label = model.predict(sample_processed_padded)\n",
        "sample_prediction_label = (sample_prediction_label > threshold).astype(int)\n",
        "print(sample)\n",
        "print(sample_processed)\n",
        "print(sample_prediction_label)"
      ],
      "metadata": {
        "colab": {
          "base_uri": "https://localhost:8080/"
        },
        "id": "PVzYniY1t4Yl",
        "outputId": "b4b38d40-20e9-4465-8c17-2f0b5868dbf7"
      },
      "execution_count": null,
      "outputs": [
        {
          "output_type": "stream",
          "name": "stdout",
          "text": [
            "1/1 [==============================] - 0s 46ms/step\n",
            "['اللعبة  خايسه ويبيلها تطوير']\n",
            "['لعبه خايسه ويبيلها تطوير']\n",
            "[[0 1 1 0]]\n"
          ]
        }
      ]
    },
    {
      "cell_type": "markdown",
      "source": [
        "### Hyperparameter Tuning"
      ],
      "metadata": {
        "id": "DhPgrChyZcfj"
      }
    },
    {
      "cell_type": "code",
      "source": [
        "def build(embedding_dim, units, useDropout, optimizer):\n",
        "    model = keras.Sequential()\n",
        "\n",
        "    model.add(layers.Embedding(\n",
        "        input_length=MAX_SEQ_LENGTH,\n",
        "        input_dim=vocab_size,\n",
        "        output_dim=embedding_dim,\n",
        "        mask_zero=True\n",
        "    ))\n",
        "\n",
        "    model.add(layers.Bidirectional(layers.LSTM(units)))\n",
        "\n",
        "    if useDropout:\n",
        "        model.add(layers.Dropout(0.5))\n",
        "\n",
        "    model.add(layers.Dense(4, activation=\"sigmoid\"))\n",
        "\n",
        "    return model"
      ],
      "metadata": {
        "id": "j749ujuSZmwb"
      },
      "execution_count": null,
      "outputs": []
    },
    {
      "cell_type": "code",
      "source": [
        "vocab_size = len(vocab) + 1\n",
        "\n",
        "list_embedding_dim = [200, 300]\n",
        "list_units = [128, 256]\n",
        "useDropout = [True, False]\n",
        "list_optimizers = ['adam', 'rmsprop', 'sgd']\n",
        "best_eval_score = float('-inf')\n",
        "best_tuned_model = None\n",
        "dictionary = {}\n",
        "\n",
        "total_iterations = len(list_embedding_dim) * len(list_units) * len(useDropout) * len(list_optimizers)\n",
        "for i, (embedding_dim, units, dropout, optimizer) in enumerate(itertools.product(list_embedding_dim, list_units, useDropout, list_optimizers)):\n",
        "\n",
        "    print(f\"Iteration:{total_iterations}/{i+1}, embedding_dim:{embedding_dim}, units:{units}, dropout:{dropout}, optimizer:{optimizer}\")\n",
        "\n",
        "    model = build(embedding_dim, units, dropout, optimizer)\n",
        "    model.compile(\n",
        "            optimizer=optimizer,\n",
        "            loss=\"categorical_crossentropy\",\n",
        "            metrics=[f1_score],\n",
        "        )\n",
        "\n",
        "    history = model.fit(train_sentences_padded, train_labels, epochs=3, batch_size=64, validation_data=(val_sentences_padded, val_labels))\n",
        "    eval_score = history.history['val_f1_score'][0]\n",
        "\n",
        "    dictionary[(embedding_dim, units, dropout, optimizer)] = {'eval_score': eval_score}\n",
        "\n",
        "    if eval_score > best_eval_score:\n",
        "      best_eval_score = eval_score\n",
        "      best_model = model"
      ],
      "metadata": {
        "colab": {
          "base_uri": "https://localhost:8080/"
        },
        "id": "ck2aJvJ4w7Mh",
        "outputId": "bbe6d16f-c388-47a3-d85e-ae91565c9f0d"
      },
      "execution_count": null,
      "outputs": [
        {
          "output_type": "stream",
          "name": "stdout",
          "text": [
            "Iteration:24/1, embedding_dim:200, units:128, dropout:True, optimizer:adam\n",
            "Epoch 1/3\n",
            "32/32 [==============================] - 18s 325ms/step - loss: 2.8676 - f1_score: 0.5676 - val_loss: 3.2549 - val_f1_score: 0.5989\n",
            "Epoch 2/3\n",
            "32/32 [==============================] - 6s 183ms/step - loss: 4.1680 - f1_score: 0.5911 - val_loss: 3.4801 - val_f1_score: 0.5989\n",
            "Epoch 3/3\n",
            "32/32 [==============================] - 6s 197ms/step - loss: 4.0956 - f1_score: 0.5909 - val_loss: 3.3525 - val_f1_score: 0.5989\n",
            "Iteration:24/2, embedding_dim:200, units:128, dropout:True, optimizer:rmsprop\n",
            "Epoch 1/3\n",
            "32/32 [==============================] - 19s 277ms/step - loss: 2.8637 - f1_score: 0.5821 - val_loss: 2.8368 - val_f1_score: 0.5989\n",
            "Epoch 2/3\n",
            "32/32 [==============================] - 4s 133ms/step - loss: 3.6185 - f1_score: 0.5897 - val_loss: 2.8915 - val_f1_score: 0.5989\n",
            "Epoch 3/3\n",
            "32/32 [==============================] - 5s 162ms/step - loss: 3.5664 - f1_score: 0.5903 - val_loss: 2.7391 - val_f1_score: 0.5989\n",
            "Iteration:24/3, embedding_dim:200, units:128, dropout:True, optimizer:sgd\n",
            "Epoch 1/3\n",
            "32/32 [==============================] - 15s 269ms/step - loss: 2.3813 - f1_score: 0.5774 - val_loss: 2.4038 - val_f1_score: 0.5978\n",
            "Epoch 2/3\n",
            "32/32 [==============================] - 4s 135ms/step - loss: 2.3398 - f1_score: 0.5915 - val_loss: 2.3759 - val_f1_score: 0.5989\n",
            "Epoch 3/3\n",
            "32/32 [==============================] - 5s 161ms/step - loss: 2.3238 - f1_score: 0.5902 - val_loss: 2.3669 - val_f1_score: 0.5989\n",
            "Iteration:24/4, embedding_dim:200, units:128, dropout:False, optimizer:adam\n",
            "Epoch 1/3\n",
            "32/32 [==============================] - 16s 257ms/step - loss: 2.6907 - f1_score: 0.5885 - val_loss: 2.6720 - val_f1_score: 0.5989\n",
            "Epoch 2/3\n",
            "32/32 [==============================] - 8s 258ms/step - loss: 2.7715 - f1_score: 0.5899 - val_loss: 2.7034 - val_f1_score: 0.5989\n",
            "Epoch 3/3\n",
            "32/32 [==============================] - 5s 150ms/step - loss: 2.6040 - f1_score: 0.5900 - val_loss: 2.6279 - val_f1_score: 0.5989\n",
            "Iteration:24/5, embedding_dim:200, units:128, dropout:False, optimizer:rmsprop\n",
            "Epoch 1/3\n",
            "32/32 [==============================] - 17s 264ms/step - loss: 2.5034 - f1_score: 0.5852 - val_loss: 2.6712 - val_f1_score: 0.5989\n",
            "Epoch 2/3\n",
            "32/32 [==============================] - 4s 123ms/step - loss: 2.5868 - f1_score: 0.5902 - val_loss: 2.5511 - val_f1_score: 0.5989\n",
            "Epoch 3/3\n",
            "32/32 [==============================] - 5s 172ms/step - loss: 2.5257 - f1_score: 0.5894 - val_loss: 2.4432 - val_f1_score: 0.5989\n",
            "Iteration:24/6, embedding_dim:200, units:128, dropout:False, optimizer:sgd\n",
            "Epoch 1/3\n",
            "32/32 [==============================] - 14s 248ms/step - loss: 2.3824 - f1_score: 0.5705 - val_loss: 2.4069 - val_f1_score: 0.5991\n",
            "Epoch 2/3\n",
            "32/32 [==============================] - 4s 123ms/step - loss: 2.3426 - f1_score: 0.5894 - val_loss: 2.3816 - val_f1_score: 0.5989\n",
            "Epoch 3/3\n",
            "32/32 [==============================] - 5s 154ms/step - loss: 2.3282 - f1_score: 0.5903 - val_loss: 2.3755 - val_f1_score: 0.5989\n",
            "Iteration:24/7, embedding_dim:200, units:256, dropout:True, optimizer:adam\n",
            "Epoch 1/3\n",
            "32/32 [==============================] - 19s 211ms/step - loss: 3.0359 - f1_score: 0.5835 - val_loss: 2.5455 - val_f1_score: 0.5989\n",
            "Epoch 2/3\n",
            "32/32 [==============================] - 6s 198ms/step - loss: 3.2114 - f1_score: 0.5900 - val_loss: 2.7281 - val_f1_score: 0.5989\n",
            "Epoch 3/3\n",
            "32/32 [==============================] - 4s 140ms/step - loss: 3.2984 - f1_score: 0.5900 - val_loss: 2.6398 - val_f1_score: 0.5989\n",
            "Iteration:24/8, embedding_dim:200, units:256, dropout:True, optimizer:rmsprop\n",
            "Epoch 1/3\n",
            "32/32 [==============================] - 15s 255ms/step - loss: 3.3790 - f1_score: 0.5845 - val_loss: 3.0763 - val_f1_score: 0.5989\n",
            "Epoch 2/3\n",
            "32/32 [==============================] - 4s 112ms/step - loss: 3.8473 - f1_score: 0.5911 - val_loss: 2.7655 - val_f1_score: 0.5989\n",
            "Epoch 3/3\n",
            "32/32 [==============================] - 5s 153ms/step - loss: 3.5743 - f1_score: 0.5902 - val_loss: 2.7525 - val_f1_score: 0.5989\n",
            "Iteration:24/9, embedding_dim:200, units:256, dropout:True, optimizer:sgd\n",
            "Epoch 1/3\n",
            "32/32 [==============================] - 15s 261ms/step - loss: 2.3865 - f1_score: 0.5806 - val_loss: 2.4125 - val_f1_score: 0.5989\n",
            "Epoch 2/3\n",
            "32/32 [==============================] - 4s 122ms/step - loss: 2.3486 - f1_score: 0.5897 - val_loss: 2.3865 - val_f1_score: 0.5989\n",
            "Epoch 3/3\n",
            "32/32 [==============================] - 5s 163ms/step - loss: 2.3315 - f1_score: 0.5891 - val_loss: 2.3756 - val_f1_score: 0.5989\n",
            "Iteration:24/10, embedding_dim:200, units:256, dropout:False, optimizer:adam\n",
            "Epoch 1/3\n",
            "32/32 [==============================] - 18s 266ms/step - loss: 3.1981 - f1_score: 0.5808 - val_loss: 3.3681 - val_f1_score: 0.5989\n",
            "Epoch 2/3\n",
            "32/32 [==============================] - 7s 223ms/step - loss: 3.3042 - f1_score: 0.5898 - val_loss: 3.0568 - val_f1_score: 0.5989\n",
            "Epoch 3/3\n",
            "32/32 [==============================] - 4s 135ms/step - loss: 2.8948 - f1_score: 0.5902 - val_loss: 2.8765 - val_f1_score: 0.5989\n",
            "Iteration:24/11, embedding_dim:200, units:256, dropout:False, optimizer:rmsprop\n",
            "Epoch 1/3\n",
            "32/32 [==============================] - 15s 212ms/step - loss: 2.6903 - f1_score: 0.5867 - val_loss: 2.7048 - val_f1_score: 0.5989\n",
            "Epoch 2/3\n",
            "32/32 [==============================] - 5s 168ms/step - loss: 2.6264 - f1_score: 0.5904 - val_loss: 2.4827 - val_f1_score: 0.5989\n",
            "Epoch 3/3\n",
            "32/32 [==============================] - 4s 121ms/step - loss: 2.4819 - f1_score: 0.5901 - val_loss: 2.5048 - val_f1_score: 0.5989\n",
            "Iteration:24/12, embedding_dim:200, units:256, dropout:False, optimizer:sgd\n",
            "Epoch 1/3\n",
            "32/32 [==============================] - 14s 210ms/step - loss: 2.3829 - f1_score: 0.5683 - val_loss: 2.4064 - val_f1_score: 0.5980\n",
            "Epoch 2/3\n",
            "32/32 [==============================] - 4s 142ms/step - loss: 2.3433 - f1_score: 0.5892 - val_loss: 2.3781 - val_f1_score: 0.5989\n",
            "Epoch 3/3\n",
            "32/32 [==============================] - 3s 64ms/step - loss: 2.3243 - f1_score: 0.5900 - val_loss: 2.3662 - val_f1_score: 0.5989\n",
            "Iteration:24/13, embedding_dim:300, units:128, dropout:True, optimizer:adam\n",
            "Epoch 1/3\n",
            "32/32 [==============================] - 19s 327ms/step - loss: 2.6699 - f1_score: 0.5818 - val_loss: 2.7183 - val_f1_score: 0.5989\n",
            "Epoch 2/3\n",
            "32/32 [==============================] - 8s 262ms/step - loss: 3.2381 - f1_score: 0.5909 - val_loss: 2.7406 - val_f1_score: 0.5989\n",
            "Epoch 3/3\n",
            "32/32 [==============================] - 5s 164ms/step - loss: 3.2640 - f1_score: 0.5906 - val_loss: 2.7582 - val_f1_score: 0.5989\n",
            "Iteration:24/14, embedding_dim:300, units:128, dropout:True, optimizer:rmsprop\n",
            "Epoch 1/3\n",
            "32/32 [==============================] - 17s 305ms/step - loss: 2.8467 - f1_score: 0.5861 - val_loss: 2.6447 - val_f1_score: 0.5989\n",
            "Epoch 2/3\n",
            "32/32 [==============================] - 5s 102ms/step - loss: 3.4732 - f1_score: 0.5904 - val_loss: 2.6689 - val_f1_score: 0.5989\n",
            "Epoch 3/3\n",
            "32/32 [==============================] - 5s 150ms/step - loss: 3.4002 - f1_score: 0.5898 - val_loss: 2.5873 - val_f1_score: 0.5989\n",
            "Iteration:24/15, embedding_dim:300, units:128, dropout:True, optimizer:sgd\n",
            "Epoch 1/3\n",
            "32/32 [==============================] - 15s 252ms/step - loss: 2.3868 - f1_score: 0.5721 - val_loss: 2.4140 - val_f1_score: 0.5989\n",
            "Epoch 2/3\n",
            "32/32 [==============================] - 4s 131ms/step - loss: 2.3502 - f1_score: 0.5899 - val_loss: 2.3881 - val_f1_score: 0.5989\n",
            "Epoch 3/3\n",
            "32/32 [==============================] - 4s 125ms/step - loss: 2.3337 - f1_score: 0.5900 - val_loss: 2.3765 - val_f1_score: 0.5989\n",
            "Iteration:24/16, embedding_dim:300, units:128, dropout:False, optimizer:adam\n",
            "Epoch 1/3\n",
            "32/32 [==============================] - 21s 359ms/step - loss: 2.8073 - f1_score: 0.5715 - val_loss: 3.0097 - val_f1_score: 0.5989\n",
            "Epoch 2/3\n",
            "32/32 [==============================] - 6s 191ms/step - loss: 3.2368 - f1_score: 0.5906 - val_loss: 3.1710 - val_f1_score: 0.5989\n",
            "Epoch 3/3\n",
            "32/32 [==============================] - 5s 158ms/step - loss: 3.0780 - f1_score: 0.5904 - val_loss: 3.0629 - val_f1_score: 0.5989\n",
            "Iteration:24/17, embedding_dim:300, units:128, dropout:False, optimizer:rmsprop\n",
            "Epoch 1/3\n",
            "32/32 [==============================] - 16s 274ms/step - loss: 2.6812 - f1_score: 0.5846 - val_loss: 2.8537 - val_f1_score: 0.5989\n",
            "Epoch 2/3\n",
            "32/32 [==============================] - 5s 166ms/step - loss: 2.9688 - f1_score: 0.5896 - val_loss: 2.9671 - val_f1_score: 0.5989\n",
            "Epoch 3/3\n",
            "32/32 [==============================] - 5s 158ms/step - loss: 2.9364 - f1_score: 0.5896 - val_loss: 2.7381 - val_f1_score: 0.5989\n",
            "Iteration:24/18, embedding_dim:300, units:128, dropout:False, optimizer:sgd\n",
            "Epoch 1/3\n",
            "32/32 [==============================] - 14s 245ms/step - loss: 2.3844 - f1_score: 0.5710 - val_loss: 2.4071 - val_f1_score: 0.5965\n",
            "Epoch 2/3\n",
            "32/32 [==============================] - 4s 118ms/step - loss: 2.3449 - f1_score: 0.5900 - val_loss: 2.3793 - val_f1_score: 0.5989\n",
            "Epoch 3/3\n",
            "32/32 [==============================] - 4s 118ms/step - loss: 2.3272 - f1_score: 0.5907 - val_loss: 2.3686 - val_f1_score: 0.5989\n",
            "Iteration:24/19, embedding_dim:300, units:256, dropout:True, optimizer:adam\n",
            "Epoch 1/3\n",
            "32/32 [==============================] - 18s 251ms/step - loss: 3.0812 - f1_score: 0.5837 - val_loss: 3.2559 - val_f1_score: 0.5989\n",
            "Epoch 2/3\n",
            "32/32 [==============================] - 7s 211ms/step - loss: 3.9313 - f1_score: 0.5903 - val_loss: 3.0490 - val_f1_score: 0.5989\n",
            "Epoch 3/3\n",
            "32/32 [==============================] - 5s 165ms/step - loss: 3.6242 - f1_score: 0.5902 - val_loss: 2.8214 - val_f1_score: 0.5990\n",
            "Iteration:24/20, embedding_dim:300, units:256, dropout:True, optimizer:rmsprop\n",
            "Epoch 1/3\n",
            "32/32 [==============================] - 15s 235ms/step - loss: 3.4339 - f1_score: 0.5860 - val_loss: 2.9451 - val_f1_score: 0.5989\n",
            "Epoch 2/3\n",
            "32/32 [==============================] - 5s 164ms/step - loss: 3.7421 - f1_score: 0.5902 - val_loss: 2.6846 - val_f1_score: 0.5989\n",
            "Epoch 3/3\n",
            "32/32 [==============================] - 4s 138ms/step - loss: 3.5676 - f1_score: 0.5897 - val_loss: 2.5259 - val_f1_score: 0.5989\n",
            "Iteration:24/21, embedding_dim:300, units:256, dropout:True, optimizer:sgd\n",
            "Epoch 1/3\n",
            "32/32 [==============================] - 15s 247ms/step - loss: 2.3850 - f1_score: 0.5802 - val_loss: 2.4093 - val_f1_score: 0.5989\n",
            "Epoch 2/3\n",
            "32/32 [==============================] - 4s 119ms/step - loss: 2.3453 - f1_score: 0.5896 - val_loss: 2.3817 - val_f1_score: 0.5989\n",
            "Epoch 3/3\n",
            "32/32 [==============================] - 4s 117ms/step - loss: 2.3283 - f1_score: 0.5902 - val_loss: 2.3712 - val_f1_score: 0.5989\n",
            "Iteration:24/22, embedding_dim:300, units:256, dropout:False, optimizer:adam\n",
            "Epoch 1/3\n",
            "32/32 [==============================] - 20s 292ms/step - loss: 2.8567 - f1_score: 0.5841 - val_loss: 2.8280 - val_f1_score: 0.5997\n",
            "Epoch 2/3\n",
            "32/32 [==============================] - 6s 199ms/step - loss: 2.7437 - f1_score: 0.5902 - val_loss: 2.5936 - val_f1_score: 0.5991\n",
            "Epoch 3/3\n",
            "32/32 [==============================] - 5s 165ms/step - loss: 2.5161 - f1_score: 0.5898 - val_loss: 2.6506 - val_f1_score: 0.5989\n",
            "Iteration:24/23, embedding_dim:300, units:256, dropout:False, optimizer:rmsprop\n",
            "Epoch 1/3\n",
            "32/32 [==============================] - 15s 235ms/step - loss: 2.5580 - f1_score: 0.5846 - val_loss: 2.4342 - val_f1_score: 0.5989\n",
            "Epoch 2/3\n",
            "32/32 [==============================] - 4s 137ms/step - loss: 2.4130 - f1_score: 0.5889 - val_loss: 2.5579 - val_f1_score: 0.5989\n",
            "Epoch 3/3\n",
            "32/32 [==============================] - 5s 161ms/step - loss: 2.3771 - f1_score: 0.5899 - val_loss: 2.4258 - val_f1_score: 0.5989\n",
            "Iteration:24/24, embedding_dim:300, units:256, dropout:False, optimizer:sgd\n",
            "Epoch 1/3\n",
            "32/32 [==============================] - 16s 204ms/step - loss: 2.3843 - f1_score: 0.5815 - val_loss: 2.4097 - val_f1_score: 0.5989\n",
            "Epoch 2/3\n",
            "32/32 [==============================] - 5s 151ms/step - loss: 2.3455 - f1_score: 0.5908 - val_loss: 2.3822 - val_f1_score: 0.5989\n",
            "Epoch 3/3\n",
            "32/32 [==============================] - 4s 112ms/step - loss: 2.3266 - f1_score: 0.5897 - val_loss: 2.3708 - val_f1_score: 0.5989\n"
          ]
        }
      ]
    },
    {
      "cell_type": "code",
      "source": [
        "new_dictionary = {str(key): {'eval_score': value['eval_score']} for key, value in dictionary.items()}\n",
        "new_dictionary = {str(key): value for key, value in new_dictionary.items()}\n",
        "file_path = \"/content/Hyperparameter_scrach_models.json\"\n",
        "\n",
        "# Write the dictionary to a JSON file\n",
        "with open(file_path, 'w') as json_file:\n",
        "    json.dump(new_dictionary, json_file)\n",
        "\n",
        "print(\"Dictionary stored in:\", file_path)"
      ],
      "metadata": {
        "id": "XdKV95LCQAgY",
        "colab": {
          "base_uri": "https://localhost:8080/"
        },
        "outputId": "cfa61696-687b-4675-d598-1cd510d82ce0"
      },
      "execution_count": null,
      "outputs": [
        {
          "output_type": "stream",
          "name": "stdout",
          "text": [
            "Dictionary stored in: /content/Hyperparameter_scrach_models.json\n"
          ]
        }
      ]
    },
    {
      "cell_type": "code",
      "source": [
        "file_path = \"/content/Hyperparameter_scrach_models.json\"\n",
        "\n",
        "# Read the dictionary from the JSON file\n",
        "with open(file_path, 'r') as json_file:\n",
        "    hyperparameter_scrach_models = json.load(json_file)"
      ],
      "metadata": {
        "id": "CgwmPc2EQc9y"
      },
      "execution_count": null,
      "outputs": []
    },
    {
      "cell_type": "code",
      "source": [
        "df = pd.DataFrame.from_dict(hyperparameter_scrach_models, orient='index')\n",
        "\n",
        "df_sorted = df.sort_values(by='eval_score')\n",
        "\n",
        "display(df_sorted)"
      ],
      "metadata": {
        "id": "wn4rwG5z3hOa",
        "colab": {
          "base_uri": "https://localhost:8080/",
          "height": 802
        },
        "outputId": "930d852d-ec00-445d-f492-c42a1c1ec1c0"
      },
      "execution_count": null,
      "outputs": [
        {
          "output_type": "display_data",
          "data": {
            "text/plain": [
              "                              eval_score\n",
              "(300, 128, False, 'sgd')        0.596539\n",
              "(200, 128, True, 'sgd')         0.597795\n",
              "(200, 256, False, 'sgd')        0.597965\n",
              "(200, 128, False, 'adam')       0.598950\n",
              "(200, 256, False, 'adam')       0.598950\n",
              "(200, 128, True, 'rmsprop')     0.598950\n",
              "(200, 128, True, 'adam')        0.598950\n",
              "(200, 128, False, 'rmsprop')    0.598950\n",
              "(200, 256, True, 'sgd')         0.598950\n",
              "(200, 256, False, 'rmsprop')    0.598950\n",
              "(200, 256, True, 'rmsprop')     0.598950\n",
              "(200, 256, True, 'adam')        0.598950\n",
              "(300, 128, False, 'rmsprop')    0.598950\n",
              "(300, 128, False, 'adam')       0.598950\n",
              "(300, 128, True, 'adam')        0.598950\n",
              "(300, 128, True, 'rmsprop')     0.598950\n",
              "(300, 256, True, 'rmsprop')     0.598950\n",
              "(300, 128, True, 'sgd')         0.598950\n",
              "(300, 256, False, 'rmsprop')    0.598950\n",
              "(300, 256, False, 'sgd')        0.598950\n",
              "(300, 256, True, 'sgd')         0.598950\n",
              "(300, 256, True, 'adam')        0.598950\n",
              "(200, 128, False, 'sgd')        0.599100\n",
              "(300, 256, False, 'adam')       0.599680"
            ],
            "text/html": [
              "\n",
              "  <div id=\"df-6b094c61-b0fc-45ce-ae88-74207ebb300f\" class=\"colab-df-container\">\n",
              "    <div>\n",
              "<style scoped>\n",
              "    .dataframe tbody tr th:only-of-type {\n",
              "        vertical-align: middle;\n",
              "    }\n",
              "\n",
              "    .dataframe tbody tr th {\n",
              "        vertical-align: top;\n",
              "    }\n",
              "\n",
              "    .dataframe thead th {\n",
              "        text-align: right;\n",
              "    }\n",
              "</style>\n",
              "<table border=\"1\" class=\"dataframe\">\n",
              "  <thead>\n",
              "    <tr style=\"text-align: right;\">\n",
              "      <th></th>\n",
              "      <th>eval_score</th>\n",
              "    </tr>\n",
              "  </thead>\n",
              "  <tbody>\n",
              "    <tr>\n",
              "      <th>(300, 128, False, 'sgd')</th>\n",
              "      <td>0.596539</td>\n",
              "    </tr>\n",
              "    <tr>\n",
              "      <th>(200, 128, True, 'sgd')</th>\n",
              "      <td>0.597795</td>\n",
              "    </tr>\n",
              "    <tr>\n",
              "      <th>(200, 256, False, 'sgd')</th>\n",
              "      <td>0.597965</td>\n",
              "    </tr>\n",
              "    <tr>\n",
              "      <th>(200, 128, False, 'adam')</th>\n",
              "      <td>0.598950</td>\n",
              "    </tr>\n",
              "    <tr>\n",
              "      <th>(200, 256, False, 'adam')</th>\n",
              "      <td>0.598950</td>\n",
              "    </tr>\n",
              "    <tr>\n",
              "      <th>(200, 128, True, 'rmsprop')</th>\n",
              "      <td>0.598950</td>\n",
              "    </tr>\n",
              "    <tr>\n",
              "      <th>(200, 128, True, 'adam')</th>\n",
              "      <td>0.598950</td>\n",
              "    </tr>\n",
              "    <tr>\n",
              "      <th>(200, 128, False, 'rmsprop')</th>\n",
              "      <td>0.598950</td>\n",
              "    </tr>\n",
              "    <tr>\n",
              "      <th>(200, 256, True, 'sgd')</th>\n",
              "      <td>0.598950</td>\n",
              "    </tr>\n",
              "    <tr>\n",
              "      <th>(200, 256, False, 'rmsprop')</th>\n",
              "      <td>0.598950</td>\n",
              "    </tr>\n",
              "    <tr>\n",
              "      <th>(200, 256, True, 'rmsprop')</th>\n",
              "      <td>0.598950</td>\n",
              "    </tr>\n",
              "    <tr>\n",
              "      <th>(200, 256, True, 'adam')</th>\n",
              "      <td>0.598950</td>\n",
              "    </tr>\n",
              "    <tr>\n",
              "      <th>(300, 128, False, 'rmsprop')</th>\n",
              "      <td>0.598950</td>\n",
              "    </tr>\n",
              "    <tr>\n",
              "      <th>(300, 128, False, 'adam')</th>\n",
              "      <td>0.598950</td>\n",
              "    </tr>\n",
              "    <tr>\n",
              "      <th>(300, 128, True, 'adam')</th>\n",
              "      <td>0.598950</td>\n",
              "    </tr>\n",
              "    <tr>\n",
              "      <th>(300, 128, True, 'rmsprop')</th>\n",
              "      <td>0.598950</td>\n",
              "    </tr>\n",
              "    <tr>\n",
              "      <th>(300, 256, True, 'rmsprop')</th>\n",
              "      <td>0.598950</td>\n",
              "    </tr>\n",
              "    <tr>\n",
              "      <th>(300, 128, True, 'sgd')</th>\n",
              "      <td>0.598950</td>\n",
              "    </tr>\n",
              "    <tr>\n",
              "      <th>(300, 256, False, 'rmsprop')</th>\n",
              "      <td>0.598950</td>\n",
              "    </tr>\n",
              "    <tr>\n",
              "      <th>(300, 256, False, 'sgd')</th>\n",
              "      <td>0.598950</td>\n",
              "    </tr>\n",
              "    <tr>\n",
              "      <th>(300, 256, True, 'sgd')</th>\n",
              "      <td>0.598950</td>\n",
              "    </tr>\n",
              "    <tr>\n",
              "      <th>(300, 256, True, 'adam')</th>\n",
              "      <td>0.598950</td>\n",
              "    </tr>\n",
              "    <tr>\n",
              "      <th>(200, 128, False, 'sgd')</th>\n",
              "      <td>0.599100</td>\n",
              "    </tr>\n",
              "    <tr>\n",
              "      <th>(300, 256, False, 'adam')</th>\n",
              "      <td>0.599680</td>\n",
              "    </tr>\n",
              "  </tbody>\n",
              "</table>\n",
              "</div>\n",
              "    <div class=\"colab-df-buttons\">\n",
              "\n",
              "  <div class=\"colab-df-container\">\n",
              "    <button class=\"colab-df-convert\" onclick=\"convertToInteractive('df-6b094c61-b0fc-45ce-ae88-74207ebb300f')\"\n",
              "            title=\"Convert this dataframe to an interactive table.\"\n",
              "            style=\"display:none;\">\n",
              "\n",
              "  <svg xmlns=\"http://www.w3.org/2000/svg\" height=\"24px\" viewBox=\"0 -960 960 960\">\n",
              "    <path d=\"M120-120v-720h720v720H120Zm60-500h600v-160H180v160Zm220 220h160v-160H400v160Zm0 220h160v-160H400v160ZM180-400h160v-160H180v160Zm440 0h160v-160H620v160ZM180-180h160v-160H180v160Zm440 0h160v-160H620v160Z\"/>\n",
              "  </svg>\n",
              "    </button>\n",
              "\n",
              "  <style>\n",
              "    .colab-df-container {\n",
              "      display:flex;\n",
              "      gap: 12px;\n",
              "    }\n",
              "\n",
              "    .colab-df-convert {\n",
              "      background-color: #E8F0FE;\n",
              "      border: none;\n",
              "      border-radius: 50%;\n",
              "      cursor: pointer;\n",
              "      display: none;\n",
              "      fill: #1967D2;\n",
              "      height: 32px;\n",
              "      padding: 0 0 0 0;\n",
              "      width: 32px;\n",
              "    }\n",
              "\n",
              "    .colab-df-convert:hover {\n",
              "      background-color: #E2EBFA;\n",
              "      box-shadow: 0px 1px 2px rgba(60, 64, 67, 0.3), 0px 1px 3px 1px rgba(60, 64, 67, 0.15);\n",
              "      fill: #174EA6;\n",
              "    }\n",
              "\n",
              "    .colab-df-buttons div {\n",
              "      margin-bottom: 4px;\n",
              "    }\n",
              "\n",
              "    [theme=dark] .colab-df-convert {\n",
              "      background-color: #3B4455;\n",
              "      fill: #D2E3FC;\n",
              "    }\n",
              "\n",
              "    [theme=dark] .colab-df-convert:hover {\n",
              "      background-color: #434B5C;\n",
              "      box-shadow: 0px 1px 3px 1px rgba(0, 0, 0, 0.15);\n",
              "      filter: drop-shadow(0px 1px 2px rgba(0, 0, 0, 0.3));\n",
              "      fill: #FFFFFF;\n",
              "    }\n",
              "  </style>\n",
              "\n",
              "    <script>\n",
              "      const buttonEl =\n",
              "        document.querySelector('#df-6b094c61-b0fc-45ce-ae88-74207ebb300f button.colab-df-convert');\n",
              "      buttonEl.style.display =\n",
              "        google.colab.kernel.accessAllowed ? 'block' : 'none';\n",
              "\n",
              "      async function convertToInteractive(key) {\n",
              "        const element = document.querySelector('#df-6b094c61-b0fc-45ce-ae88-74207ebb300f');\n",
              "        const dataTable =\n",
              "          await google.colab.kernel.invokeFunction('convertToInteractive',\n",
              "                                                    [key], {});\n",
              "        if (!dataTable) return;\n",
              "\n",
              "        const docLinkHtml = 'Like what you see? Visit the ' +\n",
              "          '<a target=\"_blank\" href=https://colab.research.google.com/notebooks/data_table.ipynb>data table notebook</a>'\n",
              "          + ' to learn more about interactive tables.';\n",
              "        element.innerHTML = '';\n",
              "        dataTable['output_type'] = 'display_data';\n",
              "        await google.colab.output.renderOutput(dataTable, element);\n",
              "        const docLink = document.createElement('div');\n",
              "        docLink.innerHTML = docLinkHtml;\n",
              "        element.appendChild(docLink);\n",
              "      }\n",
              "    </script>\n",
              "  </div>\n",
              "\n",
              "\n",
              "<div id=\"df-57a6b414-3978-4e94-b2e3-21a8f65831cf\">\n",
              "  <button class=\"colab-df-quickchart\" onclick=\"quickchart('df-57a6b414-3978-4e94-b2e3-21a8f65831cf')\"\n",
              "            title=\"Suggest charts\"\n",
              "            style=\"display:none;\">\n",
              "\n",
              "<svg xmlns=\"http://www.w3.org/2000/svg\" height=\"24px\"viewBox=\"0 0 24 24\"\n",
              "     width=\"24px\">\n",
              "    <g>\n",
              "        <path d=\"M19 3H5c-1.1 0-2 .9-2 2v14c0 1.1.9 2 2 2h14c1.1 0 2-.9 2-2V5c0-1.1-.9-2-2-2zM9 17H7v-7h2v7zm4 0h-2V7h2v10zm4 0h-2v-4h2v4z\"/>\n",
              "    </g>\n",
              "</svg>\n",
              "  </button>\n",
              "\n",
              "<style>\n",
              "  .colab-df-quickchart {\n",
              "      --bg-color: #E8F0FE;\n",
              "      --fill-color: #1967D2;\n",
              "      --hover-bg-color: #E2EBFA;\n",
              "      --hover-fill-color: #174EA6;\n",
              "      --disabled-fill-color: #AAA;\n",
              "      --disabled-bg-color: #DDD;\n",
              "  }\n",
              "\n",
              "  [theme=dark] .colab-df-quickchart {\n",
              "      --bg-color: #3B4455;\n",
              "      --fill-color: #D2E3FC;\n",
              "      --hover-bg-color: #434B5C;\n",
              "      --hover-fill-color: #FFFFFF;\n",
              "      --disabled-bg-color: #3B4455;\n",
              "      --disabled-fill-color: #666;\n",
              "  }\n",
              "\n",
              "  .colab-df-quickchart {\n",
              "    background-color: var(--bg-color);\n",
              "    border: none;\n",
              "    border-radius: 50%;\n",
              "    cursor: pointer;\n",
              "    display: none;\n",
              "    fill: var(--fill-color);\n",
              "    height: 32px;\n",
              "    padding: 0;\n",
              "    width: 32px;\n",
              "  }\n",
              "\n",
              "  .colab-df-quickchart:hover {\n",
              "    background-color: var(--hover-bg-color);\n",
              "    box-shadow: 0 1px 2px rgba(60, 64, 67, 0.3), 0 1px 3px 1px rgba(60, 64, 67, 0.15);\n",
              "    fill: var(--button-hover-fill-color);\n",
              "  }\n",
              "\n",
              "  .colab-df-quickchart-complete:disabled,\n",
              "  .colab-df-quickchart-complete:disabled:hover {\n",
              "    background-color: var(--disabled-bg-color);\n",
              "    fill: var(--disabled-fill-color);\n",
              "    box-shadow: none;\n",
              "  }\n",
              "\n",
              "  .colab-df-spinner {\n",
              "    border: 2px solid var(--fill-color);\n",
              "    border-color: transparent;\n",
              "    border-bottom-color: var(--fill-color);\n",
              "    animation:\n",
              "      spin 1s steps(1) infinite;\n",
              "  }\n",
              "\n",
              "  @keyframes spin {\n",
              "    0% {\n",
              "      border-color: transparent;\n",
              "      border-bottom-color: var(--fill-color);\n",
              "      border-left-color: var(--fill-color);\n",
              "    }\n",
              "    20% {\n",
              "      border-color: transparent;\n",
              "      border-left-color: var(--fill-color);\n",
              "      border-top-color: var(--fill-color);\n",
              "    }\n",
              "    30% {\n",
              "      border-color: transparent;\n",
              "      border-left-color: var(--fill-color);\n",
              "      border-top-color: var(--fill-color);\n",
              "      border-right-color: var(--fill-color);\n",
              "    }\n",
              "    40% {\n",
              "      border-color: transparent;\n",
              "      border-right-color: var(--fill-color);\n",
              "      border-top-color: var(--fill-color);\n",
              "    }\n",
              "    60% {\n",
              "      border-color: transparent;\n",
              "      border-right-color: var(--fill-color);\n",
              "    }\n",
              "    80% {\n",
              "      border-color: transparent;\n",
              "      border-right-color: var(--fill-color);\n",
              "      border-bottom-color: var(--fill-color);\n",
              "    }\n",
              "    90% {\n",
              "      border-color: transparent;\n",
              "      border-bottom-color: var(--fill-color);\n",
              "    }\n",
              "  }\n",
              "</style>\n",
              "\n",
              "  <script>\n",
              "    async function quickchart(key) {\n",
              "      const quickchartButtonEl =\n",
              "        document.querySelector('#' + key + ' button');\n",
              "      quickchartButtonEl.disabled = true;  // To prevent multiple clicks.\n",
              "      quickchartButtonEl.classList.add('colab-df-spinner');\n",
              "      try {\n",
              "        const charts = await google.colab.kernel.invokeFunction(\n",
              "            'suggestCharts', [key], {});\n",
              "      } catch (error) {\n",
              "        console.error('Error during call to suggestCharts:', error);\n",
              "      }\n",
              "      quickchartButtonEl.classList.remove('colab-df-spinner');\n",
              "      quickchartButtonEl.classList.add('colab-df-quickchart-complete');\n",
              "    }\n",
              "    (() => {\n",
              "      let quickchartButtonEl =\n",
              "        document.querySelector('#df-57a6b414-3978-4e94-b2e3-21a8f65831cf button');\n",
              "      quickchartButtonEl.style.display =\n",
              "        google.colab.kernel.accessAllowed ? 'block' : 'none';\n",
              "    })();\n",
              "  </script>\n",
              "</div>\n",
              "\n",
              "  <div id=\"id_b45ef81d-aa43-43b7-9d01-0177b2d348c3\">\n",
              "    <style>\n",
              "      .colab-df-generate {\n",
              "        background-color: #E8F0FE;\n",
              "        border: none;\n",
              "        border-radius: 50%;\n",
              "        cursor: pointer;\n",
              "        display: none;\n",
              "        fill: #1967D2;\n",
              "        height: 32px;\n",
              "        padding: 0 0 0 0;\n",
              "        width: 32px;\n",
              "      }\n",
              "\n",
              "      .colab-df-generate:hover {\n",
              "        background-color: #E2EBFA;\n",
              "        box-shadow: 0px 1px 2px rgba(60, 64, 67, 0.3), 0px 1px 3px 1px rgba(60, 64, 67, 0.15);\n",
              "        fill: #174EA6;\n",
              "      }\n",
              "\n",
              "      [theme=dark] .colab-df-generate {\n",
              "        background-color: #3B4455;\n",
              "        fill: #D2E3FC;\n",
              "      }\n",
              "\n",
              "      [theme=dark] .colab-df-generate:hover {\n",
              "        background-color: #434B5C;\n",
              "        box-shadow: 0px 1px 3px 1px rgba(0, 0, 0, 0.15);\n",
              "        filter: drop-shadow(0px 1px 2px rgba(0, 0, 0, 0.3));\n",
              "        fill: #FFFFFF;\n",
              "      }\n",
              "    </style>\n",
              "    <button class=\"colab-df-generate\" onclick=\"generateWithVariable('df_sorted')\"\n",
              "            title=\"Generate code using this dataframe.\"\n",
              "            style=\"display:none;\">\n",
              "\n",
              "  <svg xmlns=\"http://www.w3.org/2000/svg\" height=\"24px\"viewBox=\"0 0 24 24\"\n",
              "       width=\"24px\">\n",
              "    <path d=\"M7,19H8.4L18.45,9,17,7.55,7,17.6ZM5,21V16.75L18.45,3.32a2,2,0,0,1,2.83,0l1.4,1.43a1.91,1.91,0,0,1,.58,1.4,1.91,1.91,0,0,1-.58,1.4L9.25,21ZM18.45,9,17,7.55Zm-12,3A5.31,5.31,0,0,0,4.9,8.1,5.31,5.31,0,0,0,1,6.5,5.31,5.31,0,0,0,4.9,4.9,5.31,5.31,0,0,0,6.5,1,5.31,5.31,0,0,0,8.1,4.9,5.31,5.31,0,0,0,12,6.5,5.46,5.46,0,0,0,6.5,12Z\"/>\n",
              "  </svg>\n",
              "    </button>\n",
              "    <script>\n",
              "      (() => {\n",
              "      const buttonEl =\n",
              "        document.querySelector('#id_b45ef81d-aa43-43b7-9d01-0177b2d348c3 button.colab-df-generate');\n",
              "      buttonEl.style.display =\n",
              "        google.colab.kernel.accessAllowed ? 'block' : 'none';\n",
              "\n",
              "      buttonEl.onclick = () => {\n",
              "        google.colab.notebook.generateWithVariable('df_sorted');\n",
              "      }\n",
              "      })();\n",
              "    </script>\n",
              "  </div>\n",
              "\n",
              "    </div>\n",
              "  </div>\n"
            ],
            "application/vnd.google.colaboratory.intrinsic+json": {
              "type": "dataframe",
              "variable_name": "df_sorted",
              "summary": "{\n  \"name\": \"df_sorted\",\n  \"rows\": 24,\n  \"fields\": [\n    {\n      \"column\": \"eval_score\",\n      \"properties\": {\n        \"dtype\": \"number\",\n        \"std\": 0.0005937803781412727,\n        \"min\": 0.5965390801429749,\n        \"max\": 0.5996803045272827,\n        \"num_unique_values\": 6,\n        \"samples\": [\n          0.5965390801429749,\n          0.5977954864501953,\n          0.5996803045272827\n        ],\n        \"semantic_type\": \"\",\n        \"description\": \"\"\n      }\n    }\n  ]\n}"
            }
          },
          "metadata": {}
        }
      ]
    },
    {
      "cell_type": "markdown",
      "source": [
        "#### Build model\n"
      ],
      "metadata": {
        "id": "eJw1DuLqbQ2U"
      }
    },
    {
      "cell_type": "code",
      "source": [
        "def build_hyperparameter_tuning(embedding_dim= 300, units=256 , useDropout=False):\n",
        "    model = keras.Sequential()\n",
        "\n",
        "    model.add(layers.Embedding(\n",
        "        input_length=MAX_SEQ_LENGTH,\n",
        "        input_dim=vocab_size,\n",
        "        output_dim=embedding_dim,\n",
        "        mask_zero=True\n",
        "    ))\n",
        "\n",
        "    model.add(layers.Bidirectional(layers.LSTM(units)))\n",
        "\n",
        "    if useDropout:\n",
        "        model.add(layers.Dropout(0.5))\n",
        "\n",
        "    model.add(layers.Dense(4, activation=\"sigmoid\"))\n",
        "\n",
        "    return model"
      ],
      "metadata": {
        "id": "V4npvYHvbh8F"
      },
      "execution_count": 45,
      "outputs": []
    },
    {
      "cell_type": "code",
      "source": [
        "model_hyperparameter_tuning = build_hyperparameter_tuning()"
      ],
      "metadata": {
        "id": "CV_PG4Gabl-6"
      },
      "execution_count": 46,
      "outputs": []
    },
    {
      "cell_type": "code",
      "source": [
        "model_hyperparameter_tuning.compile(\n",
        "    loss=\"binary_crossentropy\",\n",
        "    optimizer=\"adam\",\n",
        "    metrics=[f1_score]\n",
        "  )"
      ],
      "metadata": {
        "id": "KyhQZ4dbbnET"
      },
      "execution_count": 47,
      "outputs": []
    },
    {
      "cell_type": "markdown",
      "source": [
        "#### Training"
      ],
      "metadata": {
        "id": "WhG2svQKbTDo"
      }
    },
    {
      "cell_type": "code",
      "source": [
        "modelCheckpoint = keras.callbacks.ModelCheckpoint(\"/content/Best_hyperparameter_tuning_model.h5\",)"
      ],
      "metadata": {
        "id": "Z34axbWWcCPe"
      },
      "execution_count": 50,
      "outputs": []
    },
    {
      "cell_type": "code",
      "source": [
        "EPOCHS = 20\n",
        "BATCH_SIZE = 16\n",
        "\n",
        "model_hyperparameter_tuning.fit(\n",
        "  train_sentences_padded, train_labels,\n",
        "  validation_data=(val_sentences_padded,val_labels),\n",
        "  epochs=EPOCHS,\n",
        "  batch_size=BATCH_SIZE,\n",
        "  callbacks=[modelCheckpoint]\n",
        ")"
      ],
      "metadata": {
        "colab": {
          "base_uri": "https://localhost:8080/"
        },
        "id": "WAvtITMdboaH",
        "outputId": "0a8dc977-e698-4b2f-995b-d53efbd60281"
      },
      "execution_count": 51,
      "outputs": [
        {
          "output_type": "stream",
          "name": "stdout",
          "text": [
            "Epoch 1/20\n",
            "127/127 [==============================] - 41s 211ms/step - loss: 0.5685 - f1_score: 0.4093 - val_loss: 0.4971 - val_f1_score: 0.5928\n",
            "Epoch 2/20\n",
            "  1/127 [..............................] - ETA: 2s - loss: 0.3661 - f1_score: 0.7192"
          ]
        },
        {
          "output_type": "stream",
          "name": "stderr",
          "text": [
            "/usr/local/lib/python3.10/dist-packages/keras/src/engine/training.py:3103: UserWarning: You are saving your model as an HDF5 file via `model.save()`. This file format is considered legacy. We recommend using instead the native Keras format, e.g. `model.save('my_model.keras')`.\n",
            "  saving_api.save_model(\n"
          ]
        },
        {
          "output_type": "stream",
          "name": "stdout",
          "text": [
            "127/127 [==============================] - 10s 79ms/step - loss: 0.3379 - f1_score: 0.7840 - val_loss: 0.5138 - val_f1_score: 0.6433\n",
            "Epoch 3/20\n",
            "127/127 [==============================] - 8s 60ms/step - loss: 0.1599 - f1_score: 0.9189 - val_loss: 0.6437 - val_f1_score: 0.6724\n",
            "Epoch 4/20\n",
            "127/127 [==============================] - 5s 42ms/step - loss: 0.0666 - f1_score: 0.9690 - val_loss: 0.7491 - val_f1_score: 0.6726\n",
            "Epoch 5/20\n",
            "127/127 [==============================] - 6s 46ms/step - loss: 0.0285 - f1_score: 0.9887 - val_loss: 0.9584 - val_f1_score: 0.6517\n",
            "Epoch 6/20\n",
            "127/127 [==============================] - 5s 37ms/step - loss: 0.0170 - f1_score: 0.9931 - val_loss: 1.0034 - val_f1_score: 0.6534\n",
            "Epoch 7/20\n",
            "127/127 [==============================] - 5s 41ms/step - loss: 0.0112 - f1_score: 0.9965 - val_loss: 1.0441 - val_f1_score: 0.6527\n",
            "Epoch 8/20\n",
            "127/127 [==============================] - 5s 40ms/step - loss: 0.0086 - f1_score: 0.9917 - val_loss: 1.1217 - val_f1_score: 0.6546\n",
            "Epoch 9/20\n",
            "127/127 [==============================] - 4s 34ms/step - loss: 0.0070 - f1_score: 0.9979 - val_loss: 1.1344 - val_f1_score: 0.6526\n",
            "Epoch 10/20\n",
            "127/127 [==============================] - 5s 40ms/step - loss: 0.0039 - f1_score: 0.9984 - val_loss: 1.2284 - val_f1_score: 0.6355\n",
            "Epoch 11/20\n",
            "127/127 [==============================] - 4s 32ms/step - loss: 0.0026 - f1_score: 0.9972 - val_loss: 1.2934 - val_f1_score: 0.6524\n",
            "Epoch 12/20\n",
            "127/127 [==============================] - 4s 29ms/step - loss: 0.0020 - f1_score: 0.9955 - val_loss: 1.3325 - val_f1_score: 0.6517\n",
            "Epoch 13/20\n",
            "127/127 [==============================] - 5s 39ms/step - loss: 0.0021 - f1_score: 0.9953 - val_loss: 1.3783 - val_f1_score: 0.6491\n",
            "Epoch 14/20\n",
            "127/127 [==============================] - 4s 30ms/step - loss: 0.0018 - f1_score: 0.9972 - val_loss: 1.4199 - val_f1_score: 0.6503\n",
            "Epoch 15/20\n",
            "127/127 [==============================] - 4s 30ms/step - loss: 0.0020 - f1_score: 0.9972 - val_loss: 1.4486 - val_f1_score: 0.6401\n",
            "Epoch 16/20\n",
            "127/127 [==============================] - 5s 39ms/step - loss: 0.0018 - f1_score: 0.9985 - val_loss: 1.4946 - val_f1_score: 0.6452\n",
            "Epoch 17/20\n",
            "127/127 [==============================] - 4s 29ms/step - loss: 0.0018 - f1_score: 0.9991 - val_loss: 1.5070 - val_f1_score: 0.6412\n",
            "Epoch 18/20\n",
            "127/127 [==============================] - 4s 28ms/step - loss: 0.0017 - f1_score: 0.9989 - val_loss: 1.5551 - val_f1_score: 0.6396\n",
            "Epoch 19/20\n",
            "127/127 [==============================] - 5s 37ms/step - loss: 0.0013 - f1_score: 0.9995 - val_loss: 1.5668 - val_f1_score: 0.6533\n",
            "Epoch 20/20\n",
            "127/127 [==============================] - 4s 32ms/step - loss: 0.0014 - f1_score: 0.9976 - val_loss: 1.6070 - val_f1_score: 0.6386\n"
          ]
        },
        {
          "output_type": "execute_result",
          "data": {
            "text/plain": [
              "<keras.src.callbacks.History at 0x7fabe00ae980>"
            ]
          },
          "metadata": {},
          "execution_count": 51
        }
      ]
    },
    {
      "cell_type": "markdown",
      "source": [
        "#### Evaluation"
      ],
      "metadata": {
        "id": "eEV1uMP6bcl0"
      }
    },
    {
      "cell_type": "code",
      "source": [
        "model_hyperparameter_tuning.evaluate(val_sentences_padded, val_labels)"
      ],
      "metadata": {
        "colab": {
          "base_uri": "https://localhost:8080/"
        },
        "id": "rmmf33AScJ5g",
        "outputId": "fd1944f8-4e78-4dbb-d1cc-796f2d195bdc"
      },
      "execution_count": 52,
      "outputs": [
        {
          "output_type": "stream",
          "name": "stdout",
          "text": [
            "14/14 [==============================] - 0s 7ms/step - loss: 1.6070 - f1_score: 0.6487\n"
          ]
        },
        {
          "output_type": "execute_result",
          "data": {
            "text/plain": [
              "[1.607031226158142, 0.6487040519714355]"
            ]
          },
          "metadata": {},
          "execution_count": 52
        }
      ]
    },
    {
      "cell_type": "markdown",
      "source": [
        "##### Validation\n"
      ],
      "metadata": {
        "id": "s-NVHyyIbV_S"
      }
    },
    {
      "cell_type": "markdown",
      "source": [
        "##### Test"
      ],
      "metadata": {
        "id": "Vh6G2FBbbdt3"
      }
    },
    {
      "cell_type": "code",
      "source": [
        "model_hyperparameter_tuning.evaluate(test_sentences_padded, test_labels)"
      ],
      "metadata": {
        "colab": {
          "base_uri": "https://localhost:8080/"
        },
        "id": "HzVH40JLcLXb",
        "outputId": "5bf8e3a3-00a2-4842-8e42-e107c65612fc"
      },
      "execution_count": 53,
      "outputs": [
        {
          "output_type": "stream",
          "name": "stdout",
          "text": [
            "14/14 [==============================] - 1s 34ms/step - loss: 1.5074 - f1_score: 0.6803\n"
          ]
        },
        {
          "output_type": "execute_result",
          "data": {
            "text/plain": [
              "[1.507386565208435, 0.6802740097045898]"
            ]
          },
          "metadata": {},
          "execution_count": 53
        }
      ]
    },
    {
      "cell_type": "markdown",
      "source": [
        "## model with pretrained embedding"
      ],
      "metadata": {
        "id": "s_o2tR9904DL"
      }
    },
    {
      "cell_type": "markdown",
      "source": [
        "### Encoding"
      ],
      "metadata": {
        "id": "QVarJFg73329"
      }
    },
    {
      "cell_type": "code",
      "source": [
        "# word2vec_model = Word2Vec(train_sentences_tokenized, vector_size=100, window=5, min_count=1, workers=4)\n",
        "\n",
        "# def preprocessing_train(data):\n",
        "#   sentences = [[word2vec_model.wv.get_index(word) for word in words if word in word2vec_model.wv.index_to_key] for words in data]\n",
        "#   MAX_SEQ_LENGTH = max(len(seq) for seq in sentences)\n",
        "#   sentences_padded = np.array([seq + [0]*(MAX_SEQ_LENGTH - len(seq)) for seq in sentences])\n",
        "#   return sentences_padded, MAX_SEQ_LENGTH\n",
        "\n",
        "# def preprocessing_eval(data, MAX_SEQ_LENGTH):\n",
        "#   sentences = [[word2vec_model.wv.get_index(word) for word in words if word in word2vec_model.wv.index_to_key] for words in data]\n",
        "#   sentences_padded = np.array([seq + [0]*(MAX_SEQ_LENGTH - len(seq)) for seq in sentences])\n",
        "#   return sentences_padded\n",
        "\n",
        "\n",
        "# train_sentences_padded, MAX_SEQ_LENGTH = preprocessing_train(train_sentences_tokenized)\n",
        "# val_sentences_padded = preprocessing_eval(val_sentences_tokenized, MAX_SEQ_LENGTH)\n",
        "# test_sentences_padded = preprocessing_eval(val_sentences_tokenized, MAX_SEQ_LENGTH)"
      ],
      "metadata": {
        "id": "Q6XpBNAk1MTb"
      },
      "execution_count": null,
      "outputs": []
    },
    {
      "cell_type": "markdown",
      "source": [
        "### Build model"
      ],
      "metadata": {
        "id": "dVgVJQJm368x"
      }
    },
    {
      "cell_type": "code",
      "source": [
        "# def build_model(MAX_SEQ_LENGTH, embedding_dim):\n",
        "#     model = keras.Sequential()\n",
        "\n",
        "#     model.add(layers.Embedding(input_length=MAX_SEQ_LENGTH, input_dim=len(word2vec_model.wv.index_to_key), output_dim=embedding_dim, mask_zero=True))\n",
        "\n",
        "#     model.add(layers.Bidirectional(layers.LSTM(512)))\n",
        "\n",
        "#     model.add(layers.Dense(4, activation=\"sigmoid\"))\n",
        "\n",
        "#     return model"
      ],
      "metadata": {
        "id": "JyLD4EjU2k5T"
      },
      "execution_count": null,
      "outputs": []
    },
    {
      "cell_type": "code",
      "source": [
        "# model = build_model(MAX_SEQ_LENGTH, embedding_dim)"
      ],
      "metadata": {
        "id": "tmqRVbxV6git"
      },
      "execution_count": null,
      "outputs": []
    },
    {
      "cell_type": "code",
      "source": [
        "# model.compile(loss=\"binary_crossentropy\", optimizer=\"adam\", metrics=[\"accuracy\"])"
      ],
      "metadata": {
        "id": "3SHil5JC6h4K"
      },
      "execution_count": null,
      "outputs": []
    },
    {
      "cell_type": "markdown",
      "source": [
        "### Training\n"
      ],
      "metadata": {
        "id": "nZNLaldf3_eS"
      }
    },
    {
      "cell_type": "code",
      "source": [
        "# EPOCHS = 20\n",
        "# BATCH_SIZE = 16\n",
        "\n",
        "# model.fit(\n",
        "#     train_sentences_padded, train_labels,\n",
        "#     validation_data=(val_sentences_padded ,val_labels),\n",
        "#     epochs=EPOCHS,\n",
        "#     batch_size=BATCH_SIZE\n",
        "# )"
      ],
      "metadata": {
        "id": "-f65_VfC83PG"
      },
      "execution_count": null,
      "outputs": []
    },
    {
      "cell_type": "markdown",
      "source": [
        "### Evaluation"
      ],
      "metadata": {
        "id": "KlGuJl7G4A4g"
      }
    },
    {
      "cell_type": "code",
      "source": [
        "# prediction = model.predict(test_sentences_padded)\n",
        "# threshold = 0.5\n",
        "# predicted_classes = (prediction > threshold).astype(int)\n",
        "# accuracy = np.mean(predicted_classes == test_labels)\n",
        "\n",
        "# print(\"Accuracy:\", accuracy)"
      ],
      "metadata": {
        "id": "FQtMnqGi7KbX"
      },
      "execution_count": null,
      "outputs": []
    },
    {
      "cell_type": "markdown",
      "source": [
        "#### Validation"
      ],
      "metadata": {
        "id": "fNz1_oYchtiW"
      }
    },
    {
      "cell_type": "code",
      "source": [
        "# loss, accuracy = model.evaluate(test_sentences_padded, test_labels)"
      ],
      "metadata": {
        "id": "W5gIqsrihsV9"
      },
      "execution_count": null,
      "outputs": []
    },
    {
      "cell_type": "markdown",
      "source": [
        "#### Test"
      ],
      "metadata": {
        "id": "0lHZDGE8hwyS"
      }
    },
    {
      "cell_type": "code",
      "source": [
        "# loss, accuracy = model.evaluate(test_sentences_padded, test_labels)"
      ],
      "metadata": {
        "id": "HhcHtzjW7NqJ"
      },
      "execution_count": null,
      "outputs": []
    },
    {
      "cell_type": "markdown",
      "source": [
        "# Active learning"
      ],
      "metadata": {
        "id": "OHnsjaTaaA-8"
      }
    },
    {
      "cell_type": "markdown",
      "source": [
        "### Build model"
      ],
      "metadata": {
        "id": "DFO1EkHmhNav"
      }
    },
    {
      "cell_type": "code",
      "source": [
        "def build_activeLearning_model(MAX_SEQ_LENGTH, vocab_size, embedding_dim):\n",
        "    model = keras.Sequential()\n",
        "\n",
        "    model.add(layers.Embedding(input_length=MAX_SEQ_LENGTH, input_dim=vocab_size, output_dim=embedding_dim))\n",
        "\n",
        "    model.add(layers.Bidirectional(layers.LSTM(512)))\n",
        "    model.add(layers.Dropout(0.5))\n",
        "\n",
        "    model.add(layers.Dense(4, activation=\"sigmoid\"))\n",
        "\n",
        "    return model"
      ],
      "metadata": {
        "id": "l_iry_MZa9Z6"
      },
      "execution_count": null,
      "outputs": []
    },
    {
      "cell_type": "markdown",
      "source": [
        "### Training\n"
      ],
      "metadata": {
        "id": "blCKoswZhP9W"
      }
    },
    {
      "cell_type": "code",
      "source": [
        "initial_indices = np.random.choice(len(train_sentences_encoded), 50, replace=False)\n",
        "remaining_indices = np.setdiff1d(np.arange(len(train_sentences_encoded)), initial_indices)"
      ],
      "metadata": {
        "id": "iS75cVR9aDwI"
      },
      "execution_count": null,
      "outputs": []
    },
    {
      "cell_type": "code",
      "source": [
        "initial_train_sentences = train_sentences_padded[initial_indices]\n",
        "initial_train_labels = train_labels[initial_indices]"
      ],
      "metadata": {
        "id": "ktvzW7EZaJlX"
      },
      "execution_count": null,
      "outputs": []
    },
    {
      "cell_type": "code",
      "source": [
        "EPOCHS = 10\n",
        "BATCH_SIZE = 16\n",
        "NUM_QUERIES = 5\n",
        "QUERY_SIZE = 50"
      ],
      "metadata": {
        "id": "502hCnGkaKB2"
      },
      "execution_count": null,
      "outputs": []
    },
    {
      "cell_type": "code",
      "source": [
        "for i in range(NUM_QUERIES):\n",
        "    print(f\"Active Learning Iteration: {i+1}\")\n",
        "\n",
        "    model_entropy_activeLearning = build_activeLearning_model(MAX_SEQ_LENGTH, vocab_size, embedding_dim)\n",
        "    model_entropy_activeLearning.compile(optimizer=\"adam\", loss='categorical_crossentropy', metrics=[f1_score])\n",
        "    model_entropy_activeLearning.fit(\n",
        "        initial_train_sentences, initial_train_labels,\n",
        "        validation_data=(val_sentences_padded, val_labels),\n",
        "        epochs=EPOCHS,\n",
        "        batch_size=BATCH_SIZE\n",
        "    )\n",
        "\n",
        "    remaining_sentences = train_sentences_padded[remaining_indices]\n",
        "    predictions = model.predict(remaining_sentences)\n",
        "\n",
        "    entropy = -np.sum(predictions * np.log(predictions + 1e-10), axis=1)\n",
        "\n",
        "    query_indices = np.argsort(entropy)[-QUERY_SIZE:]\n",
        "    selected_indices = remaining_indices[query_indices]\n",
        "\n",
        "    initial_train_sentences = np.concatenate((initial_train_sentences, train_sentences_padded[selected_indices]))\n",
        "    initial_train_labels = np.concatenate((initial_train_labels, train_labels[selected_indices]))\n",
        "\n",
        "    remaining_indices = np.setdiff1d(remaining_indices, selected_indices)\n",
        "\n",
        "model_entropy_activeLearning.save(\"/content/Best_entropy_active_learning_model.h5\")"
      ],
      "metadata": {
        "colab": {
          "base_uri": "https://localhost:8080/"
        },
        "id": "CofW2oXtbGN1",
        "outputId": "595c1954-d6cd-415f-99ef-e74326a54b3c"
      },
      "execution_count": null,
      "outputs": [
        {
          "output_type": "stream",
          "name": "stdout",
          "text": [
            "Active Learning Iteration: 1\n",
            "Epoch 1/10\n",
            "7/7 [==============================] - 7s 477ms/step - loss: 3.1611 - f1_score: 0.5255 - val_loss: 3.2277 - val_f1_score: 0.5933\n",
            "Epoch 2/10\n",
            "7/7 [==============================] - 2s 379ms/step - loss: 2.9792 - f1_score: 0.5876 - val_loss: 2.6139 - val_f1_score: 0.5933\n",
            "Epoch 3/10\n",
            "7/7 [==============================] - 3s 418ms/step - loss: 3.0069 - f1_score: 0.5813 - val_loss: 2.4392 - val_f1_score: 0.5933\n",
            "Epoch 4/10\n",
            "7/7 [==============================] - 2s 326ms/step - loss: 2.9700 - f1_score: 0.5702 - val_loss: 2.6022 - val_f1_score: 0.5933\n",
            "Epoch 5/10\n",
            "7/7 [==============================] - 3s 446ms/step - loss: 3.3328 - f1_score: 0.5683 - val_loss: 2.4335 - val_f1_score: 0.5933\n",
            "Epoch 6/10\n",
            "7/7 [==============================] - 3s 543ms/step - loss: 3.4272 - f1_score: 0.5887 - val_loss: 2.4173 - val_f1_score: 0.5933\n",
            "Epoch 7/10\n",
            "7/7 [==============================] - 5s 709ms/step - loss: 3.3079 - f1_score: 0.5851 - val_loss: 2.5629 - val_f1_score: 0.5933\n",
            "Epoch 8/10\n",
            "7/7 [==============================] - 3s 484ms/step - loss: 3.2611 - f1_score: 0.5809 - val_loss: 2.6553 - val_f1_score: 0.5933\n",
            "Epoch 9/10\n",
            "7/7 [==============================] - 3s 444ms/step - loss: 3.4419 - f1_score: 0.5765 - val_loss: 2.5538 - val_f1_score: 0.5933\n",
            "Epoch 10/10\n",
            "7/7 [==============================] - 3s 426ms/step - loss: 3.4729 - f1_score: 0.5908 - val_loss: 2.5775 - val_f1_score: 0.5933\n",
            "61/61 [==============================] - 1s 10ms/step\n",
            "Active Learning Iteration: 2\n",
            "Epoch 1/10\n",
            "10/10 [==============================] - 11s 457ms/step - loss: 2.8285 - f1_score: 0.5476 - val_loss: 2.5976 - val_f1_score: 0.5933\n",
            "Epoch 2/10\n",
            "10/10 [==============================] - 4s 412ms/step - loss: 3.0536 - f1_score: 0.5925 - val_loss: 2.7184 - val_f1_score: 0.5933\n",
            "Epoch 3/10\n",
            "10/10 [==============================] - 3s 294ms/step - loss: 3.2727 - f1_score: 0.5940 - val_loss: 2.6919 - val_f1_score: 0.5933\n",
            "Epoch 4/10\n",
            "10/10 [==============================] - 3s 287ms/step - loss: 3.4055 - f1_score: 0.5768 - val_loss: 2.4991 - val_f1_score: 0.5933\n",
            "Epoch 5/10\n",
            "10/10 [==============================] - 3s 291ms/step - loss: 3.3949 - f1_score: 0.5949 - val_loss: 2.6036 - val_f1_score: 0.5933\n",
            "Epoch 6/10\n",
            "10/10 [==============================] - 4s 401ms/step - loss: 3.2981 - f1_score: 0.5900 - val_loss: 2.4818 - val_f1_score: 0.5933\n",
            "Epoch 7/10\n",
            "10/10 [==============================] - 4s 395ms/step - loss: 3.3836 - f1_score: 0.5856 - val_loss: 2.4405 - val_f1_score: 0.5933\n",
            "Epoch 8/10\n",
            "10/10 [==============================] - 2s 245ms/step - loss: 3.4482 - f1_score: 0.5857 - val_loss: 2.5718 - val_f1_score: 0.5933\n",
            "Epoch 9/10\n",
            "10/10 [==============================] - 3s 279ms/step - loss: 3.3284 - f1_score: 0.5988 - val_loss: 2.5096 - val_f1_score: 0.5933\n",
            "Epoch 10/10\n",
            "10/10 [==============================] - 2s 252ms/step - loss: 3.4597 - f1_score: 0.5858 - val_loss: 2.5337 - val_f1_score: 0.5933\n",
            "59/59 [==============================] - 0s 5ms/step\n",
            "Active Learning Iteration: 3\n",
            "Epoch 1/10\n",
            "13/13 [==============================] - 10s 405ms/step - loss: 3.4349 - f1_score: 0.5668 - val_loss: 2.6167 - val_f1_score: 0.5933\n",
            "Epoch 2/10\n",
            "13/13 [==============================] - 4s 316ms/step - loss: 3.2847 - f1_score: 0.6096 - val_loss: 2.6465 - val_f1_score: 0.5933\n",
            "Epoch 3/10\n",
            "13/13 [==============================] - 3s 238ms/step - loss: 3.5342 - f1_score: 0.6091 - val_loss: 2.4452 - val_f1_score: 0.5933\n",
            "Epoch 4/10\n",
            "13/13 [==============================] - 3s 259ms/step - loss: 3.6464 - f1_score: 0.6105 - val_loss: 2.4740 - val_f1_score: 0.5933\n",
            "Epoch 5/10\n",
            "13/13 [==============================] - 3s 269ms/step - loss: 3.3983 - f1_score: 0.6050 - val_loss: 2.4220 - val_f1_score: 0.5933\n",
            "Epoch 6/10\n",
            "13/13 [==============================] - 3s 260ms/step - loss: 3.5892 - f1_score: 0.6061 - val_loss: 2.6456 - val_f1_score: 0.5933\n",
            "Epoch 7/10\n",
            "13/13 [==============================] - 3s 247ms/step - loss: 3.4104 - f1_score: 0.6082 - val_loss: 2.5465 - val_f1_score: 0.5933\n",
            "Epoch 8/10\n",
            "13/13 [==============================] - 4s 285ms/step - loss: 3.5440 - f1_score: 0.6051 - val_loss: 2.6177 - val_f1_score: 0.5933\n",
            "Epoch 9/10\n",
            "13/13 [==============================] - 3s 233ms/step - loss: 3.5776 - f1_score: 0.6004 - val_loss: 2.5236 - val_f1_score: 0.5933\n",
            "Epoch 10/10\n",
            "13/13 [==============================] - 3s 241ms/step - loss: 3.6083 - f1_score: 0.6065 - val_loss: 2.8585 - val_f1_score: 0.5933\n",
            "58/58 [==============================] - 0s 5ms/step\n",
            "Active Learning Iteration: 4\n",
            "Epoch 1/10\n",
            "16/16 [==============================] - 9s 304ms/step - loss: 3.0508 - f1_score: 0.5993 - val_loss: 2.5635 - val_f1_score: 0.5933\n",
            "Epoch 2/10\n",
            "16/16 [==============================] - 4s 226ms/step - loss: 3.4217 - f1_score: 0.6017 - val_loss: 3.1968 - val_f1_score: 0.5933\n",
            "Epoch 3/10\n",
            "16/16 [==============================] - 4s 287ms/step - loss: 3.4433 - f1_score: 0.5971 - val_loss: 2.4837 - val_f1_score: 0.5933\n",
            "Epoch 4/10\n",
            "16/16 [==============================] - 3s 216ms/step - loss: 3.4918 - f1_score: 0.5984 - val_loss: 2.3921 - val_f1_score: 0.5933\n",
            "Epoch 5/10\n",
            "16/16 [==============================] - 4s 234ms/step - loss: 3.3046 - f1_score: 0.6014 - val_loss: 2.9151 - val_f1_score: 0.5933\n",
            "Epoch 6/10\n",
            "16/16 [==============================] - 3s 216ms/step - loss: 3.5303 - f1_score: 0.6011 - val_loss: 2.4013 - val_f1_score: 0.5933\n",
            "Epoch 7/10\n",
            "16/16 [==============================] - 4s 233ms/step - loss: 3.4689 - f1_score: 0.6004 - val_loss: 2.4237 - val_f1_score: 0.5933\n",
            "Epoch 8/10\n",
            "16/16 [==============================] - 3s 202ms/step - loss: 3.5819 - f1_score: 0.6005 - val_loss: 2.4645 - val_f1_score: 0.5933\n",
            "Epoch 9/10\n",
            "16/16 [==============================] - 3s 186ms/step - loss: 3.6108 - f1_score: 0.5990 - val_loss: 2.4034 - val_f1_score: 0.5933\n",
            "Epoch 10/10\n",
            "16/16 [==============================] - 3s 209ms/step - loss: 3.4883 - f1_score: 0.6003 - val_loss: 2.6367 - val_f1_score: 0.5933\n",
            "56/56 [==============================] - 0s 7ms/step\n",
            "Active Learning Iteration: 5\n",
            "Epoch 1/10\n",
            "19/19 [==============================] - 9s 261ms/step - loss: 2.9149 - f1_score: 0.5904 - val_loss: 2.7974 - val_f1_score: 0.5933\n",
            "Epoch 2/10\n",
            "19/19 [==============================] - 5s 258ms/step - loss: 3.3754 - f1_score: 0.5970 - val_loss: 2.4011 - val_f1_score: 0.5933\n",
            "Epoch 3/10\n",
            "19/19 [==============================] - 4s 211ms/step - loss: 3.4742 - f1_score: 0.5946 - val_loss: 2.4618 - val_f1_score: 0.5933\n",
            "Epoch 4/10\n",
            "19/19 [==============================] - 4s 216ms/step - loss: 3.5191 - f1_score: 0.5960 - val_loss: 2.6920 - val_f1_score: 0.5933\n",
            "Epoch 5/10\n",
            "19/19 [==============================] - 4s 234ms/step - loss: 3.4909 - f1_score: 0.5922 - val_loss: 2.5159 - val_f1_score: 0.5933\n",
            "Epoch 6/10\n",
            "19/19 [==============================] - 4s 192ms/step - loss: 3.5515 - f1_score: 0.5935 - val_loss: 2.5061 - val_f1_score: 0.5933\n",
            "Epoch 7/10\n",
            "19/19 [==============================] - 3s 182ms/step - loss: 3.4154 - f1_score: 0.5939 - val_loss: 2.4794 - val_f1_score: 0.5933\n",
            "Epoch 8/10\n",
            "19/19 [==============================] - 4s 200ms/step - loss: 3.4836 - f1_score: 0.5957 - val_loss: 2.3962 - val_f1_score: 0.5933\n",
            "Epoch 9/10\n",
            "19/19 [==============================] - 4s 198ms/step - loss: 3.5458 - f1_score: 0.5915 - val_loss: 2.3701 - val_f1_score: 0.5933\n",
            "Epoch 10/10\n",
            "19/19 [==============================] - 3s 183ms/step - loss: 3.3783 - f1_score: 0.5971 - val_loss: 2.6737 - val_f1_score: 0.5933\n",
            "55/55 [==============================] - 0s 5ms/step\n"
          ]
        },
        {
          "output_type": "stream",
          "name": "stderr",
          "text": [
            "/usr/local/lib/python3.10/dist-packages/keras/src/engine/training.py:3103: UserWarning: You are saving your model as an HDF5 file via `model.save()`. This file format is considered legacy. We recommend using instead the native Keras format, e.g. `model.save('my_model.keras')`.\n",
            "  saving_api.save_model(\n"
          ]
        }
      ]
    },
    {
      "cell_type": "markdown",
      "source": [
        "### Evaluating"
      ],
      "metadata": {
        "id": "5H-el-UehU1I"
      }
    },
    {
      "cell_type": "markdown",
      "source": [
        "#### Validation"
      ],
      "metadata": {
        "id": "sb1Kn70Lhygj"
      }
    },
    {
      "cell_type": "code",
      "source": [
        "val_loss, val_f1 = model_entropy_activeLearning.evaluate(val_sentences_padded, val_labels)"
      ],
      "metadata": {
        "colab": {
          "base_uri": "https://localhost:8080/"
        },
        "id": "twu74smoeuJL",
        "outputId": "f766d163-14e3-47e5-9253-ff6ee9771502"
      },
      "execution_count": null,
      "outputs": [
        {
          "output_type": "stream",
          "name": "stdout",
          "text": [
            "14/14 [==============================] - 1s 50ms/step - loss: 2.6737 - f1_score: 0.5987\n"
          ]
        }
      ]
    },
    {
      "cell_type": "markdown",
      "source": [
        "#### Test"
      ],
      "metadata": {
        "id": "N3OVit_uhzho"
      }
    },
    {
      "cell_type": "code",
      "source": [
        "test_loss, test_f1 = model_entropy_activeLearning.evaluate(test_sentences_padded, test_labels)"
      ],
      "metadata": {
        "colab": {
          "base_uri": "https://localhost:8080/"
        },
        "id": "X7jfIfZzeUzw",
        "outputId": "4af8c464-52f7-4479-8385-2e835369bb6f"
      },
      "execution_count": null,
      "outputs": [
        {
          "output_type": "stream",
          "name": "stdout",
          "text": [
            "14/14 [==============================] - 1s 47ms/step - loss: 2.5886 - f1_score: 0.5825\n"
          ]
        }
      ]
    }
  ],
  "metadata": {
    "colab": {
      "provenance": [],
      "gpuType": "T4",
      "toc_visible": true,
      "include_colab_link": true
    },
    "kernelspec": {
      "display_name": "Python 3",
      "name": "python3"
    },
    "language_info": {
      "name": "python"
    },
    "accelerator": "GPU"
  },
  "nbformat": 4,
  "nbformat_minor": 0
}