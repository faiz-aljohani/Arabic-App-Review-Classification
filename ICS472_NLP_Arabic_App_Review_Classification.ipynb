{
  "nbformat": 4,
  "nbformat_minor": 0,
  "metadata": {
    "colab": {
      "provenance": []
    },
    "kernelspec": {
      "name": "python3",
      "display_name": "Python 3"
    },
    "language_info": {
      "name": "python"
    }
  },
  "cells": [
    {
      "cell_type": "code",
      "source": [],
      "metadata": {
        "colab": {
          "base_uri": "https://localhost:8080/"
        },
        "id": "kgG3y6cbCfXS",
        "outputId": "25b664ef-f2ea-4cec-abd1-46a61a264f2d"
      },
      "execution_count": 1,
      "outputs": [
        {
          "output_type": "stream",
          "name": "stdout",
          "text": [
            "Cloning into 'Arabic-App-Review-Classification'...\n",
            "fatal: could not read Username for 'https://github.com': No such device or address\n"
          ]
        }
      ]
    },
    {
      "cell_type": "markdown",
      "source": [
        "# Part-B [65 points]:\n",
        " Multiclass and Multilabel App Review Classification"
      ],
      "metadata": {
        "id": "KnAPPiwR7R1U"
      }
    },
    {
      "cell_type": "markdown",
      "source": [
        "## Setup & Load Dataset"
      ],
      "metadata": {
        "id": "P0fHU09I7Y5S"
      }
    },
    {
      "cell_type": "code",
      "execution_count": 2,
      "metadata": {
        "id": "3HkR473q7J3O"
      },
      "outputs": [],
      "source": [
        "import pandas as pd\n",
        "dataset = pd.read_csv(\"https://raw.githubusercontent.com/faiz-aljohani/Arabic-App-Review-Classification/main/AppReview-Multilabel.csv\")"
      ]
    },
    {
      "cell_type": "code",
      "source": [
        "X = dataset.iloc[:,0]\n",
        "y = dataset.iloc[:,1:]"
      ],
      "metadata": {
        "id": "QsWNHCpgD3ry"
      },
      "execution_count": 5,
      "outputs": []
    },
    {
      "cell_type": "markdown",
      "source": [
        "## Split the dataset train/val/test...\n",
        "70-30 Train TestVal. Take 50% of TestVal data as validation set.\n",
        "Use seed 777 for partitioning."
      ],
      "metadata": {
        "id": "fkh2HcXU7c3S"
      }
    },
    {
      "cell_type": "code",
      "source": [
        "from sklearn.model_selection import train_test_split"
      ],
      "metadata": {
        "id": "NB-r3Pm37mtb"
      },
      "execution_count": 3,
      "outputs": []
    },
    {
      "cell_type": "code",
      "source": [
        "X_train, X_testval, y_train, y_testval = train_test_split(X, y, test_size=0.3, random_state=777)\n",
        "X_val, X_test, y_val, y_test = train_test_split(X_testval, y_testval, test_size=0.5, random_state=777)"
      ],
      "metadata": {
        "id": "kZvMPZOK797C"
      },
      "execution_count": 11,
      "outputs": []
    },
    {
      "cell_type": "markdown",
      "source": [
        "## Dataset analysis and report on important statistics.\n"
      ],
      "metadata": {
        "id": "buVcxVzL8AH1"
      }
    },
    {
      "cell_type": "markdown",
      "source": [
        "## Proper hyper-parameter tuning based on the validation set"
      ],
      "metadata": {
        "id": "awYFAPHv8Bnp"
      }
    },
    {
      "cell_type": "markdown",
      "source": [
        "## Classification analysis and possible improvements.\n"
      ],
      "metadata": {
        "id": "swOy-Zou8EVB"
      }
    },
    {
      "cell_type": "markdown",
      "source": [
        "## Final results on the test set."
      ],
      "metadata": {
        "id": "bpqcm6Qu8IJh"
      }
    }
  ]
}