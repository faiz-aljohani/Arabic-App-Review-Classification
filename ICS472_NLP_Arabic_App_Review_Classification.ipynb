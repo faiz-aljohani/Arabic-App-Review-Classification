{
  "nbformat": 4,
  "nbformat_minor": 0,
  "metadata": {
    "colab": {
      "provenance": [],
      "authorship_tag": "ABX9TyMivR+pmqYUqPACyujacBFv"
    },
    "kernelspec": {
      "name": "python3",
      "display_name": "Python 3"
    },
    "language_info": {
      "name": "python"
    }
  },
  "cells": [
    {
      "cell_type": "markdown",
      "source": [
        "# Part-B [65 points]:\n",
        " Multiclass and Multilabel App Review Classification"
      ],
      "metadata": {
        "id": "KnAPPiwR7R1U"
      }
    },
    {
      "cell_type": "markdown",
      "source": [
        "## Setup & Load Dataset"
      ],
      "metadata": {
        "id": "P0fHU09I7Y5S"
      }
    },
    {
      "cell_type": "code",
      "execution_count": null,
      "metadata": {
        "id": "3HkR473q7J3O"
      },
      "outputs": [],
      "source": [
        "import sklearn\n",
        "dataset ="
      ]
    },
    {
      "cell_type": "code",
      "source": [],
      "metadata": {
        "id": "PwlMElFR7cqc"
      },
      "execution_count": null,
      "outputs": []
    },
    {
      "cell_type": "markdown",
      "source": [
        "## Split the dataset train/val/test...\n",
        "80-20 Train Test. Take 15% of training data as validation set.\n",
        "Use seed 777 for partitioning."
      ],
      "metadata": {
        "id": "fkh2HcXU7c3S"
      }
    },
    {
      "cell_type": "code",
      "source": [],
      "metadata": {
        "id": "NB-r3Pm37mtb"
      },
      "execution_count": null,
      "outputs": []
    },
    {
      "cell_type": "code",
      "source": [],
      "metadata": {
        "id": "kZvMPZOK797C"
      },
      "execution_count": null,
      "outputs": []
    },
    {
      "cell_type": "markdown",
      "source": [
        "## Dataset analysis and report on important statistics.\n"
      ],
      "metadata": {
        "id": "buVcxVzL8AH1"
      }
    },
    {
      "cell_type": "markdown",
      "source": [
        "## Proper hyper-parameter tuning based on the validation set"
      ],
      "metadata": {
        "id": "awYFAPHv8Bnp"
      }
    },
    {
      "cell_type": "markdown",
      "source": [
        "## Classification analysis and possible improvements.\n"
      ],
      "metadata": {
        "id": "swOy-Zou8EVB"
      }
    },
    {
      "cell_type": "markdown",
      "source": [
        "## Final results on the test set."
      ],
      "metadata": {
        "id": "bpqcm6Qu8IJh"
      }
    }
  ]
}